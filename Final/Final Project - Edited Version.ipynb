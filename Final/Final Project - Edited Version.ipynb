{
 "cells": [
  {
   "cell_type": "code",
   "execution_count": 1,
   "metadata": {},
   "outputs": [
    {
     "name": "stderr",
     "output_type": "stream",
     "text": [
      "/Users/paulszewczyk/anaconda3/lib/python3.6/site-packages/sklearn/cross_validation.py:41: DeprecationWarning: This module was deprecated in version 0.18 in favor of the model_selection module into which all the refactored classes and functions are moved. Also note that the interface of the new CV iterators are different from that of this module. This module will be removed in 0.20.\n",
      "  \"This module will be removed in 0.20.\", DeprecationWarning)\n"
     ]
    }
   ],
   "source": [
    "%matplotlib inline\n",
    "import matplotlib.pyplot as plt\n",
    "import numpy as np\n",
    "import pandas as pd\n",
    "import seaborn as sns\n",
    "from sklearn.tree import DecisionTreeClassifier\n",
    "from sklearn.neighbors import KNeighborsClassifier\n",
    "from sklearn.cluster import KMeans\n",
    "from sklearn.metrics import accuracy_score\n",
    "from sklearn.model_selection import train_test_split\n",
    "from sklearn.linear_model import LinearRegression, LogisticRegression, ElasticNet, Lasso\n",
    "from sklearn.model_selection import GridSearchCV\n",
    "from sklearn.metrics import classification_report\n",
    "from sklearn.cross_validation import cross_val_predict, cross_val_score\n",
    "from sklearn.metrics import classification_report, confusion_matrix\n",
    "from sklearn.ensemble import RandomForestClassifier\n",
    "from sklearn.model_selection import KFold\n",
    "from sklearn.metrics import f1_score\n",
    "from sklearn.metrics import mean_squared_error\n",
    "from sklearn.preprocessing import MinMaxScaler, StandardScaler\n",
    "import statsmodels.formula.api as smf\n",
    "import statsmodels as sm\n",
    "\n",
    "from sklearn.externals.six import StringIO  \n",
    "from IPython.display import Image  \n",
    "from sklearn.tree import export_graphviz\n",
    "import pydotplus"
   ]
  },
  {
   "cell_type": "markdown",
   "metadata": {},
   "source": [
    "Importing Special Features"
   ]
  },
  {
   "cell_type": "code",
   "execution_count": 2,
   "metadata": {},
   "outputs": [
    {
     "name": "stdout",
     "output_type": "stream",
     "text": [
      "<class 'pandas.core.frame.DataFrame'>\n",
      "RangeIndex: 73861 entries, 0 to 73860\n",
      "Data columns (total 23 columns):\n",
      "BeerID           73861 non-null int64\n",
      "Name             73860 non-null object\n",
      "URL              73861 non-null object\n",
      "Style            73265 non-null object\n",
      "StyleID          73861 non-null int64\n",
      "Size(L)          73861 non-null float64\n",
      "OG               73861 non-null float64\n",
      "FG               73861 non-null float64\n",
      "ABV              73861 non-null float64\n",
      "IBU              73861 non-null float64\n",
      "Color            73861 non-null float64\n",
      "BoilSize         73861 non-null float64\n",
      "BoilTime         73861 non-null int64\n",
      "BoilGravity      70871 non-null float64\n",
      "Efficiency       73861 non-null float64\n",
      "MashThickness    43997 non-null float64\n",
      "SugarScale       73861 non-null object\n",
      "BrewMethod       73861 non-null object\n",
      "PitchRate        34609 non-null float64\n",
      "PrimaryTemp      51199 non-null float64\n",
      "PrimingMethod    6766 non-null object\n",
      "PrimingAmount    4774 non-null object\n",
      "UserId           23371 non-null float64\n",
      "dtypes: float64(13), int64(3), object(7)\n",
      "memory usage: 13.0+ MB\n"
     ]
    }
   ],
   "source": [
    "df=pd.read_csv('recipeData.csv',encoding='latin1')\n",
    "df.head()\n",
    "df.info()"
   ]
  },
  {
   "cell_type": "markdown",
   "metadata": {},
   "source": [
    "The data is 73861 rows long.\n",
    "There are two columns, PrimingMethod & PrimingAmount, that has a lot of null values. To keep this going, I will be dropping these values, as well as the UserId"
   ]
  },
  {
   "cell_type": "code",
   "execution_count": 3,
   "metadata": {
    "collapsed": true
   },
   "outputs": [],
   "source": [
    "\n",
    "df = df.fillna(df.median())\n",
    "df = df.drop('PrimingMethod',axis = 1)\n",
    "df = df.drop('PrimingAmount', axis = 1)\n",
    "df = df.drop('UserId',axis=1)\n",
    "df = df.dropna()\n",
    "\n",
    "#There is a lot of null values and this will allow me to remove all of the null values"
   ]
  },
  {
   "cell_type": "code",
   "execution_count": 4,
   "metadata": {},
   "outputs": [
    {
     "data": {
      "text/plain": [
       "Specific Gravity    71379\n",
       "Plato                1885\n",
       "Name: SugarScale, dtype: int64"
      ]
     },
     "execution_count": 4,
     "metadata": {},
     "output_type": "execute_result"
    }
   ],
   "source": [
    "df.SugarScale.value_counts() #understanding null values"
   ]
  },
  {
   "cell_type": "code",
   "execution_count": 5,
   "metadata": {
    "collapsed": true
   },
   "outputs": [],
   "source": [
    "df['Sugar'] = pd.get_dummies(df.SugarScale,drop_first=True)\n",
    "brew_dummies= pd.get_dummies(df.BrewMethod)\n",
    "df['All Grain'] = brew_dummies['All Grain']\n",
    "df['BIAB'] = brew_dummies['BIAB']\n",
    "df['Partial Mash'] = brew_dummies['Partial Mash']\n",
    "df['extract'] = brew_dummies['extract'] #creating new coluns to account for Brewing Method\n",
    "#Replacing them with new numeric values"
   ]
  },
  {
   "cell_type": "code",
   "execution_count": 6,
   "metadata": {
    "collapsed": true
   },
   "outputs": [],
   "source": [
    "df['IPA'] = np.where(df['Style'].str.contains('IPA'),1,0)\n",
    "df['Stout'] = np.where(df['Style'].str.contains('Stout'),1,0)\n",
    "df['Cider'] = np.where(df['Style'].str.contains('Cider'),1,0)\n",
    "df['Lager'] = np.where(df['Style'].str.contains('Lager'),1,0)\n",
    "df['Pilsner'] = np.where(df['Style'].str.contains('Pilsner'),1,0)\n",
    "df['Wheat'] = np.where(df['Style'].str.contains('Wheat'),1,0) #creating new columns for the logistic regression\n",
    "df1 = df.copy()\n",
    "df2=df.copy() #new dataframe"
   ]
  },
  {
   "cell_type": "code",
   "execution_count": 7,
   "metadata": {},
   "outputs": [
    {
     "data": {
      "text/html": [
       "<div>\n",
       "<style scoped>\n",
       "    .dataframe tbody tr th:only-of-type {\n",
       "        vertical-align: middle;\n",
       "    }\n",
       "\n",
       "    .dataframe tbody tr th {\n",
       "        vertical-align: top;\n",
       "    }\n",
       "\n",
       "    .dataframe thead th {\n",
       "        text-align: right;\n",
       "    }\n",
       "</style>\n",
       "<table border=\"1\" class=\"dataframe\">\n",
       "  <thead>\n",
       "    <tr style=\"text-align: right;\">\n",
       "      <th></th>\n",
       "      <th>BeerID</th>\n",
       "      <th>StyleID</th>\n",
       "      <th>Size(L)</th>\n",
       "      <th>OG</th>\n",
       "      <th>FG</th>\n",
       "      <th>ABV</th>\n",
       "      <th>IBU</th>\n",
       "      <th>Color</th>\n",
       "      <th>BoilSize</th>\n",
       "      <th>BoilTime</th>\n",
       "      <th>...</th>\n",
       "      <th>All Grain</th>\n",
       "      <th>BIAB</th>\n",
       "      <th>Partial Mash</th>\n",
       "      <th>extract</th>\n",
       "      <th>IPA</th>\n",
       "      <th>Stout</th>\n",
       "      <th>Cider</th>\n",
       "      <th>Lager</th>\n",
       "      <th>Pilsner</th>\n",
       "      <th>Wheat</th>\n",
       "    </tr>\n",
       "  </thead>\n",
       "  <tbody>\n",
       "    <tr>\n",
       "      <th>BeerID</th>\n",
       "      <td>1.000000</td>\n",
       "      <td>-0.073123</td>\n",
       "      <td>0.002055</td>\n",
       "      <td>-0.025490</td>\n",
       "      <td>-0.031332</td>\n",
       "      <td>-0.053099</td>\n",
       "      <td>-0.022177</td>\n",
       "      <td>-0.046157</td>\n",
       "      <td>0.002923</td>\n",
       "      <td>-0.045706</td>\n",
       "      <td>...</td>\n",
       "      <td>0.015167</td>\n",
       "      <td>0.047779</td>\n",
       "      <td>-0.051655</td>\n",
       "      <td>-0.042961</td>\n",
       "      <td>0.019168</td>\n",
       "      <td>-0.016712</td>\n",
       "      <td>-0.029159</td>\n",
       "      <td>0.113933</td>\n",
       "      <td>-0.012444</td>\n",
       "      <td>-0.021351</td>\n",
       "    </tr>\n",
       "    <tr>\n",
       "      <th>StyleID</th>\n",
       "      <td>-0.073123</td>\n",
       "      <td>1.000000</td>\n",
       "      <td>-0.006248</td>\n",
       "      <td>0.002742</td>\n",
       "      <td>0.007091</td>\n",
       "      <td>0.007434</td>\n",
       "      <td>-0.144485</td>\n",
       "      <td>0.167929</td>\n",
       "      <td>-0.005995</td>\n",
       "      <td>0.079929</td>\n",
       "      <td>...</td>\n",
       "      <td>0.013326</td>\n",
       "      <td>-0.000924</td>\n",
       "      <td>0.008074</td>\n",
       "      <td>-0.023730</td>\n",
       "      <td>-0.233578</td>\n",
       "      <td>0.165676</td>\n",
       "      <td>0.007649</td>\n",
       "      <td>-0.063548</td>\n",
       "      <td>0.014603</td>\n",
       "      <td>-0.093754</td>\n",
       "    </tr>\n",
       "    <tr>\n",
       "      <th>Size(L)</th>\n",
       "      <td>0.002055</td>\n",
       "      <td>-0.006248</td>\n",
       "      <td>1.000000</td>\n",
       "      <td>0.161092</td>\n",
       "      <td>0.143493</td>\n",
       "      <td>-0.013559</td>\n",
       "      <td>-0.031297</td>\n",
       "      <td>-0.018027</td>\n",
       "      <td>0.994130</td>\n",
       "      <td>0.044319</td>\n",
       "      <td>...</td>\n",
       "      <td>0.091325</td>\n",
       "      <td>-0.057977</td>\n",
       "      <td>-0.027030</td>\n",
       "      <td>-0.048825</td>\n",
       "      <td>-0.005374</td>\n",
       "      <td>-0.007575</td>\n",
       "      <td>-0.007403</td>\n",
       "      <td>0.035159</td>\n",
       "      <td>0.001382</td>\n",
       "      <td>-0.003440</td>\n",
       "    </tr>\n",
       "    <tr>\n",
       "      <th>OG</th>\n",
       "      <td>-0.025490</td>\n",
       "      <td>0.002742</td>\n",
       "      <td>0.161092</td>\n",
       "      <td>1.000000</td>\n",
       "      <td>0.947101</td>\n",
       "      <td>0.030531</td>\n",
       "      <td>-0.001688</td>\n",
       "      <td>0.013867</td>\n",
       "      <td>0.163952</td>\n",
       "      <td>0.032138</td>\n",
       "      <td>...</td>\n",
       "      <td>0.074968</td>\n",
       "      <td>-0.042466</td>\n",
       "      <td>-0.023379</td>\n",
       "      <td>-0.045189</td>\n",
       "      <td>0.003578</td>\n",
       "      <td>0.015330</td>\n",
       "      <td>-0.005312</td>\n",
       "      <td>0.006278</td>\n",
       "      <td>-0.002754</td>\n",
       "      <td>-0.001726</td>\n",
       "    </tr>\n",
       "    <tr>\n",
       "      <th>FG</th>\n",
       "      <td>-0.031332</td>\n",
       "      <td>0.007091</td>\n",
       "      <td>0.143493</td>\n",
       "      <td>0.947101</td>\n",
       "      <td>1.000000</td>\n",
       "      <td>0.030034</td>\n",
       "      <td>-0.000198</td>\n",
       "      <td>0.031220</td>\n",
       "      <td>0.144821</td>\n",
       "      <td>0.032104</td>\n",
       "      <td>...</td>\n",
       "      <td>0.069878</td>\n",
       "      <td>-0.039998</td>\n",
       "      <td>-0.021417</td>\n",
       "      <td>-0.041891</td>\n",
       "      <td>-0.000854</td>\n",
       "      <td>0.032365</td>\n",
       "      <td>-0.006673</td>\n",
       "      <td>0.000970</td>\n",
       "      <td>-0.005523</td>\n",
       "      <td>-0.003880</td>\n",
       "    </tr>\n",
       "    <tr>\n",
       "      <th>ABV</th>\n",
       "      <td>-0.053099</td>\n",
       "      <td>0.007434</td>\n",
       "      <td>-0.013559</td>\n",
       "      <td>0.030531</td>\n",
       "      <td>0.030034</td>\n",
       "      <td>1.000000</td>\n",
       "      <td>0.282502</td>\n",
       "      <td>0.270414</td>\n",
       "      <td>-0.009858</td>\n",
       "      <td>0.120464</td>\n",
       "      <td>...</td>\n",
       "      <td>0.023404</td>\n",
       "      <td>-0.030472</td>\n",
       "      <td>0.009184</td>\n",
       "      <td>-0.005202</td>\n",
       "      <td>0.167061</td>\n",
       "      <td>0.139769</td>\n",
       "      <td>0.028381</td>\n",
       "      <td>-0.086966</td>\n",
       "      <td>-0.043755</td>\n",
       "      <td>-0.051378</td>\n",
       "    </tr>\n",
       "    <tr>\n",
       "      <th>IBU</th>\n",
       "      <td>-0.022177</td>\n",
       "      <td>-0.144485</td>\n",
       "      <td>-0.031297</td>\n",
       "      <td>-0.001688</td>\n",
       "      <td>-0.000198</td>\n",
       "      <td>0.282502</td>\n",
       "      <td>1.000000</td>\n",
       "      <td>0.062148</td>\n",
       "      <td>-0.029663</td>\n",
       "      <td>0.079896</td>\n",
       "      <td>...</td>\n",
       "      <td>0.001314</td>\n",
       "      <td>-0.006009</td>\n",
       "      <td>-0.002695</td>\n",
       "      <td>0.006773</td>\n",
       "      <td>0.428192</td>\n",
       "      <td>0.040853</td>\n",
       "      <td>-0.049445</td>\n",
       "      <td>-0.086535</td>\n",
       "      <td>-0.024519</td>\n",
       "      <td>-0.057219</td>\n",
       "    </tr>\n",
       "    <tr>\n",
       "      <th>Color</th>\n",
       "      <td>-0.046157</td>\n",
       "      <td>0.167929</td>\n",
       "      <td>-0.018027</td>\n",
       "      <td>0.013867</td>\n",
       "      <td>0.031220</td>\n",
       "      <td>0.270414</td>\n",
       "      <td>0.062148</td>\n",
       "      <td>1.000000</td>\n",
       "      <td>-0.016752</td>\n",
       "      <td>0.057795</td>\n",
       "      <td>...</td>\n",
       "      <td>0.006791</td>\n",
       "      <td>-0.010084</td>\n",
       "      <td>0.021703</td>\n",
       "      <td>-0.012658</td>\n",
       "      <td>-0.164103</td>\n",
       "      <td>0.653817</td>\n",
       "      <td>-0.024867</td>\n",
       "      <td>-0.089594</td>\n",
       "      <td>-0.073968</td>\n",
       "      <td>-0.088049</td>\n",
       "    </tr>\n",
       "    <tr>\n",
       "      <th>BoilSize</th>\n",
       "      <td>0.002923</td>\n",
       "      <td>-0.005995</td>\n",
       "      <td>0.994130</td>\n",
       "      <td>0.163952</td>\n",
       "      <td>0.144821</td>\n",
       "      <td>-0.009858</td>\n",
       "      <td>-0.029663</td>\n",
       "      <td>-0.016752</td>\n",
       "      <td>1.000000</td>\n",
       "      <td>0.050637</td>\n",
       "      <td>...</td>\n",
       "      <td>0.104054</td>\n",
       "      <td>-0.054719</td>\n",
       "      <td>-0.036471</td>\n",
       "      <td>-0.064919</td>\n",
       "      <td>-0.005126</td>\n",
       "      <td>-0.007322</td>\n",
       "      <td>-0.008656</td>\n",
       "      <td>0.034082</td>\n",
       "      <td>0.000176</td>\n",
       "      <td>-0.003629</td>\n",
       "    </tr>\n",
       "    <tr>\n",
       "      <th>BoilTime</th>\n",
       "      <td>-0.045706</td>\n",
       "      <td>0.079929</td>\n",
       "      <td>0.044319</td>\n",
       "      <td>0.032138</td>\n",
       "      <td>0.032104</td>\n",
       "      <td>0.120464</td>\n",
       "      <td>0.079896</td>\n",
       "      <td>0.057795</td>\n",
       "      <td>0.050637</td>\n",
       "      <td>1.000000</td>\n",
       "      <td>...</td>\n",
       "      <td>0.167687</td>\n",
       "      <td>-0.020642</td>\n",
       "      <td>-0.060780</td>\n",
       "      <td>-0.180957</td>\n",
       "      <td>-0.021791</td>\n",
       "      <td>0.028046</td>\n",
       "      <td>-0.118514</td>\n",
       "      <td>-0.013006</td>\n",
       "      <td>0.039083</td>\n",
       "      <td>-0.019940</td>\n",
       "    </tr>\n",
       "    <tr>\n",
       "      <th>BoilGravity</th>\n",
       "      <td>-0.021566</td>\n",
       "      <td>0.001086</td>\n",
       "      <td>0.175850</td>\n",
       "      <td>0.962655</td>\n",
       "      <td>0.912866</td>\n",
       "      <td>0.025575</td>\n",
       "      <td>-0.005514</td>\n",
       "      <td>0.012503</td>\n",
       "      <td>0.175733</td>\n",
       "      <td>0.027443</td>\n",
       "      <td>...</td>\n",
       "      <td>0.066235</td>\n",
       "      <td>-0.044647</td>\n",
       "      <td>-0.016427</td>\n",
       "      <td>-0.034521</td>\n",
       "      <td>0.002372</td>\n",
       "      <td>0.015443</td>\n",
       "      <td>-0.007377</td>\n",
       "      <td>0.009443</td>\n",
       "      <td>-0.002892</td>\n",
       "      <td>-0.000310</td>\n",
       "    </tr>\n",
       "    <tr>\n",
       "      <th>Efficiency</th>\n",
       "      <td>-0.008810</td>\n",
       "      <td>0.020400</td>\n",
       "      <td>0.109147</td>\n",
       "      <td>0.067906</td>\n",
       "      <td>0.062034</td>\n",
       "      <td>0.048193</td>\n",
       "      <td>-0.032648</td>\n",
       "      <td>-0.017765</td>\n",
       "      <td>0.122405</td>\n",
       "      <td>0.161862</td>\n",
       "      <td>...</td>\n",
       "      <td>0.458003</td>\n",
       "      <td>0.095001</td>\n",
       "      <td>-0.103088</td>\n",
       "      <td>-0.709886</td>\n",
       "      <td>-0.007941</td>\n",
       "      <td>-0.008529</td>\n",
       "      <td>-0.029566</td>\n",
       "      <td>-0.007842</td>\n",
       "      <td>0.008065</td>\n",
       "      <td>-0.010664</td>\n",
       "    </tr>\n",
       "    <tr>\n",
       "      <th>MashThickness</th>\n",
       "      <td>0.053995</td>\n",
       "      <td>0.004658</td>\n",
       "      <td>0.038251</td>\n",
       "      <td>0.057616</td>\n",
       "      <td>0.049796</td>\n",
       "      <td>-0.047102</td>\n",
       "      <td>-0.032079</td>\n",
       "      <td>-0.030656</td>\n",
       "      <td>0.039452</td>\n",
       "      <td>0.039288</td>\n",
       "      <td>...</td>\n",
       "      <td>0.195535</td>\n",
       "      <td>-0.123739</td>\n",
       "      <td>-0.062441</td>\n",
       "      <td>-0.101973</td>\n",
       "      <td>-0.017117</td>\n",
       "      <td>-0.013882</td>\n",
       "      <td>-0.011473</td>\n",
       "      <td>0.022414</td>\n",
       "      <td>0.026876</td>\n",
       "      <td>-0.018089</td>\n",
       "    </tr>\n",
       "    <tr>\n",
       "      <th>PitchRate</th>\n",
       "      <td>-0.021730</td>\n",
       "      <td>0.054632</td>\n",
       "      <td>0.016685</td>\n",
       "      <td>0.014161</td>\n",
       "      <td>0.009005</td>\n",
       "      <td>0.088952</td>\n",
       "      <td>0.001675</td>\n",
       "      <td>0.010719</td>\n",
       "      <td>0.019661</td>\n",
       "      <td>0.138543</td>\n",
       "      <td>...</td>\n",
       "      <td>0.070285</td>\n",
       "      <td>-0.001910</td>\n",
       "      <td>-0.030658</td>\n",
       "      <td>-0.080177</td>\n",
       "      <td>-0.040577</td>\n",
       "      <td>-0.001817</td>\n",
       "      <td>-0.004346</td>\n",
       "      <td>0.124960</td>\n",
       "      <td>0.093821</td>\n",
       "      <td>-0.029927</td>\n",
       "    </tr>\n",
       "    <tr>\n",
       "      <th>PrimaryTemp</th>\n",
       "      <td>0.002512</td>\n",
       "      <td>-0.018087</td>\n",
       "      <td>0.006447</td>\n",
       "      <td>0.001389</td>\n",
       "      <td>0.004975</td>\n",
       "      <td>0.047147</td>\n",
       "      <td>0.026122</td>\n",
       "      <td>0.022975</td>\n",
       "      <td>0.005245</td>\n",
       "      <td>-0.075639</td>\n",
       "      <td>...</td>\n",
       "      <td>-0.023072</td>\n",
       "      <td>-0.024489</td>\n",
       "      <td>0.017610</td>\n",
       "      <td>0.050215</td>\n",
       "      <td>0.042525</td>\n",
       "      <td>0.020423</td>\n",
       "      <td>0.011917</td>\n",
       "      <td>-0.129367</td>\n",
       "      <td>-0.130603</td>\n",
       "      <td>0.009163</td>\n",
       "    </tr>\n",
       "    <tr>\n",
       "      <th>Sugar</th>\n",
       "      <td>0.020068</td>\n",
       "      <td>-0.003256</td>\n",
       "      <td>-0.163916</td>\n",
       "      <td>-0.967068</td>\n",
       "      <td>-0.892214</td>\n",
       "      <td>0.010989</td>\n",
       "      <td>0.015327</td>\n",
       "      <td>0.004998</td>\n",
       "      <td>-0.165837</td>\n",
       "      <td>-0.027383</td>\n",
       "      <td>...</td>\n",
       "      <td>-0.076333</td>\n",
       "      <td>0.041463</td>\n",
       "      <td>0.025669</td>\n",
       "      <td>0.046821</td>\n",
       "      <td>0.005107</td>\n",
       "      <td>-0.003411</td>\n",
       "      <td>0.004927</td>\n",
       "      <td>-0.013583</td>\n",
       "      <td>0.000285</td>\n",
       "      <td>-0.000944</td>\n",
       "    </tr>\n",
       "    <tr>\n",
       "      <th>All Grain</th>\n",
       "      <td>0.015167</td>\n",
       "      <td>0.013326</td>\n",
       "      <td>0.091325</td>\n",
       "      <td>0.074968</td>\n",
       "      <td>0.069878</td>\n",
       "      <td>0.023404</td>\n",
       "      <td>0.001314</td>\n",
       "      <td>0.006791</td>\n",
       "      <td>0.104054</td>\n",
       "      <td>0.167687</td>\n",
       "      <td>...</td>\n",
       "      <td>1.000000</td>\n",
       "      <td>-0.632825</td>\n",
       "      <td>-0.319333</td>\n",
       "      <td>-0.521511</td>\n",
       "      <td>0.006919</td>\n",
       "      <td>-0.004292</td>\n",
       "      <td>-0.034460</td>\n",
       "      <td>0.003353</td>\n",
       "      <td>0.007770</td>\n",
       "      <td>-0.009870</td>\n",
       "    </tr>\n",
       "    <tr>\n",
       "      <th>BIAB</th>\n",
       "      <td>0.047779</td>\n",
       "      <td>-0.000924</td>\n",
       "      <td>-0.057977</td>\n",
       "      <td>-0.042466</td>\n",
       "      <td>-0.039998</td>\n",
       "      <td>-0.030472</td>\n",
       "      <td>-0.006009</td>\n",
       "      <td>-0.010084</td>\n",
       "      <td>-0.054719</td>\n",
       "      <td>-0.020642</td>\n",
       "      <td>...</td>\n",
       "      <td>-0.632825</td>\n",
       "      <td>1.000000</td>\n",
       "      <td>-0.098467</td>\n",
       "      <td>-0.160809</td>\n",
       "      <td>-0.005773</td>\n",
       "      <td>-0.001503</td>\n",
       "      <td>-0.009549</td>\n",
       "      <td>-0.001131</td>\n",
       "      <td>-0.003438</td>\n",
       "      <td>-0.001616</td>\n",
       "    </tr>\n",
       "    <tr>\n",
       "      <th>Partial Mash</th>\n",
       "      <td>-0.051655</td>\n",
       "      <td>0.008074</td>\n",
       "      <td>-0.027030</td>\n",
       "      <td>-0.023379</td>\n",
       "      <td>-0.021417</td>\n",
       "      <td>0.009184</td>\n",
       "      <td>-0.002695</td>\n",
       "      <td>0.021703</td>\n",
       "      <td>-0.036471</td>\n",
       "      <td>-0.060780</td>\n",
       "      <td>...</td>\n",
       "      <td>-0.319333</td>\n",
       "      <td>-0.098467</td>\n",
       "      <td>1.000000</td>\n",
       "      <td>-0.081146</td>\n",
       "      <td>-0.005434</td>\n",
       "      <td>0.011329</td>\n",
       "      <td>0.003730</td>\n",
       "      <td>-0.012444</td>\n",
       "      <td>0.001444</td>\n",
       "      <td>0.002009</td>\n",
       "    </tr>\n",
       "    <tr>\n",
       "      <th>extract</th>\n",
       "      <td>-0.042961</td>\n",
       "      <td>-0.023730</td>\n",
       "      <td>-0.048825</td>\n",
       "      <td>-0.045189</td>\n",
       "      <td>-0.041891</td>\n",
       "      <td>-0.005202</td>\n",
       "      <td>0.006773</td>\n",
       "      <td>-0.012658</td>\n",
       "      <td>-0.064919</td>\n",
       "      <td>-0.180957</td>\n",
       "      <td>...</td>\n",
       "      <td>-0.521511</td>\n",
       "      <td>-0.160809</td>\n",
       "      <td>-0.081146</td>\n",
       "      <td>1.000000</td>\n",
       "      <td>0.000126</td>\n",
       "      <td>0.000512</td>\n",
       "      <td>0.058833</td>\n",
       "      <td>0.004626</td>\n",
       "      <td>-0.008346</td>\n",
       "      <td>0.014943</td>\n",
       "    </tr>\n",
       "    <tr>\n",
       "      <th>IPA</th>\n",
       "      <td>0.019168</td>\n",
       "      <td>-0.233578</td>\n",
       "      <td>-0.005374</td>\n",
       "      <td>0.003578</td>\n",
       "      <td>-0.000854</td>\n",
       "      <td>0.167061</td>\n",
       "      <td>0.428192</td>\n",
       "      <td>-0.164103</td>\n",
       "      <td>-0.005126</td>\n",
       "      <td>-0.021791</td>\n",
       "      <td>...</td>\n",
       "      <td>0.006919</td>\n",
       "      <td>-0.005773</td>\n",
       "      <td>-0.005434</td>\n",
       "      <td>0.000126</td>\n",
       "      <td>1.000000</td>\n",
       "      <td>-0.163884</td>\n",
       "      <td>-0.028172</td>\n",
       "      <td>-0.134334</td>\n",
       "      <td>-0.053056</td>\n",
       "      <td>-0.073068</td>\n",
       "    </tr>\n",
       "    <tr>\n",
       "      <th>Stout</th>\n",
       "      <td>-0.016712</td>\n",
       "      <td>0.165676</td>\n",
       "      <td>-0.007575</td>\n",
       "      <td>0.015330</td>\n",
       "      <td>0.032365</td>\n",
       "      <td>0.139769</td>\n",
       "      <td>0.040853</td>\n",
       "      <td>0.653817</td>\n",
       "      <td>-0.007322</td>\n",
       "      <td>0.028046</td>\n",
       "      <td>...</td>\n",
       "      <td>-0.004292</td>\n",
       "      <td>-0.001503</td>\n",
       "      <td>0.011329</td>\n",
       "      <td>0.000512</td>\n",
       "      <td>-0.163884</td>\n",
       "      <td>1.000000</td>\n",
       "      <td>-0.015206</td>\n",
       "      <td>-0.072506</td>\n",
       "      <td>-0.028637</td>\n",
       "      <td>-0.039439</td>\n",
       "    </tr>\n",
       "    <tr>\n",
       "      <th>Cider</th>\n",
       "      <td>-0.029159</td>\n",
       "      <td>0.007649</td>\n",
       "      <td>-0.007403</td>\n",
       "      <td>-0.005312</td>\n",
       "      <td>-0.006673</td>\n",
       "      <td>0.028381</td>\n",
       "      <td>-0.049445</td>\n",
       "      <td>-0.024867</td>\n",
       "      <td>-0.008656</td>\n",
       "      <td>-0.118514</td>\n",
       "      <td>...</td>\n",
       "      <td>-0.034460</td>\n",
       "      <td>-0.009549</td>\n",
       "      <td>0.003730</td>\n",
       "      <td>0.058833</td>\n",
       "      <td>-0.028172</td>\n",
       "      <td>-0.015206</td>\n",
       "      <td>1.000000</td>\n",
       "      <td>-0.012464</td>\n",
       "      <td>-0.004923</td>\n",
       "      <td>-0.006779</td>\n",
       "    </tr>\n",
       "    <tr>\n",
       "      <th>Lager</th>\n",
       "      <td>0.113933</td>\n",
       "      <td>-0.063548</td>\n",
       "      <td>0.035159</td>\n",
       "      <td>0.006278</td>\n",
       "      <td>0.000970</td>\n",
       "      <td>-0.086966</td>\n",
       "      <td>-0.086535</td>\n",
       "      <td>-0.089594</td>\n",
       "      <td>0.034082</td>\n",
       "      <td>-0.013006</td>\n",
       "      <td>...</td>\n",
       "      <td>0.003353</td>\n",
       "      <td>-0.001131</td>\n",
       "      <td>-0.012444</td>\n",
       "      <td>0.004626</td>\n",
       "      <td>-0.134334</td>\n",
       "      <td>-0.072506</td>\n",
       "      <td>-0.012464</td>\n",
       "      <td>1.000000</td>\n",
       "      <td>-0.023474</td>\n",
       "      <td>-0.032327</td>\n",
       "    </tr>\n",
       "    <tr>\n",
       "      <th>Pilsner</th>\n",
       "      <td>-0.012444</td>\n",
       "      <td>0.014603</td>\n",
       "      <td>0.001382</td>\n",
       "      <td>-0.002754</td>\n",
       "      <td>-0.005523</td>\n",
       "      <td>-0.043755</td>\n",
       "      <td>-0.024519</td>\n",
       "      <td>-0.073968</td>\n",
       "      <td>0.000176</td>\n",
       "      <td>0.039083</td>\n",
       "      <td>...</td>\n",
       "      <td>0.007770</td>\n",
       "      <td>-0.003438</td>\n",
       "      <td>0.001444</td>\n",
       "      <td>-0.008346</td>\n",
       "      <td>-0.053056</td>\n",
       "      <td>-0.028637</td>\n",
       "      <td>-0.004923</td>\n",
       "      <td>-0.023474</td>\n",
       "      <td>1.000000</td>\n",
       "      <td>-0.012768</td>\n",
       "    </tr>\n",
       "    <tr>\n",
       "      <th>Wheat</th>\n",
       "      <td>-0.021351</td>\n",
       "      <td>-0.093754</td>\n",
       "      <td>-0.003440</td>\n",
       "      <td>-0.001726</td>\n",
       "      <td>-0.003880</td>\n",
       "      <td>-0.051378</td>\n",
       "      <td>-0.057219</td>\n",
       "      <td>-0.088049</td>\n",
       "      <td>-0.003629</td>\n",
       "      <td>-0.019940</td>\n",
       "      <td>...</td>\n",
       "      <td>-0.009870</td>\n",
       "      <td>-0.001616</td>\n",
       "      <td>0.002009</td>\n",
       "      <td>0.014943</td>\n",
       "      <td>-0.073068</td>\n",
       "      <td>-0.039439</td>\n",
       "      <td>-0.006779</td>\n",
       "      <td>-0.032327</td>\n",
       "      <td>-0.012768</td>\n",
       "      <td>1.000000</td>\n",
       "    </tr>\n",
       "  </tbody>\n",
       "</table>\n",
       "<p>26 rows × 26 columns</p>\n",
       "</div>"
      ],
      "text/plain": [
       "                 BeerID   StyleID   Size(L)        OG        FG       ABV  \\\n",
       "BeerID         1.000000 -0.073123  0.002055 -0.025490 -0.031332 -0.053099   \n",
       "StyleID       -0.073123  1.000000 -0.006248  0.002742  0.007091  0.007434   \n",
       "Size(L)        0.002055 -0.006248  1.000000  0.161092  0.143493 -0.013559   \n",
       "OG            -0.025490  0.002742  0.161092  1.000000  0.947101  0.030531   \n",
       "FG            -0.031332  0.007091  0.143493  0.947101  1.000000  0.030034   \n",
       "ABV           -0.053099  0.007434 -0.013559  0.030531  0.030034  1.000000   \n",
       "IBU           -0.022177 -0.144485 -0.031297 -0.001688 -0.000198  0.282502   \n",
       "Color         -0.046157  0.167929 -0.018027  0.013867  0.031220  0.270414   \n",
       "BoilSize       0.002923 -0.005995  0.994130  0.163952  0.144821 -0.009858   \n",
       "BoilTime      -0.045706  0.079929  0.044319  0.032138  0.032104  0.120464   \n",
       "BoilGravity   -0.021566  0.001086  0.175850  0.962655  0.912866  0.025575   \n",
       "Efficiency    -0.008810  0.020400  0.109147  0.067906  0.062034  0.048193   \n",
       "MashThickness  0.053995  0.004658  0.038251  0.057616  0.049796 -0.047102   \n",
       "PitchRate     -0.021730  0.054632  0.016685  0.014161  0.009005  0.088952   \n",
       "PrimaryTemp    0.002512 -0.018087  0.006447  0.001389  0.004975  0.047147   \n",
       "Sugar          0.020068 -0.003256 -0.163916 -0.967068 -0.892214  0.010989   \n",
       "All Grain      0.015167  0.013326  0.091325  0.074968  0.069878  0.023404   \n",
       "BIAB           0.047779 -0.000924 -0.057977 -0.042466 -0.039998 -0.030472   \n",
       "Partial Mash  -0.051655  0.008074 -0.027030 -0.023379 -0.021417  0.009184   \n",
       "extract       -0.042961 -0.023730 -0.048825 -0.045189 -0.041891 -0.005202   \n",
       "IPA            0.019168 -0.233578 -0.005374  0.003578 -0.000854  0.167061   \n",
       "Stout         -0.016712  0.165676 -0.007575  0.015330  0.032365  0.139769   \n",
       "Cider         -0.029159  0.007649 -0.007403 -0.005312 -0.006673  0.028381   \n",
       "Lager          0.113933 -0.063548  0.035159  0.006278  0.000970 -0.086966   \n",
       "Pilsner       -0.012444  0.014603  0.001382 -0.002754 -0.005523 -0.043755   \n",
       "Wheat         -0.021351 -0.093754 -0.003440 -0.001726 -0.003880 -0.051378   \n",
       "\n",
       "                    IBU     Color  BoilSize  BoilTime    ...     All Grain  \\\n",
       "BeerID        -0.022177 -0.046157  0.002923 -0.045706    ...      0.015167   \n",
       "StyleID       -0.144485  0.167929 -0.005995  0.079929    ...      0.013326   \n",
       "Size(L)       -0.031297 -0.018027  0.994130  0.044319    ...      0.091325   \n",
       "OG            -0.001688  0.013867  0.163952  0.032138    ...      0.074968   \n",
       "FG            -0.000198  0.031220  0.144821  0.032104    ...      0.069878   \n",
       "ABV            0.282502  0.270414 -0.009858  0.120464    ...      0.023404   \n",
       "IBU            1.000000  0.062148 -0.029663  0.079896    ...      0.001314   \n",
       "Color          0.062148  1.000000 -0.016752  0.057795    ...      0.006791   \n",
       "BoilSize      -0.029663 -0.016752  1.000000  0.050637    ...      0.104054   \n",
       "BoilTime       0.079896  0.057795  0.050637  1.000000    ...      0.167687   \n",
       "BoilGravity   -0.005514  0.012503  0.175733  0.027443    ...      0.066235   \n",
       "Efficiency    -0.032648 -0.017765  0.122405  0.161862    ...      0.458003   \n",
       "MashThickness -0.032079 -0.030656  0.039452  0.039288    ...      0.195535   \n",
       "PitchRate      0.001675  0.010719  0.019661  0.138543    ...      0.070285   \n",
       "PrimaryTemp    0.026122  0.022975  0.005245 -0.075639    ...     -0.023072   \n",
       "Sugar          0.015327  0.004998 -0.165837 -0.027383    ...     -0.076333   \n",
       "All Grain      0.001314  0.006791  0.104054  0.167687    ...      1.000000   \n",
       "BIAB          -0.006009 -0.010084 -0.054719 -0.020642    ...     -0.632825   \n",
       "Partial Mash  -0.002695  0.021703 -0.036471 -0.060780    ...     -0.319333   \n",
       "extract        0.006773 -0.012658 -0.064919 -0.180957    ...     -0.521511   \n",
       "IPA            0.428192 -0.164103 -0.005126 -0.021791    ...      0.006919   \n",
       "Stout          0.040853  0.653817 -0.007322  0.028046    ...     -0.004292   \n",
       "Cider         -0.049445 -0.024867 -0.008656 -0.118514    ...     -0.034460   \n",
       "Lager         -0.086535 -0.089594  0.034082 -0.013006    ...      0.003353   \n",
       "Pilsner       -0.024519 -0.073968  0.000176  0.039083    ...      0.007770   \n",
       "Wheat         -0.057219 -0.088049 -0.003629 -0.019940    ...     -0.009870   \n",
       "\n",
       "                   BIAB  Partial Mash   extract       IPA     Stout     Cider  \\\n",
       "BeerID         0.047779     -0.051655 -0.042961  0.019168 -0.016712 -0.029159   \n",
       "StyleID       -0.000924      0.008074 -0.023730 -0.233578  0.165676  0.007649   \n",
       "Size(L)       -0.057977     -0.027030 -0.048825 -0.005374 -0.007575 -0.007403   \n",
       "OG            -0.042466     -0.023379 -0.045189  0.003578  0.015330 -0.005312   \n",
       "FG            -0.039998     -0.021417 -0.041891 -0.000854  0.032365 -0.006673   \n",
       "ABV           -0.030472      0.009184 -0.005202  0.167061  0.139769  0.028381   \n",
       "IBU           -0.006009     -0.002695  0.006773  0.428192  0.040853 -0.049445   \n",
       "Color         -0.010084      0.021703 -0.012658 -0.164103  0.653817 -0.024867   \n",
       "BoilSize      -0.054719     -0.036471 -0.064919 -0.005126 -0.007322 -0.008656   \n",
       "BoilTime      -0.020642     -0.060780 -0.180957 -0.021791  0.028046 -0.118514   \n",
       "BoilGravity   -0.044647     -0.016427 -0.034521  0.002372  0.015443 -0.007377   \n",
       "Efficiency     0.095001     -0.103088 -0.709886 -0.007941 -0.008529 -0.029566   \n",
       "MashThickness -0.123739     -0.062441 -0.101973 -0.017117 -0.013882 -0.011473   \n",
       "PitchRate     -0.001910     -0.030658 -0.080177 -0.040577 -0.001817 -0.004346   \n",
       "PrimaryTemp   -0.024489      0.017610  0.050215  0.042525  0.020423  0.011917   \n",
       "Sugar          0.041463      0.025669  0.046821  0.005107 -0.003411  0.004927   \n",
       "All Grain     -0.632825     -0.319333 -0.521511  0.006919 -0.004292 -0.034460   \n",
       "BIAB           1.000000     -0.098467 -0.160809 -0.005773 -0.001503 -0.009549   \n",
       "Partial Mash  -0.098467      1.000000 -0.081146 -0.005434  0.011329  0.003730   \n",
       "extract       -0.160809     -0.081146  1.000000  0.000126  0.000512  0.058833   \n",
       "IPA           -0.005773     -0.005434  0.000126  1.000000 -0.163884 -0.028172   \n",
       "Stout         -0.001503      0.011329  0.000512 -0.163884  1.000000 -0.015206   \n",
       "Cider         -0.009549      0.003730  0.058833 -0.028172 -0.015206  1.000000   \n",
       "Lager         -0.001131     -0.012444  0.004626 -0.134334 -0.072506 -0.012464   \n",
       "Pilsner       -0.003438      0.001444 -0.008346 -0.053056 -0.028637 -0.004923   \n",
       "Wheat         -0.001616      0.002009  0.014943 -0.073068 -0.039439 -0.006779   \n",
       "\n",
       "                  Lager   Pilsner     Wheat  \n",
       "BeerID         0.113933 -0.012444 -0.021351  \n",
       "StyleID       -0.063548  0.014603 -0.093754  \n",
       "Size(L)        0.035159  0.001382 -0.003440  \n",
       "OG             0.006278 -0.002754 -0.001726  \n",
       "FG             0.000970 -0.005523 -0.003880  \n",
       "ABV           -0.086966 -0.043755 -0.051378  \n",
       "IBU           -0.086535 -0.024519 -0.057219  \n",
       "Color         -0.089594 -0.073968 -0.088049  \n",
       "BoilSize       0.034082  0.000176 -0.003629  \n",
       "BoilTime      -0.013006  0.039083 -0.019940  \n",
       "BoilGravity    0.009443 -0.002892 -0.000310  \n",
       "Efficiency    -0.007842  0.008065 -0.010664  \n",
       "MashThickness  0.022414  0.026876 -0.018089  \n",
       "PitchRate      0.124960  0.093821 -0.029927  \n",
       "PrimaryTemp   -0.129367 -0.130603  0.009163  \n",
       "Sugar         -0.013583  0.000285 -0.000944  \n",
       "All Grain      0.003353  0.007770 -0.009870  \n",
       "BIAB          -0.001131 -0.003438 -0.001616  \n",
       "Partial Mash  -0.012444  0.001444  0.002009  \n",
       "extract        0.004626 -0.008346  0.014943  \n",
       "IPA           -0.134334 -0.053056 -0.073068  \n",
       "Stout         -0.072506 -0.028637 -0.039439  \n",
       "Cider         -0.012464 -0.004923 -0.006779  \n",
       "Lager          1.000000 -0.023474 -0.032327  \n",
       "Pilsner       -0.023474  1.000000 -0.012768  \n",
       "Wheat         -0.032327 -0.012768  1.000000  \n",
       "\n",
       "[26 rows x 26 columns]"
      ]
     },
     "execution_count": 7,
     "metadata": {},
     "output_type": "execute_result"
    }
   ],
   "source": [
    "df1.corr() #correlation"
   ]
  },
  {
   "cell_type": "markdown",
   "metadata": {},
   "source": [
    "There are no correlations with the different styles and exploratory values"
   ]
  },
  {
   "cell_type": "code",
   "execution_count": 9,
   "metadata": {
    "collapsed": true
   },
   "outputs": [],
   "source": [
    "from pandas.plotting import scatter_matrix\n",
    "scatter_matrix(df1);"
   ]
  },
  {
   "cell_type": "code",
   "execution_count": 10,
   "metadata": {},
   "outputs": [
    {
     "data": {
      "text/html": [
       "<div>\n",
       "<style scoped>\n",
       "    .dataframe tbody tr th:only-of-type {\n",
       "        vertical-align: middle;\n",
       "    }\n",
       "\n",
       "    .dataframe tbody tr th {\n",
       "        vertical-align: top;\n",
       "    }\n",
       "\n",
       "    .dataframe thead th {\n",
       "        text-align: right;\n",
       "    }\n",
       "</style>\n",
       "<table border=\"1\" class=\"dataframe\">\n",
       "  <thead>\n",
       "    <tr style=\"text-align: right;\">\n",
       "      <th></th>\n",
       "      <th>BeerID</th>\n",
       "      <th>Name</th>\n",
       "      <th>URL</th>\n",
       "      <th>Style</th>\n",
       "      <th>StyleID</th>\n",
       "      <th>Size(L)</th>\n",
       "      <th>OG</th>\n",
       "      <th>FG</th>\n",
       "      <th>ABV</th>\n",
       "      <th>IBU</th>\n",
       "      <th>...</th>\n",
       "      <th>All Grain</th>\n",
       "      <th>BIAB</th>\n",
       "      <th>Partial Mash</th>\n",
       "      <th>extract</th>\n",
       "      <th>IPA</th>\n",
       "      <th>Stout</th>\n",
       "      <th>Cider</th>\n",
       "      <th>Lager</th>\n",
       "      <th>Pilsner</th>\n",
       "      <th>Wheat</th>\n",
       "    </tr>\n",
       "  </thead>\n",
       "  <tbody>\n",
       "    <tr>\n",
       "      <th>0</th>\n",
       "      <td>1</td>\n",
       "      <td>Vanilla Cream Ale</td>\n",
       "      <td>/homebrew/recipe/view/1633/vanilla-cream-ale</td>\n",
       "      <td>Cream Ale</td>\n",
       "      <td>45</td>\n",
       "      <td>21.77</td>\n",
       "      <td>1.055</td>\n",
       "      <td>1.013</td>\n",
       "      <td>5.48</td>\n",
       "      <td>17.65</td>\n",
       "      <td>...</td>\n",
       "      <td>1</td>\n",
       "      <td>0</td>\n",
       "      <td>0</td>\n",
       "      <td>0</td>\n",
       "      <td>0</td>\n",
       "      <td>0</td>\n",
       "      <td>0</td>\n",
       "      <td>0</td>\n",
       "      <td>0</td>\n",
       "      <td>0</td>\n",
       "    </tr>\n",
       "    <tr>\n",
       "      <th>1</th>\n",
       "      <td>2</td>\n",
       "      <td>Southern Tier Pumking clone</td>\n",
       "      <td>/homebrew/recipe/view/16367/southern-tier-pumk...</td>\n",
       "      <td>Holiday/Winter Special Spiced Beer</td>\n",
       "      <td>85</td>\n",
       "      <td>20.82</td>\n",
       "      <td>1.083</td>\n",
       "      <td>1.021</td>\n",
       "      <td>8.16</td>\n",
       "      <td>60.65</td>\n",
       "      <td>...</td>\n",
       "      <td>1</td>\n",
       "      <td>0</td>\n",
       "      <td>0</td>\n",
       "      <td>0</td>\n",
       "      <td>0</td>\n",
       "      <td>0</td>\n",
       "      <td>0</td>\n",
       "      <td>0</td>\n",
       "      <td>0</td>\n",
       "      <td>0</td>\n",
       "    </tr>\n",
       "    <tr>\n",
       "      <th>2</th>\n",
       "      <td>3</td>\n",
       "      <td>Zombie Dust Clone - EXTRACT</td>\n",
       "      <td>/homebrew/recipe/view/5920/zombie-dust-clone-e...</td>\n",
       "      <td>American IPA</td>\n",
       "      <td>7</td>\n",
       "      <td>18.93</td>\n",
       "      <td>1.063</td>\n",
       "      <td>1.018</td>\n",
       "      <td>5.91</td>\n",
       "      <td>59.25</td>\n",
       "      <td>...</td>\n",
       "      <td>0</td>\n",
       "      <td>0</td>\n",
       "      <td>0</td>\n",
       "      <td>1</td>\n",
       "      <td>1</td>\n",
       "      <td>0</td>\n",
       "      <td>0</td>\n",
       "      <td>0</td>\n",
       "      <td>0</td>\n",
       "      <td>0</td>\n",
       "    </tr>\n",
       "    <tr>\n",
       "      <th>3</th>\n",
       "      <td>4</td>\n",
       "      <td>Zombie Dust Clone - ALL GRAIN</td>\n",
       "      <td>/homebrew/recipe/view/5916/zombie-dust-clone-a...</td>\n",
       "      <td>American IPA</td>\n",
       "      <td>7</td>\n",
       "      <td>22.71</td>\n",
       "      <td>1.061</td>\n",
       "      <td>1.017</td>\n",
       "      <td>5.80</td>\n",
       "      <td>54.48</td>\n",
       "      <td>...</td>\n",
       "      <td>1</td>\n",
       "      <td>0</td>\n",
       "      <td>0</td>\n",
       "      <td>0</td>\n",
       "      <td>1</td>\n",
       "      <td>0</td>\n",
       "      <td>0</td>\n",
       "      <td>0</td>\n",
       "      <td>0</td>\n",
       "      <td>0</td>\n",
       "    </tr>\n",
       "    <tr>\n",
       "      <th>4</th>\n",
       "      <td>5</td>\n",
       "      <td>Bakke Brygg Belgisk Blonde 50 l</td>\n",
       "      <td>/homebrew/recipe/view/89534/bakke-brygg-belgis...</td>\n",
       "      <td>Belgian Blond Ale</td>\n",
       "      <td>20</td>\n",
       "      <td>50.00</td>\n",
       "      <td>1.060</td>\n",
       "      <td>1.010</td>\n",
       "      <td>6.48</td>\n",
       "      <td>17.84</td>\n",
       "      <td>...</td>\n",
       "      <td>1</td>\n",
       "      <td>0</td>\n",
       "      <td>0</td>\n",
       "      <td>0</td>\n",
       "      <td>0</td>\n",
       "      <td>0</td>\n",
       "      <td>0</td>\n",
       "      <td>0</td>\n",
       "      <td>0</td>\n",
       "      <td>0</td>\n",
       "    </tr>\n",
       "  </tbody>\n",
       "</table>\n",
       "<p>5 rows × 31 columns</p>\n",
       "</div>"
      ],
      "text/plain": [
       "   BeerID                             Name  \\\n",
       "0       1                Vanilla Cream Ale   \n",
       "1       2      Southern Tier Pumking clone   \n",
       "2       3      Zombie Dust Clone - EXTRACT   \n",
       "3       4    Zombie Dust Clone - ALL GRAIN   \n",
       "4       5  Bakke Brygg Belgisk Blonde 50 l   \n",
       "\n",
       "                                                 URL  \\\n",
       "0       /homebrew/recipe/view/1633/vanilla-cream-ale   \n",
       "1  /homebrew/recipe/view/16367/southern-tier-pumk...   \n",
       "2  /homebrew/recipe/view/5920/zombie-dust-clone-e...   \n",
       "3  /homebrew/recipe/view/5916/zombie-dust-clone-a...   \n",
       "4  /homebrew/recipe/view/89534/bakke-brygg-belgis...   \n",
       "\n",
       "                                Style  StyleID  Size(L)     OG     FG   ABV  \\\n",
       "0                           Cream Ale       45    21.77  1.055  1.013  5.48   \n",
       "1  Holiday/Winter Special Spiced Beer       85    20.82  1.083  1.021  8.16   \n",
       "2                        American IPA        7    18.93  1.063  1.018  5.91   \n",
       "3                        American IPA        7    22.71  1.061  1.017  5.80   \n",
       "4                   Belgian Blond Ale       20    50.00  1.060  1.010  6.48   \n",
       "\n",
       "     IBU  ...    All Grain  BIAB  Partial Mash  extract  IPA  Stout Cider  \\\n",
       "0  17.65  ...            1     0             0        0    0      0     0   \n",
       "1  60.65  ...            1     0             0        0    0      0     0   \n",
       "2  59.25  ...            0     0             0        1    1      0     0   \n",
       "3  54.48  ...            1     0             0        0    1      0     0   \n",
       "4  17.84  ...            1     0             0        0    0      0     0   \n",
       "\n",
       "  Lager  Pilsner  Wheat  \n",
       "0     0        0      0  \n",
       "1     0        0      0  \n",
       "2     0        0      0  \n",
       "3     0        0      0  \n",
       "4     0        0      0  \n",
       "\n",
       "[5 rows x 31 columns]"
      ]
     },
     "execution_count": 10,
     "metadata": {},
     "output_type": "execute_result"
    }
   ],
   "source": [
    "df.head()"
   ]
  },
  {
   "cell_type": "code",
   "execution_count": 11,
   "metadata": {},
   "outputs": [
    {
     "data": {
      "text/plain": [
       "BeerID             int64\n",
       "Name              object\n",
       "URL               object\n",
       "Style             object\n",
       "StyleID            int64\n",
       "Size(L)          float64\n",
       "OG               float64\n",
       "FG               float64\n",
       "ABV              float64\n",
       "IBU              float64\n",
       "Color            float64\n",
       "BoilSize         float64\n",
       "BoilTime           int64\n",
       "BoilGravity      float64\n",
       "Efficiency       float64\n",
       "MashThickness    float64\n",
       "SugarScale        object\n",
       "BrewMethod        object\n",
       "PitchRate        float64\n",
       "PrimaryTemp      float64\n",
       "Sugar              uint8\n",
       "All Grain          uint8\n",
       "BIAB               uint8\n",
       "Partial Mash       uint8\n",
       "extract            uint8\n",
       "IPA                int64\n",
       "Stout              int64\n",
       "Cider              int64\n",
       "Lager              int64\n",
       "Pilsner            int64\n",
       "Wheat              int64\n",
       "dtype: object"
      ]
     },
     "execution_count": 11,
     "metadata": {},
     "output_type": "execute_result"
    }
   ],
   "source": [
    "df1.dtypes #Understanding what is going on"
   ]
  },
  {
   "cell_type": "code",
   "execution_count": 12,
   "metadata": {
    "collapsed": true
   },
   "outputs": [],
   "source": [
    "lrg = LogisticRegression() #Importing Logistic Regression"
   ]
  },
  {
   "cell_type": "code",
   "execution_count": 13,
   "metadata": {
    "collapsed": true
   },
   "outputs": [],
   "source": [
    "df1['Other'] = df1.IPA+df1.Stout+df1.Cider+df1.Lager+df1.Pilsner+df1.Wheat "
   ]
  },
  {
   "cell_type": "code",
   "execution_count": 14,
   "metadata": {
    "collapsed": true
   },
   "outputs": [],
   "source": [
    "df5=df1[df1['Other']==1] #removing all of the columns that did not fall under the original categories"
   ]
  },
  {
   "cell_type": "code",
   "execution_count": 15,
   "metadata": {},
   "outputs": [
    {
     "data": {
      "text/html": [
       "<div>\n",
       "<style scoped>\n",
       "    .dataframe tbody tr th:only-of-type {\n",
       "        vertical-align: middle;\n",
       "    }\n",
       "\n",
       "    .dataframe tbody tr th {\n",
       "        vertical-align: top;\n",
       "    }\n",
       "\n",
       "    .dataframe thead th {\n",
       "        text-align: right;\n",
       "    }\n",
       "</style>\n",
       "<table border=\"1\" class=\"dataframe\">\n",
       "  <thead>\n",
       "    <tr style=\"text-align: right;\">\n",
       "      <th></th>\n",
       "      <th>BeerID</th>\n",
       "      <th>Name</th>\n",
       "      <th>URL</th>\n",
       "      <th>Style</th>\n",
       "      <th>StyleID</th>\n",
       "      <th>Size(L)</th>\n",
       "      <th>OG</th>\n",
       "      <th>FG</th>\n",
       "      <th>ABV</th>\n",
       "      <th>IBU</th>\n",
       "      <th>...</th>\n",
       "      <th>BIAB</th>\n",
       "      <th>Partial Mash</th>\n",
       "      <th>extract</th>\n",
       "      <th>IPA</th>\n",
       "      <th>Stout</th>\n",
       "      <th>Cider</th>\n",
       "      <th>Lager</th>\n",
       "      <th>Pilsner</th>\n",
       "      <th>Wheat</th>\n",
       "      <th>Other</th>\n",
       "    </tr>\n",
       "  </thead>\n",
       "  <tbody>\n",
       "    <tr>\n",
       "      <th>2</th>\n",
       "      <td>3</td>\n",
       "      <td>Zombie Dust Clone - EXTRACT</td>\n",
       "      <td>/homebrew/recipe/view/5920/zombie-dust-clone-e...</td>\n",
       "      <td>American IPA</td>\n",
       "      <td>7</td>\n",
       "      <td>18.93</td>\n",
       "      <td>1.063</td>\n",
       "      <td>1.018</td>\n",
       "      <td>5.91</td>\n",
       "      <td>59.25</td>\n",
       "      <td>...</td>\n",
       "      <td>0</td>\n",
       "      <td>0</td>\n",
       "      <td>1</td>\n",
       "      <td>1</td>\n",
       "      <td>0</td>\n",
       "      <td>0</td>\n",
       "      <td>0</td>\n",
       "      <td>0</td>\n",
       "      <td>0</td>\n",
       "      <td>1</td>\n",
       "    </tr>\n",
       "    <tr>\n",
       "      <th>3</th>\n",
       "      <td>4</td>\n",
       "      <td>Zombie Dust Clone - ALL GRAIN</td>\n",
       "      <td>/homebrew/recipe/view/5916/zombie-dust-clone-a...</td>\n",
       "      <td>American IPA</td>\n",
       "      <td>7</td>\n",
       "      <td>22.71</td>\n",
       "      <td>1.061</td>\n",
       "      <td>1.017</td>\n",
       "      <td>5.80</td>\n",
       "      <td>54.48</td>\n",
       "      <td>...</td>\n",
       "      <td>0</td>\n",
       "      <td>0</td>\n",
       "      <td>0</td>\n",
       "      <td>1</td>\n",
       "      <td>0</td>\n",
       "      <td>0</td>\n",
       "      <td>0</td>\n",
       "      <td>0</td>\n",
       "      <td>0</td>\n",
       "      <td>1</td>\n",
       "    </tr>\n",
       "    <tr>\n",
       "      <th>6</th>\n",
       "      <td>7</td>\n",
       "      <td>Russian River Pliny the Elder (original)</td>\n",
       "      <td>/homebrew/recipe/view/37534/russian-river-plin...</td>\n",
       "      <td>Imperial IPA</td>\n",
       "      <td>86</td>\n",
       "      <td>22.71</td>\n",
       "      <td>1.072</td>\n",
       "      <td>1.018</td>\n",
       "      <td>7.09</td>\n",
       "      <td>268.71</td>\n",
       "      <td>...</td>\n",
       "      <td>0</td>\n",
       "      <td>0</td>\n",
       "      <td>0</td>\n",
       "      <td>1</td>\n",
       "      <td>0</td>\n",
       "      <td>0</td>\n",
       "      <td>0</td>\n",
       "      <td>0</td>\n",
       "      <td>0</td>\n",
       "      <td>1</td>\n",
       "    </tr>\n",
       "    <tr>\n",
       "      <th>9</th>\n",
       "      <td>10</td>\n",
       "      <td>Mango Habanero IPA</td>\n",
       "      <td>/homebrew/recipe/view/61082/mango-habanero-ipa</td>\n",
       "      <td>Imperial IPA</td>\n",
       "      <td>86</td>\n",
       "      <td>20.82</td>\n",
       "      <td>1.080</td>\n",
       "      <td>1.017</td>\n",
       "      <td>8.22</td>\n",
       "      <td>93.02</td>\n",
       "      <td>...</td>\n",
       "      <td>0</td>\n",
       "      <td>0</td>\n",
       "      <td>0</td>\n",
       "      <td>1</td>\n",
       "      <td>0</td>\n",
       "      <td>0</td>\n",
       "      <td>0</td>\n",
       "      <td>0</td>\n",
       "      <td>0</td>\n",
       "      <td>1</td>\n",
       "    </tr>\n",
       "    <tr>\n",
       "      <th>10</th>\n",
       "      <td>11</td>\n",
       "      <td>Bakke Brygg HveteIPA 25 L</td>\n",
       "      <td>/homebrew/recipe/view/73890/bakke-brygg-hvetei...</td>\n",
       "      <td>American IPA</td>\n",
       "      <td>7</td>\n",
       "      <td>25.00</td>\n",
       "      <td>1.064</td>\n",
       "      <td>1.014</td>\n",
       "      <td>6.63</td>\n",
       "      <td>64.26</td>\n",
       "      <td>...</td>\n",
       "      <td>0</td>\n",
       "      <td>0</td>\n",
       "      <td>0</td>\n",
       "      <td>1</td>\n",
       "      <td>0</td>\n",
       "      <td>0</td>\n",
       "      <td>0</td>\n",
       "      <td>0</td>\n",
       "      <td>0</td>\n",
       "      <td>1</td>\n",
       "    </tr>\n",
       "  </tbody>\n",
       "</table>\n",
       "<p>5 rows × 32 columns</p>\n",
       "</div>"
      ],
      "text/plain": [
       "    BeerID                                      Name  \\\n",
       "2        3               Zombie Dust Clone - EXTRACT   \n",
       "3        4             Zombie Dust Clone - ALL GRAIN   \n",
       "6        7  Russian River Pliny the Elder (original)   \n",
       "9       10                        Mango Habanero IPA   \n",
       "10      11                 Bakke Brygg HveteIPA 25 L   \n",
       "\n",
       "                                                  URL         Style  StyleID  \\\n",
       "2   /homebrew/recipe/view/5920/zombie-dust-clone-e...  American IPA        7   \n",
       "3   /homebrew/recipe/view/5916/zombie-dust-clone-a...  American IPA        7   \n",
       "6   /homebrew/recipe/view/37534/russian-river-plin...  Imperial IPA       86   \n",
       "9      /homebrew/recipe/view/61082/mango-habanero-ipa  Imperial IPA       86   \n",
       "10  /homebrew/recipe/view/73890/bakke-brygg-hvetei...  American IPA        7   \n",
       "\n",
       "    Size(L)     OG     FG   ABV     IBU  ...    BIAB  Partial Mash  extract  \\\n",
       "2     18.93  1.063  1.018  5.91   59.25  ...       0             0        1   \n",
       "3     22.71  1.061  1.017  5.80   54.48  ...       0             0        0   \n",
       "6     22.71  1.072  1.018  7.09  268.71  ...       0             0        0   \n",
       "9     20.82  1.080  1.017  8.22   93.02  ...       0             0        0   \n",
       "10    25.00  1.064  1.014  6.63   64.26  ...       0             0        0   \n",
       "\n",
       "    IPA  Stout  Cider Lager Pilsner  Wheat  Other  \n",
       "2     1      0      0     0       0      0      1  \n",
       "3     1      0      0     0       0      0      1  \n",
       "6     1      0      0     0       0      0      1  \n",
       "9     1      0      0     0       0      0      1  \n",
       "10    1      0      0     0       0      0      1  \n",
       "\n",
       "[5 rows x 32 columns]"
      ]
     },
     "execution_count": 15,
     "metadata": {},
     "output_type": "execute_result"
    }
   ],
   "source": [
    "df5.head()"
   ]
  },
  {
   "cell_type": "code",
   "execution_count": 16,
   "metadata": {
    "collapsed": true
   },
   "outputs": [],
   "source": [
    "scaler = StandardScaler() #importing Standard Scaler to help normalize the data"
   ]
  },
  {
   "cell_type": "code",
   "execution_count": 17,
   "metadata": {},
   "outputs": [
    {
     "name": "stderr",
     "output_type": "stream",
     "text": [
      "/Users/paulszewczyk/anaconda3/lib/python3.6/site-packages/statsmodels/compat/pandas.py:56: FutureWarning: The pandas.core.datetools module is deprecated and will be removed in a future version. Please use the pandas.tseries module instead.\n",
      "  from pandas.core import datetools\n"
     ]
    }
   ],
   "source": [
    "import statsmodels.api as sm\n",
    "from scipy import stats"
   ]
  },
  {
   "cell_type": "markdown",
   "metadata": {},
   "source": [
    "## IPA"
   ]
  },
  {
   "cell_type": "code",
   "execution_count": 18,
   "metadata": {},
   "outputs": [
    {
     "data": {
      "text/plain": [
       "LogisticRegression(C=1.0, class_weight=None, dual=False, fit_intercept=True,\n",
       "          intercept_scaling=1, max_iter=100, multi_class='ovr', n_jobs=1,\n",
       "          penalty='l2', random_state=None, solver='liblinear', tol=0.0001,\n",
       "          verbose=0, warm_start=False)"
      ]
     },
     "execution_count": 18,
     "metadata": {},
     "output_type": "execute_result"
    }
   ],
   "source": [
    "X1 = df5.drop('StyleID',axis=1)\n",
    "X1 = X1.drop('Style',axis=1)\n",
    "X1= X1.drop('Name',axis=1)\n",
    "X1= X1.drop('URL',axis=1)\n",
    "X1 = X1.drop('BeerID',axis=1)\n",
    "X1 = X1.drop('SugarScale',axis=1)\n",
    "X1 = X1.drop('BrewMethod',axis = 1)\n",
    "X1 = X1.drop('IPA',axis=1)\n",
    "X1 = X1.drop('Wheat',axis=1)\n",
    "X1 = X1.drop('Stout',axis=1)\n",
    "X1 = X1.drop('Cider',axis=1)\n",
    "X1 = X1.drop('Lager',axis=1)\n",
    "X1 = X1.drop('Pilsner',axis=1)\n",
    "X1 = X1.drop('Other',axis=1)\n",
    "y1 = df5.IPA\n",
    "\n",
    "lrg.fit(X1,y1) #preparing the IPA data"
   ]
  },
  {
   "cell_type": "code",
   "execution_count": 19,
   "metadata": {},
   "outputs": [
    {
     "data": {
      "text/plain": [
       "0.5832251008271242"
      ]
     },
     "execution_count": 19,
     "metadata": {},
     "output_type": "execute_result"
    }
   ],
   "source": [
    "(sum(df5.IPA))/len(df5) #determining the amount percentage of IPA in the dataframe"
   ]
  },
  {
   "cell_type": "code",
   "execution_count": 20,
   "metadata": {},
   "outputs": [
    {
     "data": {
      "text/plain": [
       "0.84927199398455122"
      ]
     },
     "execution_count": 20,
     "metadata": {},
     "output_type": "execute_result"
    }
   ],
   "source": [
    "lrg.score(X1,y1)"
   ]
  },
  {
   "cell_type": "code",
   "execution_count": 21,
   "metadata": {
    "collapsed": true
   },
   "outputs": [],
   "source": [
    "X2 = X1 #selecting a column to use to categorize the data"
   ]
  },
  {
   "cell_type": "code",
   "execution_count": 22,
   "metadata": {},
   "outputs": [
    {
     "data": {
      "text/plain": [
       "LogisticRegression(C=1.0, class_weight=None, dual=False, fit_intercept=True,\n",
       "          intercept_scaling=1, max_iter=100, multi_class='ovr', n_jobs=1,\n",
       "          penalty='l2', random_state=None, solver='liblinear', tol=0.0001,\n",
       "          verbose=0, warm_start=False)"
      ]
     },
     "execution_count": 22,
     "metadata": {},
     "output_type": "execute_result"
    }
   ],
   "source": [
    "lrg.fit(X2,y1)"
   ]
  },
  {
   "cell_type": "code",
   "execution_count": 23,
   "metadata": {},
   "outputs": [
    {
     "data": {
      "text/plain": [
       "0.84927199398455122"
      ]
     },
     "execution_count": 23,
     "metadata": {},
     "output_type": "execute_result"
    }
   ],
   "source": [
    "lrg.score(X2,y1)"
   ]
  },
  {
   "cell_type": "code",
   "execution_count": 24,
   "metadata": {
    "collapsed": true
   },
   "outputs": [],
   "source": [
    "X_train, X_test, y_train, y_test = train_test_split(X2,y1)"
   ]
  },
  {
   "cell_type": "code",
   "execution_count": 25,
   "metadata": {
    "collapsed": true
   },
   "outputs": [],
   "source": [
    "X_train_scaler = scaler.fit_transform(X_train)"
   ]
  },
  {
   "cell_type": "code",
   "execution_count": 26,
   "metadata": {
    "collapsed": true
   },
   "outputs": [],
   "source": [
    "X_test_scaler = scaler.fit_transform(X_test)"
   ]
  },
  {
   "cell_type": "code",
   "execution_count": 27,
   "metadata": {},
   "outputs": [
    {
     "data": {
      "text/plain": [
       "0.84819760288018953"
      ]
     },
     "execution_count": 27,
     "metadata": {},
     "output_type": "execute_result"
    }
   ],
   "source": [
    "lrg.fit(X_train_scaler,y_train)\n",
    "lrg.score(X_train_scaler,y_train)"
   ]
  },
  {
   "cell_type": "code",
   "execution_count": 28,
   "metadata": {},
   "outputs": [
    {
     "data": {
      "text/plain": [
       "0.85413533834586464"
      ]
     },
     "execution_count": 28,
     "metadata": {},
     "output_type": "execute_result"
    }
   ],
   "source": [
    "lrg.fit(X_test_scaler,y_test)\n",
    "lrg.score(X_test_scaler,y_test)"
   ]
  },
  {
   "cell_type": "code",
   "execution_count": 29,
   "metadata": {
    "collapsed": true
   },
   "outputs": [],
   "source": [
    "ipa_pred = lrg.predict(X_test_scaler) #Developing predicting"
   ]
  },
  {
   "cell_type": "code",
   "execution_count": 30,
   "metadata": {},
   "outputs": [
    {
     "data": {
      "text/plain": [
       "array([[ -3.48124191e-02,  -1.11791348e-01,   2.04559598e-02,\n",
       "          2.88366723e-01,   2.73271057e+00,  -1.75646578e+00,\n",
       "          1.35538237e-02,  -1.19929139e-01,   6.86570338e-02,\n",
       "          1.16986463e-02,   1.69958306e-02,  -4.00881119e-01,\n",
       "          4.50622464e-01,  -2.13984118e-03,   7.55625531e-02,\n",
       "          1.53885245e-02,   4.18715706e-03,  -1.28612488e-01]])"
      ]
     },
     "execution_count": 30,
     "metadata": {},
     "output_type": "execute_result"
    }
   ],
   "source": [
    "lrg.coef_"
   ]
  },
  {
   "cell_type": "code",
   "execution_count": 31,
   "metadata": {},
   "outputs": [
    {
     "name": "stdout",
     "output_type": "stream",
     "text": [
      "[[2384  638]\n",
      " [ 429 3864]]\n"
     ]
    }
   ],
   "source": [
    "print(confusion_matrix(y_test,ipa_pred))"
   ]
  },
  {
   "cell_type": "code",
   "execution_count": 32,
   "metadata": {
    "collapsed": true
   },
   "outputs": [],
   "source": [
    "param_grid = {'C': [0.001, 0.01, 0.1, 1, 10, 100]}"
   ]
  },
  {
   "cell_type": "code",
   "execution_count": 33,
   "metadata": {
    "collapsed": true
   },
   "outputs": [],
   "source": [
    "grid = GridSearchCV(lrg,param_grid,scoring='precision')"
   ]
  },
  {
   "cell_type": "code",
   "execution_count": 34,
   "metadata": {},
   "outputs": [
    {
     "data": {
      "text/plain": [
       "GridSearchCV(cv=None, error_score='raise',\n",
       "       estimator=LogisticRegression(C=1.0, class_weight=None, dual=False, fit_intercept=True,\n",
       "          intercept_scaling=1, max_iter=100, multi_class='ovr', n_jobs=1,\n",
       "          penalty='l2', random_state=None, solver='liblinear', tol=0.0001,\n",
       "          verbose=0, warm_start=False),\n",
       "       fit_params=None, iid=True, n_jobs=1,\n",
       "       param_grid={'C': [0.001, 0.01, 0.1, 1, 10, 100]},\n",
       "       pre_dispatch='2*n_jobs', refit=True, return_train_score='warn',\n",
       "       scoring='precision', verbose=0)"
      ]
     },
     "execution_count": 34,
     "metadata": {},
     "output_type": "execute_result"
    }
   ],
   "source": [
    "grid.fit(X_train_scaler,y_train)"
   ]
  },
  {
   "cell_type": "code",
   "execution_count": 35,
   "metadata": {},
   "outputs": [
    {
     "data": {
      "text/plain": [
       "LogisticRegression(C=100, class_weight=None, dual=False, fit_intercept=True,\n",
       "          intercept_scaling=1, max_iter=100, multi_class='ovr', n_jobs=1,\n",
       "          penalty='l2', random_state=None, solver='liblinear', tol=0.0001,\n",
       "          verbose=0, warm_start=False)"
      ]
     },
     "execution_count": 35,
     "metadata": {},
     "output_type": "execute_result"
    }
   ],
   "source": [
    "grid.best_estimator_"
   ]
  },
  {
   "cell_type": "code",
   "execution_count": 36,
   "metadata": {
    "collapsed": true
   },
   "outputs": [],
   "source": [
    "best = grid.best_estimator_ #finding the best estimator for the IPA project"
   ]
  },
  {
   "cell_type": "code",
   "execution_count": 37,
   "metadata": {},
   "outputs": [
    {
     "data": {
      "text/plain": [
       "0.84819760288018953"
      ]
     },
     "execution_count": 37,
     "metadata": {},
     "output_type": "execute_result"
    }
   ],
   "source": [
    "best.fit(X_train_scaler,y_train)\n",
    "best.score(X_train_scaler,y_train)"
   ]
  },
  {
   "cell_type": "code",
   "execution_count": 38,
   "metadata": {},
   "outputs": [
    {
     "data": {
      "text/plain": [
       "0.85345181134654824"
      ]
     },
     "execution_count": 38,
     "metadata": {},
     "output_type": "execute_result"
    }
   ],
   "source": [
    "best.fit(X_test,y_test)\n",
    "best.score(X_test,y_test)"
   ]
  },
  {
   "cell_type": "code",
   "execution_count": 39,
   "metadata": {},
   "outputs": [
    {
     "data": {
      "text/plain": [
       "array([[ -3.43113455e-04,  -1.33846176e-01,   2.00300869e-01,\n",
       "          1.56618852e-01,   5.46025624e-02,  -1.22442384e-01,\n",
       "          2.09763527e-04,  -8.45273196e-03,   2.63983591e-02,\n",
       "          7.88319802e-04,   1.19984795e-02,  -1.46036810e+00,\n",
       "          1.33068467e-01,  -9.40869275e-01,  -1.70125625e-01,\n",
       "         -2.88487567e-01,  -3.10779590e-01,  -7.19978786e-01]])"
      ]
     },
     "execution_count": 39,
     "metadata": {},
     "output_type": "execute_result"
    }
   ],
   "source": [
    "best.coef_"
   ]
  },
  {
   "cell_type": "code",
   "execution_count": 40,
   "metadata": {},
   "outputs": [
    {
     "data": {
      "text/plain": [
       "Index(['Size(L)', 'OG', 'FG', 'ABV', 'IBU', 'Color', 'BoilSize', 'BoilTime',\n",
       "       'BoilGravity', 'Efficiency', 'MashThickness', 'PitchRate',\n",
       "       'PrimaryTemp', 'Sugar', 'All Grain', 'BIAB', 'Partial Mash', 'extract'],\n",
       "      dtype='object')"
      ]
     },
     "execution_count": 40,
     "metadata": {},
     "output_type": "execute_result"
    }
   ],
   "source": [
    "X2.columns\n"
   ]
  },
  {
   "cell_type": "code",
   "execution_count": 41,
   "metadata": {
    "collapsed": true
   },
   "outputs": [],
   "source": [
    "pred_best_ipa = best.predict(X_test)"
   ]
  },
  {
   "cell_type": "code",
   "execution_count": 42,
   "metadata": {},
   "outputs": [
    {
     "name": "stdout",
     "output_type": "stream",
     "text": [
      "[[2381  641]\n",
      " [ 431 3862]]\n"
     ]
    }
   ],
   "source": [
    "print(confusion_matrix(y_test,pred_best_ipa))"
   ]
  },
  {
   "cell_type": "code",
   "execution_count": 43,
   "metadata": {},
   "outputs": [
    {
     "data": {
      "text/plain": [
       "0.5279562542720437"
      ]
     },
     "execution_count": 43,
     "metadata": {},
     "output_type": "execute_result"
    }
   ],
   "source": [
    "3862/len(X_test)"
   ]
  },
  {
   "cell_type": "markdown",
   "metadata": {},
   "source": [
    "## Stout"
   ]
  },
  {
   "cell_type": "code",
   "execution_count": 44,
   "metadata": {},
   "outputs": [],
   "source": [
    "X3 = df5\n",
    "X3 = df5.drop('StyleID',axis=1)\n",
    "X3 = X3.drop('Style',axis=1)\n",
    "X3= X3.drop('Name',axis=1)\n",
    "X3= X3.drop('URL',axis=1)\n",
    "X3 = X3.drop('BeerID',axis=1)\n",
    "X3 = X3.drop('SugarScale',axis=1)\n",
    "X3 = X3.drop('BrewMethod',axis = 1)\n",
    "X3 = X3.drop('Stout',axis=1)\n",
    "X3 = X3.drop('IPA',axis=1)\n",
    "X3 = X3.drop('Wheat',axis=1)\n",
    "X3 = X3.drop('Cider',axis=1)\n",
    "X3 = X3.drop('Lager',axis=1)\n",
    "X3 = X3.drop('Pilsner',axis=1)\n",
    "X3 = X3.drop('Other',axis=1)\n",
    "\n",
    "y2=df5.Stout\n",
    "X3 = X3"
   ]
  },
  {
   "cell_type": "code",
   "execution_count": 45,
   "metadata": {},
   "outputs": [
    {
     "data": {
      "text/plain": [
       "0.95478159819536534"
      ]
     },
     "execution_count": 45,
     "metadata": {},
     "output_type": "execute_result"
    }
   ],
   "source": [
    "lrg.fit(X3,y2)\n",
    "lrg.score(X3,y2)"
   ]
  },
  {
   "cell_type": "code",
   "execution_count": 46,
   "metadata": {
    "collapsed": true
   },
   "outputs": [],
   "source": [
    "X_train, X_test, y_train, y_test = train_test_split(X3,y2)"
   ]
  },
  {
   "cell_type": "code",
   "execution_count": 47,
   "metadata": {
    "collapsed": true
   },
   "outputs": [],
   "source": [
    "X_train_scaler = scaler.fit_transform(X_train) #normalizing the training set"
   ]
  },
  {
   "cell_type": "code",
   "execution_count": 48,
   "metadata": {
    "collapsed": true
   },
   "outputs": [],
   "source": [
    "X_test_scaler = scaler.fit_transform(X_test) #normalizing the test set"
   ]
  },
  {
   "cell_type": "code",
   "execution_count": 49,
   "metadata": {},
   "outputs": [
    {
     "data": {
      "text/plain": [
       "0.95584013124914546"
      ]
     },
     "execution_count": 49,
     "metadata": {},
     "output_type": "execute_result"
    }
   ],
   "source": [
    "lrg.fit(X_train_scaler,y_train)\n",
    "lrg.score(X_train_scaler,y_train)"
   ]
  },
  {
   "cell_type": "code",
   "execution_count": 50,
   "metadata": {},
   "outputs": [
    {
     "data": {
      "text/plain": [
       "0.94873547505126454"
      ]
     },
     "execution_count": 50,
     "metadata": {},
     "output_type": "execute_result"
    }
   ],
   "source": [
    "lrg.fit(X_test_scaler,y_test)\n",
    "lrg.score(X_test_scaler,y_test)"
   ]
  },
  {
   "cell_type": "code",
   "execution_count": 51,
   "metadata": {},
   "outputs": [
    {
     "data": {
      "text/plain": [
       "array([[ 0.08495609, -0.78550666,  0.59428415, -0.34628495, -0.53276104,\n",
       "         3.04154854, -0.07877788,  0.20930229,  0.16276012,  0.19274639,\n",
       "        -0.00996594, -0.0429833 ,  0.02629415, -0.10542006, -0.10886491,\n",
       "        -0.04407596,  0.02653217,  0.18924479]])"
      ]
     },
     "execution_count": 51,
     "metadata": {},
     "output_type": "execute_result"
    }
   ],
   "source": [
    "lrg.coef_"
   ]
  },
  {
   "cell_type": "markdown",
   "metadata": {},
   "source": [
    "The color of the Stout seems to be the key indicator with a coeficient of 3.08"
   ]
  },
  {
   "cell_type": "code",
   "execution_count": 52,
   "metadata": {
    "collapsed": true
   },
   "outputs": [],
   "source": [
    "test_pred = lrg.predict(X_test_scaler)"
   ]
  },
  {
   "cell_type": "code",
   "execution_count": 53,
   "metadata": {},
   "outputs": [
    {
     "name": "stdout",
     "output_type": "stream",
     "text": [
      "[[5615  233]\n",
      " [ 142 1325]]\n"
     ]
    }
   ],
   "source": [
    "print(confusion_matrix(y_test,test_pred))"
   ]
  },
  {
   "cell_type": "code",
   "execution_count": 54,
   "metadata": {},
   "outputs": [
    {
     "data": {
      "text/plain": [
       "GridSearchCV(cv=None, error_score='raise',\n",
       "       estimator=LogisticRegression(C=1.0, class_weight=None, dual=False, fit_intercept=True,\n",
       "          intercept_scaling=1, max_iter=100, multi_class='ovr', n_jobs=1,\n",
       "          penalty='l2', random_state=None, solver='liblinear', tol=0.0001,\n",
       "          verbose=0, warm_start=False),\n",
       "       fit_params=None, iid=True, n_jobs=1,\n",
       "       param_grid={'C': [0.001, 0.01, 0.1, 1, 10, 100]},\n",
       "       pre_dispatch='2*n_jobs', refit=True, return_train_score='warn',\n",
       "       scoring='precision', verbose=0)"
      ]
     },
     "execution_count": 54,
     "metadata": {},
     "output_type": "execute_result"
    }
   ],
   "source": [
    "grid.fit(X_test_scaler,y_test)"
   ]
  },
  {
   "cell_type": "code",
   "execution_count": 55,
   "metadata": {
    "collapsed": true
   },
   "outputs": [],
   "source": [
    "pred_test = grid.predict(X_test_scaler)"
   ]
  },
  {
   "cell_type": "code",
   "execution_count": 56,
   "metadata": {},
   "outputs": [
    {
     "name": "stdout",
     "output_type": "stream",
     "text": [
      "[[5615  233]\n",
      " [ 142 1325]]\n"
     ]
    }
   ],
   "source": [
    "print(confusion_matrix(y_test,pred_test))"
   ]
  },
  {
   "cell_type": "code",
   "execution_count": null,
   "metadata": {
    "collapsed": true
   },
   "outputs": [],
   "source": []
  },
  {
   "cell_type": "code",
   "execution_count": 57,
   "metadata": {},
   "outputs": [
    {
     "data": {
      "text/plain": [
       "0.20349989746394148"
      ]
     },
     "execution_count": 57,
     "metadata": {},
     "output_type": "execute_result"
    }
   ],
   "source": [
    "(sum(df5.Stout))/len(df5)"
   ]
  },
  {
   "cell_type": "code",
   "execution_count": 58,
   "metadata": {},
   "outputs": [
    {
     "data": {
      "text/plain": [
       "0.18632946001367054"
      ]
     },
     "execution_count": 58,
     "metadata": {},
     "output_type": "execute_result"
    }
   ],
   "source": [
    "1363/7315 #this time with my stout identification was only off by 1%"
   ]
  },
  {
   "cell_type": "code",
   "execution_count": null,
   "metadata": {
    "collapsed": true
   },
   "outputs": [],
   "source": []
  },
  {
   "cell_type": "code",
   "execution_count": null,
   "metadata": {
    "collapsed": true
   },
   "outputs": [],
   "source": []
  },
  {
   "cell_type": "markdown",
   "metadata": {},
   "source": [
    "## Minimizing the Subset"
   ]
  },
  {
   "cell_type": "code",
   "execution_count": 59,
   "metadata": {},
   "outputs": [
    {
     "name": "stderr",
     "output_type": "stream",
     "text": [
      "/Users/paulszewczyk/anaconda3/lib/python3.6/site-packages/ipykernel_launcher.py:1: SettingWithCopyWarning: \n",
      "A value is trying to be set on a copy of a slice from a DataFrame.\n",
      "Try using .loc[row_indexer,col_indexer] = value instead\n",
      "\n",
      "See the caveats in the documentation: http://pandas.pydata.org/pandas-docs/stable/indexing.html#indexing-view-versus-copy\n",
      "  \"\"\"Entry point for launching an IPython kernel.\n"
     ]
    }
   ],
   "source": [
    "df5['Other_x'] = df5.Cider+df5.Lager+df5.Wheat+df5.Pilsner #due the large number of IPAs, I developed a subet to remove IPA & Stout since it was originally skewing results "
   ]
  },
  {
   "cell_type": "code",
   "execution_count": 60,
   "metadata": {
    "collapsed": true
   },
   "outputs": [],
   "source": [
    "df6 = df5[df5.Other_x >0]\n",
    "df6 = df6.drop('Other_x',axis=1)"
   ]
  },
  {
   "cell_type": "markdown",
   "metadata": {},
   "source": [
    "## Cider"
   ]
  },
  {
   "cell_type": "code",
   "execution_count": 61,
   "metadata": {},
   "outputs": [],
   "source": [
    "X4 = df6\n",
    "X4 = df6.drop('StyleID',axis=1)\n",
    "X4 = X4.drop('Style',axis=1)\n",
    "X4= X4.drop('Name',axis=1)\n",
    "X4= X4.drop('URL',axis=1)\n",
    "X4 = X4.drop('BeerID',axis=1)\n",
    "X4 = X4.drop('SugarScale',axis=1)\n",
    "X4 = X4.drop('BrewMethod',axis = 1)\n",
    "X4 = X4.drop('Stout',axis=1)\n",
    "X4 = X4.drop('IPA',axis=1)\n",
    "X4 = X4.drop('Wheat',axis=1)\n",
    "X4 = X4.drop('Cider',axis=1)\n",
    "X4 = X4.drop('Lager',axis=1)\n",
    "X4 = X4.drop('Pilsner',axis=1)\n",
    "X4=X4\n",
    "\n",
    "y3=df6.Cider"
   ]
  },
  {
   "cell_type": "code",
   "execution_count": 62,
   "metadata": {
    "collapsed": true
   },
   "outputs": [],
   "source": [
    "rand = RandomForestClassifier(max_depth=5)"
   ]
  },
  {
   "cell_type": "code",
   "execution_count": 63,
   "metadata": {},
   "outputs": [
    {
     "data": {
      "text/plain": [
       "RandomForestClassifier(bootstrap=True, class_weight=None, criterion='gini',\n",
       "            max_depth=5, max_features='auto', max_leaf_nodes=None,\n",
       "            min_impurity_decrease=0.0, min_impurity_split=None,\n",
       "            min_samples_leaf=1, min_samples_split=2,\n",
       "            min_weight_fraction_leaf=0.0, n_estimators=10, n_jobs=1,\n",
       "            oob_score=False, random_state=None, verbose=0,\n",
       "            warm_start=False)"
      ]
     },
     "execution_count": 63,
     "metadata": {},
     "output_type": "execute_result"
    }
   ],
   "source": [
    "rand.fit(X4,y3)"
   ]
  },
  {
   "cell_type": "code",
   "execution_count": 64,
   "metadata": {},
   "outputs": [
    {
     "data": {
      "text/plain": [
       "0.98317307692307687"
      ]
     },
     "execution_count": 64,
     "metadata": {},
     "output_type": "execute_result"
    }
   ],
   "source": [
    "rand.score(X4,y3)"
   ]
  },
  {
   "cell_type": "code",
   "execution_count": 65,
   "metadata": {},
   "outputs": [
    {
     "data": {
      "text/plain": [
       "array([ 0.03694458,  0.02816888,  0.10267459,  0.05376682,  0.11005916,\n",
       "        0.06591945,  0.06881814,  0.29865708,  0.03365945,  0.09000458,\n",
       "        0.00707705,  0.04114969,  0.04005008,  0.        ,  0.00398673,\n",
       "        0.00172598,  0.00262923,  0.0147085 ,  0.        ])"
      ]
     },
     "execution_count": 65,
     "metadata": {},
     "output_type": "execute_result"
    }
   ],
   "source": [
    "rand.feature_importances_"
   ]
  },
  {
   "cell_type": "code",
   "execution_count": 66,
   "metadata": {
    "collapsed": true
   },
   "outputs": [],
   "source": [
    "cider_feats = rand.feature_importances_"
   ]
  },
  {
   "cell_type": "code",
   "execution_count": 67,
   "metadata": {},
   "outputs": [
    {
     "data": {
      "text/plain": [
       "array([ 0.03694458,  0.02816888,  0.10267459,  0.05376682,  0.11005916,\n",
       "        0.06591945,  0.06881814,  0.29865708,  0.03365945,  0.09000458,\n",
       "        0.00707705,  0.04114969,  0.04005008,  0.        ,  0.00398673,\n",
       "        0.00172598,  0.00262923,  0.0147085 ,  0.        ])"
      ]
     },
     "execution_count": 67,
     "metadata": {},
     "output_type": "execute_result"
    }
   ],
   "source": [
    "cider_feats"
   ]
  },
  {
   "cell_type": "code",
   "execution_count": 68,
   "metadata": {},
   "outputs": [
    {
     "data": {
      "text/plain": [
       "Index(['Size(L)', 'OG', 'FG', 'ABV', 'IBU', 'Color', 'BoilSize', 'BoilTime',\n",
       "       'BoilGravity', 'Efficiency', 'MashThickness', 'PitchRate',\n",
       "       'PrimaryTemp', 'Sugar', 'All Grain', 'BIAB', 'Partial Mash', 'extract',\n",
       "       'Other'],\n",
       "      dtype='object')"
      ]
     },
     "execution_count": 68,
     "metadata": {},
     "output_type": "execute_result"
    }
   ],
   "source": [
    "X4.columns "
   ]
  },
  {
   "cell_type": "markdown",
   "metadata": {},
   "source": [
    "It appears within Cider, the most important feature is the IBU, which is different from what was expected. Throughout most of the test, it seemed that Color was the main indicator"
   ]
  },
  {
   "cell_type": "code",
   "execution_count": 69,
   "metadata": {
    "collapsed": true
   },
   "outputs": [],
   "source": [
    "X_train,X_test,y_train,y_test = train_test_split(X4,y3)"
   ]
  },
  {
   "cell_type": "code",
   "execution_count": 70,
   "metadata": {
    "collapsed": true
   },
   "outputs": [],
   "source": [
    "scaler_test = scaler.fit_transform(X_test)"
   ]
  },
  {
   "cell_type": "code",
   "execution_count": 71,
   "metadata": {
    "collapsed": true
   },
   "outputs": [],
   "source": [
    "rand.fit(scaler_test,y_test)\n",
    "pred_test = rand.predict(scaler_test)"
   ]
  },
  {
   "cell_type": "code",
   "execution_count": 72,
   "metadata": {
    "collapsed": true
   },
   "outputs": [],
   "source": [
    "param_tree = {'max_depth': np.arange(1,15),'min_samples_leaf':np.arange(1,5)}"
   ]
  },
  {
   "cell_type": "code",
   "execution_count": 73,
   "metadata": {
    "collapsed": true
   },
   "outputs": [],
   "source": [
    "grid_cider = GridSearchCV(rand,param_tree)"
   ]
  },
  {
   "cell_type": "code",
   "execution_count": null,
   "metadata": {
    "collapsed": true
   },
   "outputs": [],
   "source": []
  },
  {
   "cell_type": "code",
   "execution_count": 74,
   "metadata": {},
   "outputs": [
    {
     "data": {
      "text/plain": [
       "GridSearchCV(cv=None, error_score='raise',\n",
       "       estimator=RandomForestClassifier(bootstrap=True, class_weight=None, criterion='gini',\n",
       "            max_depth=5, max_features='auto', max_leaf_nodes=None,\n",
       "            min_impurity_decrease=0.0, min_impurity_split=None,\n",
       "            min_samples_leaf=1, min_samples_split=2,\n",
       "            min_weight_fraction_leaf=0.0, n_estimators=10, n_jobs=1,\n",
       "            oob_score=False, random_state=None, verbose=0,\n",
       "            warm_start=False),\n",
       "       fit_params=None, iid=True, n_jobs=1,\n",
       "       param_grid={'max_depth': array([ 1,  2,  3,  4,  5,  6,  7,  8,  9, 10, 11, 12, 13, 14]), 'min_samples_leaf': array([1, 2, 3, 4])},\n",
       "       pre_dispatch='2*n_jobs', refit=True, return_train_score='warn',\n",
       "       scoring=None, verbose=0)"
      ]
     },
     "execution_count": 74,
     "metadata": {},
     "output_type": "execute_result"
    }
   ],
   "source": [
    "grid_cider.fit(scaler_test,y_test)"
   ]
  },
  {
   "cell_type": "code",
   "execution_count": 75,
   "metadata": {
    "collapsed": true
   },
   "outputs": [],
   "source": [
    "best_cider = grid_cider.best_estimator_"
   ]
  },
  {
   "cell_type": "code",
   "execution_count": 76,
   "metadata": {},
   "outputs": [
    {
     "data": {
      "text/plain": [
       "RandomForestClassifier(bootstrap=True, class_weight=None, criterion='gini',\n",
       "            max_depth=11, max_features='auto', max_leaf_nodes=None,\n",
       "            min_impurity_decrease=0.0, min_impurity_split=None,\n",
       "            min_samples_leaf=1, min_samples_split=2,\n",
       "            min_weight_fraction_leaf=0.0, n_estimators=10, n_jobs=1,\n",
       "            oob_score=False, random_state=None, verbose=0,\n",
       "            warm_start=False)"
      ]
     },
     "execution_count": 76,
     "metadata": {},
     "output_type": "execute_result"
    }
   ],
   "source": [
    "best_cider.fit(scaler_test,y_test)"
   ]
  },
  {
   "cell_type": "code",
   "execution_count": 77,
   "metadata": {},
   "outputs": [
    {
     "data": {
      "text/plain": [
       "array([ 0.05327617,  0.06939482,  0.09235041,  0.11258263,  0.07026539,\n",
       "        0.08480878,  0.09798904,  0.1912647 ,  0.0728924 ,  0.06377841,\n",
       "        0.01246459,  0.0070374 ,  0.03487222,  0.00307796,  0.01052782,\n",
       "        0.01247737,  0.00207521,  0.00886469,  0.        ])"
      ]
     },
     "execution_count": 77,
     "metadata": {},
     "output_type": "execute_result"
    }
   ],
   "source": [
    "best_cider.feature_importances_"
   ]
  },
  {
   "cell_type": "code",
   "execution_count": null,
   "metadata": {
    "collapsed": true
   },
   "outputs": [],
   "source": []
  },
  {
   "cell_type": "code",
   "execution_count": 78,
   "metadata": {
    "collapsed": true
   },
   "outputs": [],
   "source": [
    "pred_test = best_cider.predict(scaler_test)"
   ]
  },
  {
   "cell_type": "code",
   "execution_count": null,
   "metadata": {
    "collapsed": true
   },
   "outputs": [],
   "source": []
  },
  {
   "cell_type": "code",
   "execution_count": null,
   "metadata": {
    "collapsed": true
   },
   "outputs": [],
   "source": []
  },
  {
   "cell_type": "code",
   "execution_count": 79,
   "metadata": {},
   "outputs": [
    {
     "name": "stdout",
     "output_type": "stream",
     "text": [
      "[[1515    0]\n",
      " [   7   38]]\n"
     ]
    }
   ],
   "source": [
    "print(confusion_matrix(y_test,pred_test))"
   ]
  },
  {
   "cell_type": "code",
   "execution_count": null,
   "metadata": {
    "collapsed": true
   },
   "outputs": [],
   "source": []
  },
  {
   "cell_type": "code",
   "execution_count": null,
   "metadata": {
    "collapsed": true
   },
   "outputs": [],
   "source": []
  },
  {
   "cell_type": "code",
   "execution_count": null,
   "metadata": {
    "collapsed": true
   },
   "outputs": [],
   "source": []
  },
  {
   "cell_type": "code",
   "execution_count": 80,
   "metadata": {},
   "outputs": [
    {
     "data": {
      "text/plain": [
       "1560"
      ]
     },
     "execution_count": 80,
     "metadata": {},
     "output_type": "execute_result"
    }
   ],
   "source": [
    "len(X_test)"
   ]
  },
  {
   "cell_type": "code",
   "execution_count": 81,
   "metadata": {},
   "outputs": [
    {
     "data": {
      "text/plain": [
       "0.023076923076923078"
      ]
     },
     "execution_count": 81,
     "metadata": {},
     "output_type": "execute_result"
    }
   ],
   "source": [
    "36/1560"
   ]
  },
  {
   "cell_type": "code",
   "execution_count": 82,
   "metadata": {},
   "outputs": [
    {
     "data": {
      "text/plain": [
       "0.030608974358974358"
      ]
     },
     "execution_count": 82,
     "metadata": {},
     "output_type": "execute_result"
    }
   ],
   "source": [
    "(sum(df6.Cider))/len(df6)"
   ]
  },
  {
   "cell_type": "markdown",
   "metadata": {},
   "source": [
    "## Wheat"
   ]
  },
  {
   "cell_type": "code",
   "execution_count": 166,
   "metadata": {
    "collapsed": true
   },
   "outputs": [],
   "source": [
    "X5 = df6\n",
    "X5 = df6.drop('StyleID',axis=1)\n",
    "X5 = X5.drop('Style',axis=1)\n",
    "X5= X5.drop('Name',axis=1)\n",
    "X5= X5.drop('URL',axis=1)\n",
    "X5 = X5.drop('BeerID',axis=1)\n",
    "X5 = X5.drop('SugarScale',axis=1)\n",
    "X5 = X5.drop('BrewMethod',axis = 1)\n",
    "X5 = X5.drop('Stout',axis=1)\n",
    "X5 = X5.drop('IPA',axis=1)\n",
    "X5 = X5.drop('Wheat',axis=1)\n",
    "X5 = X5.drop('Cider',axis=1)\n",
    "X5 = X5.drop('Lager',axis=1)\n",
    "X5 = X5.drop('Pilsner',axis=1)\n",
    "X5 = X5.drop('Other', axis=1)\n",
    "\n",
    "y4=df6.Wheat"
   ]
  },
  {
   "cell_type": "code",
   "execution_count": 167,
   "metadata": {},
   "outputs": [
    {
     "data": {
      "text/plain": [
       "0.79711538461538467"
      ]
     },
     "execution_count": 167,
     "metadata": {},
     "output_type": "execute_result"
    }
   ],
   "source": [
    "rand.fit(X5,y4)\n",
    "rand.score(X5,y4)"
   ]
  },
  {
   "cell_type": "code",
   "execution_count": 168,
   "metadata": {},
   "outputs": [
    {
     "data": {
      "text/plain": [
       "array([  3.69584601e-02,   3.16441367e-02,   1.57458688e-02,\n",
       "         6.70291438e-02,   1.36630115e-01,   1.68697837e-01,\n",
       "         1.44717464e-02,   1.15839531e-02,   4.32790407e-02,\n",
       "         8.37797320e-03,   4.62622148e-02,   1.46454123e-01,\n",
       "         2.67754096e-01,   9.40973971e-05,   3.60937564e-03,\n",
       "         2.64369965e-04,   6.75136345e-04,   4.68312381e-04])"
      ]
     },
     "execution_count": 168,
     "metadata": {},
     "output_type": "execute_result"
    }
   ],
   "source": [
    "rand.feature_importances_"
   ]
  },
  {
   "cell_type": "code",
   "execution_count": 169,
   "metadata": {},
   "outputs": [
    {
     "data": {
      "text/plain": [
       "Index(['Size(L)', 'OG', 'FG', 'ABV', 'IBU', 'Color', 'BoilSize', 'BoilTime',\n",
       "       'BoilGravity', 'Efficiency', 'MashThickness', 'PitchRate',\n",
       "       'PrimaryTemp', 'Sugar', 'All Grain', 'BIAB', 'Partial Mash', 'extract'],\n",
       "      dtype='object')"
      ]
     },
     "execution_count": 169,
     "metadata": {},
     "output_type": "execute_result"
    }
   ],
   "source": [
    "X5.columns"
   ]
  },
  {
   "cell_type": "code",
   "execution_count": 170,
   "metadata": {
    "collapsed": true
   },
   "outputs": [],
   "source": [
    "X_train,X_test,y_train,y_test = train_test_split(X5,y4)"
   ]
  },
  {
   "cell_type": "code",
   "execution_count": 171,
   "metadata": {
    "collapsed": true
   },
   "outputs": [],
   "source": [
    "scaler_train = scaler.fit_transform(X_train)\n",
    "scaler_test = scaler.fit_transform(X_test)"
   ]
  },
  {
   "cell_type": "code",
   "execution_count": 172,
   "metadata": {},
   "outputs": [
    {
     "data": {
      "text/plain": [
       "RandomForestClassifier(bootstrap=True, class_weight=None, criterion='gini',\n",
       "            max_depth=5, max_features='auto', max_leaf_nodes=None,\n",
       "            min_impurity_decrease=0.0, min_impurity_split=None,\n",
       "            min_samples_leaf=1, min_samples_split=2,\n",
       "            min_weight_fraction_leaf=0.0, n_estimators=10, n_jobs=1,\n",
       "            oob_score=False, random_state=None, verbose=0,\n",
       "            warm_start=False)"
      ]
     },
     "execution_count": 172,
     "metadata": {},
     "output_type": "execute_result"
    }
   ],
   "source": [
    "rand.fit(scaler_test,y_test)"
   ]
  },
  {
   "cell_type": "code",
   "execution_count": 173,
   "metadata": {},
   "outputs": [
    {
     "data": {
      "text/plain": [
       "0.8224358974358974"
      ]
     },
     "execution_count": 173,
     "metadata": {},
     "output_type": "execute_result"
    }
   ],
   "source": [
    "rand.score(scaler_test,y_test)"
   ]
  },
  {
   "cell_type": "code",
   "execution_count": 174,
   "metadata": {
    "collapsed": true
   },
   "outputs": [],
   "source": [
    "pred_wheat = rand.predict(scaler_test)"
   ]
  },
  {
   "cell_type": "code",
   "execution_count": 175,
   "metadata": {
    "collapsed": true
   },
   "outputs": [],
   "source": [
    "#print(confusion_matrix(y_test,pred_wheat))"
   ]
  },
  {
   "cell_type": "code",
   "execution_count": 176,
   "metadata": {},
   "outputs": [
    {
     "data": {
      "text/plain": [
       "0.20288461538461539"
      ]
     },
     "execution_count": 176,
     "metadata": {},
     "output_type": "execute_result"
    }
   ],
   "source": [
    "(sum(df6.Wheat))/len(df6)"
   ]
  },
  {
   "cell_type": "code",
   "execution_count": 177,
   "metadata": {
    "collapsed": true
   },
   "outputs": [],
   "source": [
    "#53/1560"
   ]
  },
  {
   "cell_type": "code",
   "execution_count": 178,
   "metadata": {
    "collapsed": true
   },
   "outputs": [],
   "source": [
    "param_tree = {'max_depth': np.arange(1,15),'min_samples_leaf':np.arange(1,5)}"
   ]
  },
  {
   "cell_type": "code",
   "execution_count": 179,
   "metadata": {
    "collapsed": true
   },
   "outputs": [],
   "source": [
    "grid_wheat = GridSearchCV(rand,param_tree)"
   ]
  },
  {
   "cell_type": "code",
   "execution_count": 180,
   "metadata": {},
   "outputs": [
    {
     "data": {
      "text/plain": [
       "GridSearchCV(cv=None, error_score='raise',\n",
       "       estimator=RandomForestClassifier(bootstrap=True, class_weight=None, criterion='gini',\n",
       "            max_depth=5, max_features='auto', max_leaf_nodes=None,\n",
       "            min_impurity_decrease=0.0, min_impurity_split=None,\n",
       "            min_samples_leaf=1, min_samples_split=2,\n",
       "            min_weight_fraction_leaf=0.0, n_estimators=10, n_jobs=1,\n",
       "            oob_score=False, random_state=None, verbose=0,\n",
       "            warm_start=False),\n",
       "       fit_params=None, iid=True, n_jobs=1,\n",
       "       param_grid={'max_depth': array([ 1,  2,  3,  4,  5,  6,  7,  8,  9, 10, 11, 12, 13, 14]), 'min_samples_leaf': array([1, 2, 3, 4])},\n",
       "       pre_dispatch='2*n_jobs', refit=True, return_train_score='warn',\n",
       "       scoring=None, verbose=0)"
      ]
     },
     "execution_count": 180,
     "metadata": {},
     "output_type": "execute_result"
    }
   ],
   "source": [
    "grid_wheat.fit(scaler_test,y_test)"
   ]
  },
  {
   "cell_type": "code",
   "execution_count": 181,
   "metadata": {
    "collapsed": true
   },
   "outputs": [],
   "source": [
    "best_wheat = grid_wheat.best_estimator_"
   ]
  },
  {
   "cell_type": "code",
   "execution_count": 182,
   "metadata": {
    "collapsed": true
   },
   "outputs": [],
   "source": [
    "best_wheat.fit(scaler_test,y_test)\n",
    "best_wheat_pred = best_wheat.predict(scaler_test)"
   ]
  },
  {
   "cell_type": "code",
   "execution_count": 183,
   "metadata": {},
   "outputs": [
    {
     "name": "stdout",
     "output_type": "stream",
     "text": [
      "[[1251   18]\n",
      " [ 134  157]]\n"
     ]
    }
   ],
   "source": [
    "print(confusion_matrix(y_test,best_wheat_pred))"
   ]
  },
  {
   "cell_type": "code",
   "execution_count": 184,
   "metadata": {},
   "outputs": [
    {
     "data": {
      "text/plain": [
       "0.19487179487179487"
      ]
     },
     "execution_count": 184,
     "metadata": {},
     "output_type": "execute_result"
    }
   ],
   "source": [
    "304/1560"
   ]
  },
  {
   "cell_type": "code",
   "execution_count": 185,
   "metadata": {},
   "outputs": [
    {
     "data": {
      "text/plain": [
       "array([  3.96057104e-02,   5.66373786e-02,   3.68036748e-02,\n",
       "         1.04750748e-01,   1.31944523e-01,   1.71529775e-01,\n",
       "         4.79643533e-02,   6.49548973e-03,   5.90387974e-02,\n",
       "         2.53417074e-02,   4.47203912e-02,   8.92748064e-02,\n",
       "         1.66862664e-01,   0.00000000e+00,   9.32456783e-03,\n",
       "         2.68666720e-03,   1.53705393e-04,   6.86503993e-03])"
      ]
     },
     "execution_count": 185,
     "metadata": {},
     "output_type": "execute_result"
    }
   ],
   "source": [
    "best_wheat.feature_importances_"
   ]
  },
  {
   "cell_type": "markdown",
   "metadata": {
    "collapsed": true
   },
   "source": [
    "After tuning the algorithm, it appears that Color is the most important feature within wheat beer"
   ]
  },
  {
   "cell_type": "markdown",
   "metadata": {},
   "source": [
    "## Lager"
   ]
  },
  {
   "cell_type": "code",
   "execution_count": 103,
   "metadata": {
    "collapsed": true
   },
   "outputs": [],
   "source": [
    "X6 = df6\n",
    "X6 = df6.drop('StyleID',axis=1)\n",
    "X6 = X6.drop('Style',axis=1)\n",
    "X6 = X6.drop('Name',axis=1)\n",
    "X6= X6.drop('URL',axis=1)\n",
    "X6 = X6.drop('BeerID',axis=1)\n",
    "X6 = X6.drop('SugarScale',axis=1)\n",
    "X6 = X6.drop('BrewMethod',axis = 1)\n",
    "X6 = X6.drop('Stout',axis=1)\n",
    "X6 = X6.drop('IPA',axis=1)\n",
    "X6 = X6.drop('Wheat',axis=1)\n",
    "X6 = X6.drop('Cider',axis=1)\n",
    "X6 = X6.drop('Lager',axis=1)\n",
    "X6 = X6.drop('Pilsner',axis=1)\n",
    "\n",
    "y5=df6.Lager"
   ]
  },
  {
   "cell_type": "code",
   "execution_count": null,
   "metadata": {
    "collapsed": true
   },
   "outputs": [],
   "source": []
  },
  {
   "cell_type": "code",
   "execution_count": 104,
   "metadata": {
    "collapsed": true
   },
   "outputs": [],
   "source": [
    "X_train,X_test,y_train,y_test = train_test_split(X6,y5)"
   ]
  },
  {
   "cell_type": "code",
   "execution_count": 105,
   "metadata": {
    "collapsed": true
   },
   "outputs": [],
   "source": [
    "scaler_test = scaler.fit_transform(X_test)\n",
    "scaler_train = scaler.fit_transform(X_train)"
   ]
  },
  {
   "cell_type": "code",
   "execution_count": 106,
   "metadata": {},
   "outputs": [
    {
     "data": {
      "text/plain": [
       "0.72756410256410253"
      ]
     },
     "execution_count": 106,
     "metadata": {},
     "output_type": "execute_result"
    }
   ],
   "source": [
    "rand.fit(scaler_train,y_train)\n",
    "rand.score(scaler_train,y_train)"
   ]
  },
  {
   "cell_type": "code",
   "execution_count": 107,
   "metadata": {},
   "outputs": [
    {
     "data": {
      "text/plain": [
       "GridSearchCV(cv=None, error_score='raise',\n",
       "       estimator=LogisticRegression(C=1.0, class_weight=None, dual=False, fit_intercept=True,\n",
       "          intercept_scaling=1, max_iter=100, multi_class='ovr', n_jobs=1,\n",
       "          penalty='l2', random_state=None, solver='liblinear', tol=0.0001,\n",
       "          verbose=0, warm_start=False),\n",
       "       fit_params=None, iid=True, n_jobs=1,\n",
       "       param_grid={'C': [0.001, 0.01, 0.1, 1, 10, 100]},\n",
       "       pre_dispatch='2*n_jobs', refit=True, return_train_score='warn',\n",
       "       scoring='precision', verbose=0)"
      ]
     },
     "execution_count": 107,
     "metadata": {},
     "output_type": "execute_result"
    }
   ],
   "source": [
    "grid.fit(scaler_train,y_train)\n",
    "grid.fit(scaler_test,y_test)\n"
   ]
  },
  {
   "cell_type": "code",
   "execution_count": 108,
   "metadata": {
    "collapsed": true
   },
   "outputs": [],
   "source": [
    "best_test_lager = grid.best_estimator_\n"
   ]
  },
  {
   "cell_type": "code",
   "execution_count": 109,
   "metadata": {},
   "outputs": [
    {
     "data": {
      "text/plain": [
       "LogisticRegression(C=10, class_weight=None, dual=False, fit_intercept=True,\n",
       "          intercept_scaling=1, max_iter=100, multi_class='ovr', n_jobs=1,\n",
       "          penalty='l2', random_state=None, solver='liblinear', tol=0.0001,\n",
       "          verbose=0, warm_start=False)"
      ]
     },
     "execution_count": 109,
     "metadata": {},
     "output_type": "execute_result"
    }
   ],
   "source": [
    "best_test_lager.fit(scaler_test,y_test)"
   ]
  },
  {
   "cell_type": "code",
   "execution_count": 110,
   "metadata": {
    "collapsed": true
   },
   "outputs": [],
   "source": [
    "pred_lager = best_test_lager.predict(scaler_test)"
   ]
  },
  {
   "cell_type": "code",
   "execution_count": 111,
   "metadata": {},
   "outputs": [
    {
     "name": "stdout",
     "output_type": "stream",
     "text": [
      "[[157 397]\n",
      " [129 877]]\n"
     ]
    }
   ],
   "source": [
    "print(confusion_matrix(y_test,pred_lager))"
   ]
  },
  {
   "cell_type": "code",
   "execution_count": 112,
   "metadata": {},
   "outputs": [
    {
     "data": {
      "text/plain": [
       "0.6586538461538461"
      ]
     },
     "execution_count": 112,
     "metadata": {},
     "output_type": "execute_result"
    }
   ],
   "source": [
    "(sum(df6.Lager))/len(df6)"
   ]
  },
  {
   "cell_type": "code",
   "execution_count": 113,
   "metadata": {},
   "outputs": [
    {
     "data": {
      "text/plain": [
       "0.6262820512820513"
      ]
     },
     "execution_count": 113,
     "metadata": {},
     "output_type": "execute_result"
    }
   ],
   "source": [
    "977/1560"
   ]
  },
  {
   "cell_type": "code",
   "execution_count": 114,
   "metadata": {},
   "outputs": [
    {
     "data": {
      "text/plain": [
       "array([ 0.01869433,  0.06919043,  0.01300588,  0.11418876,  0.06189133,\n",
       "        0.31703329,  0.02105285,  0.0561907 ,  0.01547182,  0.01961246,\n",
       "        0.07027712,  0.11063672,  0.1081389 ,  0.00048054,  0.        ,\n",
       "        0.        ,  0.00262071,  0.00151417,  0.        ])"
      ]
     },
     "execution_count": 114,
     "metadata": {},
     "output_type": "execute_result"
    }
   ],
   "source": [
    "rand.feature_importances_"
   ]
  },
  {
   "cell_type": "code",
   "execution_count": 115,
   "metadata": {
    "collapsed": true
   },
   "outputs": [],
   "source": [
    "lag_feat = rand.feature_importances_"
   ]
  },
  {
   "cell_type": "code",
   "execution_count": 116,
   "metadata": {},
   "outputs": [
    {
     "data": {
      "image/png": "[encoded data removed]",
      "text/plain": [
       "<matplotlib.figure.Figure at 0x110509cc0>"
      ]
     },
     "metadata": {},
     "output_type": "display_data"
    }
   ],
   "source": [
    "plt.figure()\n",
    "plt.bar(range(len(lag_feat)), lag_feat)\n",
    "plt.xticks(range(len(lag_feat)), X6.columns, rotation = 70); #visualizing feature importance"
   ]
  },
  {
   "cell_type": "code",
   "execution_count": null,
   "metadata": {
    "collapsed": true
   },
   "outputs": [],
   "source": []
  },
  {
   "cell_type": "markdown",
   "metadata": {},
   "source": [
    "## Pilsner"
   ]
  },
  {
   "cell_type": "code",
   "execution_count": 150,
   "metadata": {
    "collapsed": true
   },
   "outputs": [],
   "source": [
    "X7 = df6\n",
    "X7 = df6.drop('StyleID',axis=1)\n",
    "X7 = X7.drop('Style',axis=1)\n",
    "X7 = X7.drop('Name',axis=1)\n",
    "X7= X7.drop('URL',axis=1)\n",
    "X7 = X7.drop('BeerID',axis=1)\n",
    "X7 = X7.drop('SugarScale',axis=1)\n",
    "X7 = X7.drop('BrewMethod',axis = 1)\n",
    "X7 = X7.drop('Stout',axis=1)\n",
    "X7 = X7.drop('IPA',axis=1)\n",
    "X7 = X7.drop('Wheat',axis=1)\n",
    "X7 = X7.drop('Cider',axis=1)\n",
    "X7 = X7.drop('Lager',axis=1)\n",
    "X7 = X7.drop('Pilsner',axis=1)\n",
    "\n",
    "y6=df6.Pilsner"
   ]
  },
  {
   "cell_type": "code",
   "execution_count": 151,
   "metadata": {
    "collapsed": true
   },
   "outputs": [],
   "source": [
    "X_train,X_test,y_train,y_test = train_test_split(X7,y6)"
   ]
  },
  {
   "cell_type": "code",
   "execution_count": 152,
   "metadata": {
    "collapsed": true
   },
   "outputs": [],
   "source": [
    "scaler_train = scaler.fit_transform(X_train)\n",
    "scaler_test = scaler.fit_transform(X_test)"
   ]
  },
  {
   "cell_type": "code",
   "execution_count": 153,
   "metadata": {},
   "outputs": [
    {
     "data": {
      "text/plain": [
       "RandomForestClassifier(bootstrap=True, class_weight=None, criterion='gini',\n",
       "            max_depth=5, max_features='auto', max_leaf_nodes=None,\n",
       "            min_impurity_decrease=0.0, min_impurity_split=None,\n",
       "            min_samples_leaf=1, min_samples_split=2,\n",
       "            min_weight_fraction_leaf=0.0, n_estimators=10, n_jobs=1,\n",
       "            oob_score=False, random_state=None, verbose=0,\n",
       "            warm_start=False)"
      ]
     },
     "execution_count": 153,
     "metadata": {},
     "output_type": "execute_result"
    }
   ],
   "source": [
    "rand.fit(scaler_test,y_test)\n"
   ]
  },
  {
   "cell_type": "code",
   "execution_count": 154,
   "metadata": {},
   "outputs": [
    {
     "name": "stderr",
     "output_type": "stream",
     "text": [
      "/Users/paulszewczyk/anaconda3/lib/python3.6/site-packages/sklearn/metrics/classification.py:1135: UndefinedMetricWarning: Precision is ill-defined and being set to 0.0 due to no predicted samples.\n",
      "  'precision', 'predicted', average, warn_for)\n"
     ]
    },
    {
     "data": {
      "text/plain": [
       "GridSearchCV(cv=None, error_score='raise',\n",
       "       estimator=LogisticRegression(C=1.0, class_weight=None, dual=False, fit_intercept=True,\n",
       "          intercept_scaling=1, max_iter=100, multi_class='ovr', n_jobs=1,\n",
       "          penalty='l2', random_state=None, solver='liblinear', tol=0.0001,\n",
       "          verbose=0, warm_start=False),\n",
       "       fit_params=None, iid=True, n_jobs=1,\n",
       "       param_grid={'C': [0.001, 0.01, 0.1, 1, 10, 100]},\n",
       "       pre_dispatch='2*n_jobs', refit=True, return_train_score='warn',\n",
       "       scoring='precision', verbose=0)"
      ]
     },
     "execution_count": 154,
     "metadata": {},
     "output_type": "execute_result"
    }
   ],
   "source": [
    "grid.fit(scaler_test,y_test)"
   ]
  },
  {
   "cell_type": "code",
   "execution_count": 155,
   "metadata": {
    "collapsed": true
   },
   "outputs": [],
   "source": [
    "best_test_pils = grid.best_estimator_"
   ]
  },
  {
   "cell_type": "code",
   "execution_count": 156,
   "metadata": {},
   "outputs": [
    {
     "data": {
      "text/plain": [
       "LogisticRegression(C=0.1, class_weight=None, dual=False, fit_intercept=True,\n",
       "          intercept_scaling=1, max_iter=100, multi_class='ovr', n_jobs=1,\n",
       "          penalty='l2', random_state=None, solver='liblinear', tol=0.0001,\n",
       "          verbose=0, warm_start=False)"
      ]
     },
     "execution_count": 156,
     "metadata": {},
     "output_type": "execute_result"
    }
   ],
   "source": [
    "best_test_pils.fit(scaler_test,y_test)"
   ]
  },
  {
   "cell_type": "code",
   "execution_count": 157,
   "metadata": {
    "collapsed": true
   },
   "outputs": [],
   "source": [
    "pred_pils = best_test_pils.predict(scaler_test)"
   ]
  },
  {
   "cell_type": "code",
   "execution_count": 158,
   "metadata": {},
   "outputs": [
    {
     "name": "stdout",
     "output_type": "stream",
     "text": [
      "[[1370    5]\n",
      " [ 177    8]]\n"
     ]
    }
   ],
   "source": [
    "print(confusion_matrix(y_test,pred_pils))"
   ]
  },
  {
   "cell_type": "code",
   "execution_count": 159,
   "metadata": {},
   "outputs": [
    {
     "data": {
      "text/plain": [
       "0.6301282051282051"
      ]
     },
     "execution_count": 159,
     "metadata": {},
     "output_type": "execute_result"
    }
   ],
   "source": [
    "983/1560"
   ]
  },
  {
   "cell_type": "code",
   "execution_count": 160,
   "metadata": {},
   "outputs": [
    {
     "data": {
      "text/plain": [
       "0.10785256410256411"
      ]
     },
     "execution_count": 160,
     "metadata": {},
     "output_type": "execute_result"
    }
   ],
   "source": [
    "(sum(df6.Pilsner))/len(df6)"
   ]
  },
  {
   "cell_type": "code",
   "execution_count": 161,
   "metadata": {},
   "outputs": [
    {
     "data": {
      "text/plain": [
       "0.0038461538461538464"
      ]
     },
     "execution_count": 161,
     "metadata": {},
     "output_type": "execute_result"
    }
   ],
   "source": [
    "6/1560"
   ]
  },
  {
   "cell_type": "code",
   "execution_count": 162,
   "metadata": {
    "collapsed": true
   },
   "outputs": [],
   "source": [
    "pilsn_feature = rand.feature_importances_"
   ]
  },
  {
   "cell_type": "code",
   "execution_count": 163,
   "metadata": {},
   "outputs": [
    {
     "data": {
      "text/plain": [
       "array([ 0.04793005,  0.04935915,  0.01690114,  0.05426208,  0.09045253,\n",
       "        0.22759534,  0.07081684,  0.09550269,  0.04183557,  0.04172549,\n",
       "        0.03765248,  0.045012  ,  0.16780869,  0.00051672,  0.00615174,\n",
       "        0.0064775 ,  0.        ,  0.        ,  0.        ])"
      ]
     },
     "execution_count": 163,
     "metadata": {},
     "output_type": "execute_result"
    }
   ],
   "source": [
    "pilsn_feature"
   ]
  },
  {
   "cell_type": "code",
   "execution_count": 164,
   "metadata": {},
   "outputs": [
    {
     "data": {
      "text/plain": [
       "Index(['Size(L)', 'OG', 'FG', 'ABV', 'IBU', 'Color', 'BoilSize', 'BoilTime',\n",
       "       'BoilGravity', 'Efficiency', 'MashThickness', 'PitchRate',\n",
       "       'PrimaryTemp', 'Sugar', 'All Grain', 'BIAB', 'Partial Mash', 'extract',\n",
       "       'Other'],\n",
       "      dtype='object')"
      ]
     },
     "execution_count": 164,
     "metadata": {},
     "output_type": "execute_result"
    }
   ],
   "source": [
    "X7.columns"
   ]
  },
  {
   "cell_type": "code",
   "execution_count": 165,
   "metadata": {},
   "outputs": [
    {
     "data": {
      "image/png": "[encoded data removed]",
      "text/plain": [
       "<matplotlib.figure.Figure at 0x1a21ac1e80>"
      ]
     },
     "metadata": {},
     "output_type": "display_data"
    }
   ],
   "source": [
    "plt.figure()\n",
    "plt.bar(range(len(pilsn_feature)), pilsn_feature)\n",
    "plt.xticks(range(len(pilsn_feature)), X7.columns, rotation = 70); #visualizing feature importance"
   ]
  },
  {
   "cell_type": "code",
   "execution_count": null,
   "metadata": {
    "collapsed": true
   },
   "outputs": [],
   "source": []
  },
  {
   "cell_type": "markdown",
   "metadata": {},
   "source": [
    "## Color Breakdown"
   ]
  },
  {
   "cell_type": "code",
   "execution_count": 133,
   "metadata": {
    "collapsed": true
   },
   "outputs": [],
   "source": [
    "ipa = df[df['Style'].str.contains('IPA')]"
   ]
  },
  {
   "cell_type": "code",
   "execution_count": 134,
   "metadata": {},
   "outputs": [
    {
     "data": {
      "text/html": [
       "<div>\n",
       "<style scoped>\n",
       "    .dataframe tbody tr th:only-of-type {\n",
       "        vertical-align: middle;\n",
       "    }\n",
       "\n",
       "    .dataframe tbody tr th {\n",
       "        vertical-align: top;\n",
       "    }\n",
       "\n",
       "    .dataframe thead th {\n",
       "        text-align: right;\n",
       "    }\n",
       "</style>\n",
       "<table border=\"1\" class=\"dataframe\">\n",
       "  <thead>\n",
       "    <tr style=\"text-align: right;\">\n",
       "      <th></th>\n",
       "      <th>BeerID</th>\n",
       "      <th>Name</th>\n",
       "      <th>URL</th>\n",
       "      <th>Style</th>\n",
       "      <th>StyleID</th>\n",
       "      <th>Size(L)</th>\n",
       "      <th>OG</th>\n",
       "      <th>FG</th>\n",
       "      <th>ABV</th>\n",
       "      <th>IBU</th>\n",
       "      <th>...</th>\n",
       "      <th>All Grain</th>\n",
       "      <th>BIAB</th>\n",
       "      <th>Partial Mash</th>\n",
       "      <th>extract</th>\n",
       "      <th>IPA</th>\n",
       "      <th>Stout</th>\n",
       "      <th>Cider</th>\n",
       "      <th>Lager</th>\n",
       "      <th>Pilsner</th>\n",
       "      <th>Wheat</th>\n",
       "    </tr>\n",
       "  </thead>\n",
       "  <tbody>\n",
       "    <tr>\n",
       "      <th>2</th>\n",
       "      <td>3</td>\n",
       "      <td>Zombie Dust Clone - EXTRACT</td>\n",
       "      <td>/homebrew/recipe/view/5920/zombie-dust-clone-e...</td>\n",
       "      <td>American IPA</td>\n",
       "      <td>7</td>\n",
       "      <td>18.93</td>\n",
       "      <td>1.063</td>\n",
       "      <td>1.018</td>\n",
       "      <td>5.91</td>\n",
       "      <td>59.25</td>\n",
       "      <td>...</td>\n",
       "      <td>0</td>\n",
       "      <td>0</td>\n",
       "      <td>0</td>\n",
       "      <td>1</td>\n",
       "      <td>1</td>\n",
       "      <td>0</td>\n",
       "      <td>0</td>\n",
       "      <td>0</td>\n",
       "      <td>0</td>\n",
       "      <td>0</td>\n",
       "    </tr>\n",
       "    <tr>\n",
       "      <th>3</th>\n",
       "      <td>4</td>\n",
       "      <td>Zombie Dust Clone - ALL GRAIN</td>\n",
       "      <td>/homebrew/recipe/view/5916/zombie-dust-clone-a...</td>\n",
       "      <td>American IPA</td>\n",
       "      <td>7</td>\n",
       "      <td>22.71</td>\n",
       "      <td>1.061</td>\n",
       "      <td>1.017</td>\n",
       "      <td>5.80</td>\n",
       "      <td>54.48</td>\n",
       "      <td>...</td>\n",
       "      <td>1</td>\n",
       "      <td>0</td>\n",
       "      <td>0</td>\n",
       "      <td>0</td>\n",
       "      <td>1</td>\n",
       "      <td>0</td>\n",
       "      <td>0</td>\n",
       "      <td>0</td>\n",
       "      <td>0</td>\n",
       "      <td>0</td>\n",
       "    </tr>\n",
       "    <tr>\n",
       "      <th>6</th>\n",
       "      <td>7</td>\n",
       "      <td>Russian River Pliny the Elder (original)</td>\n",
       "      <td>/homebrew/recipe/view/37534/russian-river-plin...</td>\n",
       "      <td>Imperial IPA</td>\n",
       "      <td>86</td>\n",
       "      <td>22.71</td>\n",
       "      <td>1.072</td>\n",
       "      <td>1.018</td>\n",
       "      <td>7.09</td>\n",
       "      <td>268.71</td>\n",
       "      <td>...</td>\n",
       "      <td>1</td>\n",
       "      <td>0</td>\n",
       "      <td>0</td>\n",
       "      <td>0</td>\n",
       "      <td>1</td>\n",
       "      <td>0</td>\n",
       "      <td>0</td>\n",
       "      <td>0</td>\n",
       "      <td>0</td>\n",
       "      <td>0</td>\n",
       "    </tr>\n",
       "    <tr>\n",
       "      <th>9</th>\n",
       "      <td>10</td>\n",
       "      <td>Mango Habanero IPA</td>\n",
       "      <td>/homebrew/recipe/view/61082/mango-habanero-ipa</td>\n",
       "      <td>Imperial IPA</td>\n",
       "      <td>86</td>\n",
       "      <td>20.82</td>\n",
       "      <td>1.080</td>\n",
       "      <td>1.017</td>\n",
       "      <td>8.22</td>\n",
       "      <td>93.02</td>\n",
       "      <td>...</td>\n",
       "      <td>1</td>\n",
       "      <td>0</td>\n",
       "      <td>0</td>\n",
       "      <td>0</td>\n",
       "      <td>1</td>\n",
       "      <td>0</td>\n",
       "      <td>0</td>\n",
       "      <td>0</td>\n",
       "      <td>0</td>\n",
       "      <td>0</td>\n",
       "    </tr>\n",
       "    <tr>\n",
       "      <th>10</th>\n",
       "      <td>11</td>\n",
       "      <td>Bakke Brygg HveteIPA 25 L</td>\n",
       "      <td>/homebrew/recipe/view/73890/bakke-brygg-hvetei...</td>\n",
       "      <td>American IPA</td>\n",
       "      <td>7</td>\n",
       "      <td>25.00</td>\n",
       "      <td>1.064</td>\n",
       "      <td>1.014</td>\n",
       "      <td>6.63</td>\n",
       "      <td>64.26</td>\n",
       "      <td>...</td>\n",
       "      <td>1</td>\n",
       "      <td>0</td>\n",
       "      <td>0</td>\n",
       "      <td>0</td>\n",
       "      <td>1</td>\n",
       "      <td>0</td>\n",
       "      <td>0</td>\n",
       "      <td>0</td>\n",
       "      <td>0</td>\n",
       "      <td>0</td>\n",
       "    </tr>\n",
       "  </tbody>\n",
       "</table>\n",
       "<p>5 rows × 31 columns</p>\n",
       "</div>"
      ],
      "text/plain": [
       "    BeerID                                      Name  \\\n",
       "2        3               Zombie Dust Clone - EXTRACT   \n",
       "3        4             Zombie Dust Clone - ALL GRAIN   \n",
       "6        7  Russian River Pliny the Elder (original)   \n",
       "9       10                        Mango Habanero IPA   \n",
       "10      11                 Bakke Brygg HveteIPA 25 L   \n",
       "\n",
       "                                                  URL         Style  StyleID  \\\n",
       "2   /homebrew/recipe/view/5920/zombie-dust-clone-e...  American IPA        7   \n",
       "3   /homebrew/recipe/view/5916/zombie-dust-clone-a...  American IPA        7   \n",
       "6   /homebrew/recipe/view/37534/russian-river-plin...  Imperial IPA       86   \n",
       "9      /homebrew/recipe/view/61082/mango-habanero-ipa  Imperial IPA       86   \n",
       "10  /homebrew/recipe/view/73890/bakke-brygg-hvetei...  American IPA        7   \n",
       "\n",
       "    Size(L)     OG     FG   ABV     IBU  ...    All Grain  BIAB  Partial Mash  \\\n",
       "2     18.93  1.063  1.018  5.91   59.25  ...            0     0             0   \n",
       "3     22.71  1.061  1.017  5.80   54.48  ...            1     0             0   \n",
       "6     22.71  1.072  1.018  7.09  268.71  ...            1     0             0   \n",
       "9     20.82  1.080  1.017  8.22   93.02  ...            1     0             0   \n",
       "10    25.00  1.064  1.014  6.63   64.26  ...            1     0             0   \n",
       "\n",
       "    extract  IPA  Stout Cider Lager  Pilsner  Wheat  \n",
       "2         1    1      0     0     0        0      0  \n",
       "3         0    1      0     0     0        0      0  \n",
       "6         0    1      0     0     0        0      0  \n",
       "9         0    1      0     0     0        0      0  \n",
       "10        0    1      0     0     0        0      0  \n",
       "\n",
       "[5 rows x 31 columns]"
      ]
     },
     "execution_count": 134,
     "metadata": {},
     "output_type": "execute_result"
    }
   ],
   "source": [
    "ipa.head()"
   ]
  },
  {
   "cell_type": "code",
   "execution_count": 135,
   "metadata": {
    "collapsed": true
   },
   "outputs": [],
   "source": [
    "stout = df[df['Style'].str.contains('Stout')]\n",
    "pilsner = df[df['Style'].str.contains('Pilsner')]\n",
    "wheat =df[df['Style'].str.contains('Wheat')]\n",
    "lager =df[df['Style'].str.contains('Lager')]\n",
    "cider =df[df['Style'].str.contains('Cider')]"
   ]
  },
  {
   "cell_type": "code",
   "execution_count": 136,
   "metadata": {},
   "outputs": [
    {
     "name": "stderr",
     "output_type": "stream",
     "text": [
      "/Users/paulszewczyk/anaconda3/lib/python3.6/site-packages/seaborn/categorical.py:462: FutureWarning: remove_na is deprecated and is a private function. Do not use.\n",
      "  box_data = remove_na(group_data)\n"
     ]
    },
    {
     "data": {
      "text/plain": [
       "<matplotlib.axes._subplots.AxesSubplot at 0x1a15cb37b8>"
      ]
     },
     "execution_count": 136,
     "metadata": {},
     "output_type": "execute_result"
    },
    {
     "data": {
      "image/png": "[encoded data removed]",
      "text/plain": [
       "<matplotlib.figure.Figure at 0x1a15ca3b00>"
      ]
     },
     "metadata": {},
     "output_type": "display_data"
    }
   ],
   "source": [
    "plt.figure()\n",
    "\n",
    "sns.boxplot(x=ipa.Color)"
   ]
  },
  {
   "cell_type": "code",
   "execution_count": 137,
   "metadata": {},
   "outputs": [
    {
     "name": "stderr",
     "output_type": "stream",
     "text": [
      "/Users/paulszewczyk/anaconda3/lib/python3.6/site-packages/seaborn/categorical.py:462: FutureWarning: remove_na is deprecated and is a private function. Do not use.\n",
      "  box_data = remove_na(group_data)\n"
     ]
    },
    {
     "data": {
      "text/plain": [
       "<matplotlib.axes._subplots.AxesSubplot at 0x1a1817ca90>"
      ]
     },
     "execution_count": 137,
     "metadata": {},
     "output_type": "execute_result"
    },
    {
     "data": {
      "image/png": "[encoded data removed]",
      "text/plain": [
       "<matplotlib.figure.Figure at 0x1104eba20>"
      ]
     },
     "metadata": {},
     "output_type": "display_data"
    }
   ],
   "source": [
    "plt.figure()\n",
    "\n",
    "sns.boxplot(x=stout.Color)"
   ]
  },
  {
   "cell_type": "code",
   "execution_count": 138,
   "metadata": {},
   "outputs": [
    {
     "name": "stderr",
     "output_type": "stream",
     "text": [
      "/Users/paulszewczyk/anaconda3/lib/python3.6/site-packages/seaborn/categorical.py:462: FutureWarning: remove_na is deprecated and is a private function. Do not use.\n",
      "  box_data = remove_na(group_data)\n"
     ]
    },
    {
     "data": {
      "text/plain": [
       "<matplotlib.axes._subplots.AxesSubplot at 0x1a18683e48>"
      ]
     },
     "execution_count": 138,
     "metadata": {},
     "output_type": "execute_result"
    },
    {
     "data": {
      "image/png": "[encoded data removed]",
      "text/plain": [
       "<matplotlib.figure.Figure at 0x1a21785940>"
      ]
     },
     "metadata": {},
     "output_type": "display_data"
    }
   ],
   "source": [
    "plt.figure()\n",
    "\n",
    "sns.boxplot(x=pilsner.Color)"
   ]
  },
  {
   "cell_type": "code",
   "execution_count": 139,
   "metadata": {},
   "outputs": [
    {
     "name": "stderr",
     "output_type": "stream",
     "text": [
      "/Users/paulszewczyk/anaconda3/lib/python3.6/site-packages/seaborn/categorical.py:462: FutureWarning: remove_na is deprecated and is a private function. Do not use.\n",
      "  box_data = remove_na(group_data)\n"
     ]
    },
    {
     "data": {
      "text/plain": [
       "<matplotlib.axes._subplots.AxesSubplot at 0x1a21785f60>"
      ]
     },
     "execution_count": 139,
     "metadata": {},
     "output_type": "execute_result"
    },
    {
     "data": {
      "image/png": "[encoded data removed]",
      "text/plain": [
       "<matplotlib.figure.Figure at 0x1a217e84a8>"
      ]
     },
     "metadata": {},
     "output_type": "display_data"
    }
   ],
   "source": [
    "plt.figure()\n",
    "\n",
    "sns.boxplot(x=wheat.Color)"
   ]
  },
  {
   "cell_type": "code",
   "execution_count": 140,
   "metadata": {},
   "outputs": [
    {
     "data": {
      "text/html": [
       "<div>\n",
       "<style scoped>\n",
       "    .dataframe tbody tr th:only-of-type {\n",
       "        vertical-align: middle;\n",
       "    }\n",
       "\n",
       "    .dataframe tbody tr th {\n",
       "        vertical-align: top;\n",
       "    }\n",
       "\n",
       "    .dataframe thead th {\n",
       "        text-align: right;\n",
       "    }\n",
       "</style>\n",
       "<table border=\"1\" class=\"dataframe\">\n",
       "  <thead>\n",
       "    <tr style=\"text-align: right;\">\n",
       "      <th></th>\n",
       "      <th>BeerID</th>\n",
       "      <th>StyleID</th>\n",
       "      <th>Size(L)</th>\n",
       "      <th>OG</th>\n",
       "      <th>FG</th>\n",
       "      <th>ABV</th>\n",
       "      <th>IBU</th>\n",
       "      <th>Color</th>\n",
       "      <th>BoilSize</th>\n",
       "      <th>BoilTime</th>\n",
       "      <th>...</th>\n",
       "      <th>All Grain</th>\n",
       "      <th>BIAB</th>\n",
       "      <th>Partial Mash</th>\n",
       "      <th>extract</th>\n",
       "      <th>IPA</th>\n",
       "      <th>Stout</th>\n",
       "      <th>Cider</th>\n",
       "      <th>Lager</th>\n",
       "      <th>Pilsner</th>\n",
       "      <th>Wheat</th>\n",
       "    </tr>\n",
       "  </thead>\n",
       "  <tbody>\n",
       "    <tr>\n",
       "      <th>count</th>\n",
       "      <td>1266.000000</td>\n",
       "      <td>1266.000000</td>\n",
       "      <td>1266.000000</td>\n",
       "      <td>1266.000000</td>\n",
       "      <td>1266.000000</td>\n",
       "      <td>1266.000000</td>\n",
       "      <td>1266.000000</td>\n",
       "      <td>1266.000000</td>\n",
       "      <td>1266.000000</td>\n",
       "      <td>1266.000000</td>\n",
       "      <td>...</td>\n",
       "      <td>1266.000000</td>\n",
       "      <td>1266.000000</td>\n",
       "      <td>1266.000000</td>\n",
       "      <td>1266.000000</td>\n",
       "      <td>1266.0</td>\n",
       "      <td>1266.0</td>\n",
       "      <td>1266.0</td>\n",
       "      <td>1266.0</td>\n",
       "      <td>1266.0</td>\n",
       "      <td>1266.0</td>\n",
       "    </tr>\n",
       "    <tr>\n",
       "      <th>mean</th>\n",
       "      <td>33554.004739</td>\n",
       "      <td>19.567930</td>\n",
       "      <td>39.310205</td>\n",
       "      <td>1.377728</td>\n",
       "      <td>1.063219</td>\n",
       "      <td>5.412441</td>\n",
       "      <td>26.427741</td>\n",
       "      <td>5.478934</td>\n",
       "      <td>44.510687</td>\n",
       "      <td>62.839652</td>\n",
       "      <td>...</td>\n",
       "      <td>0.637441</td>\n",
       "      <td>0.158768</td>\n",
       "      <td>0.050553</td>\n",
       "      <td>0.153239</td>\n",
       "      <td>0.0</td>\n",
       "      <td>0.0</td>\n",
       "      <td>0.0</td>\n",
       "      <td>0.0</td>\n",
       "      <td>0.0</td>\n",
       "      <td>1.0</td>\n",
       "    </tr>\n",
       "    <tr>\n",
       "      <th>std</th>\n",
       "      <td>20542.057129</td>\n",
       "      <td>27.902238</td>\n",
       "      <td>144.476555</td>\n",
       "      <td>2.057059</td>\n",
       "      <td>0.389480</td>\n",
       "      <td>1.192862</td>\n",
       "      <td>15.862430</td>\n",
       "      <td>3.410113</td>\n",
       "      <td>154.054077</td>\n",
       "      <td>10.927951</td>\n",
       "      <td>...</td>\n",
       "      <td>0.480929</td>\n",
       "      <td>0.365604</td>\n",
       "      <td>0.219169</td>\n",
       "      <td>0.360360</td>\n",
       "      <td>0.0</td>\n",
       "      <td>0.0</td>\n",
       "      <td>0.0</td>\n",
       "      <td>0.0</td>\n",
       "      <td>0.0</td>\n",
       "      <td>0.0</td>\n",
       "    </tr>\n",
       "    <tr>\n",
       "      <th>min</th>\n",
       "      <td>112.000000</td>\n",
       "      <td>14.000000</td>\n",
       "      <td>2.840000</td>\n",
       "      <td>1.000000</td>\n",
       "      <td>1.000000</td>\n",
       "      <td>0.000000</td>\n",
       "      <td>0.000000</td>\n",
       "      <td>0.000000</td>\n",
       "      <td>3.790000</td>\n",
       "      <td>0.000000</td>\n",
       "      <td>...</td>\n",
       "      <td>0.000000</td>\n",
       "      <td>0.000000</td>\n",
       "      <td>0.000000</td>\n",
       "      <td>0.000000</td>\n",
       "      <td>0.0</td>\n",
       "      <td>0.0</td>\n",
       "      <td>0.0</td>\n",
       "      <td>0.0</td>\n",
       "      <td>0.0</td>\n",
       "      <td>1.0</td>\n",
       "    </tr>\n",
       "    <tr>\n",
       "      <th>25%</th>\n",
       "      <td>15774.250000</td>\n",
       "      <td>14.000000</td>\n",
       "      <td>18.930000</td>\n",
       "      <td>1.048000</td>\n",
       "      <td>1.010000</td>\n",
       "      <td>4.830000</td>\n",
       "      <td>18.622500</td>\n",
       "      <td>3.890000</td>\n",
       "      <td>18.170000</td>\n",
       "      <td>60.000000</td>\n",
       "      <td>...</td>\n",
       "      <td>0.000000</td>\n",
       "      <td>0.000000</td>\n",
       "      <td>0.000000</td>\n",
       "      <td>0.000000</td>\n",
       "      <td>0.0</td>\n",
       "      <td>0.0</td>\n",
       "      <td>0.0</td>\n",
       "      <td>0.0</td>\n",
       "      <td>0.0</td>\n",
       "      <td>1.0</td>\n",
       "    </tr>\n",
       "    <tr>\n",
       "      <th>50%</th>\n",
       "      <td>32279.500000</td>\n",
       "      <td>14.000000</td>\n",
       "      <td>20.820000</td>\n",
       "      <td>1.051000</td>\n",
       "      <td>1.012000</td>\n",
       "      <td>5.240000</td>\n",
       "      <td>23.940000</td>\n",
       "      <td>4.575000</td>\n",
       "      <td>26.500000</td>\n",
       "      <td>60.000000</td>\n",
       "      <td>...</td>\n",
       "      <td>1.000000</td>\n",
       "      <td>0.000000</td>\n",
       "      <td>0.000000</td>\n",
       "      <td>0.000000</td>\n",
       "      <td>0.0</td>\n",
       "      <td>0.0</td>\n",
       "      <td>0.0</td>\n",
       "      <td>0.0</td>\n",
       "      <td>0.0</td>\n",
       "      <td>1.0</td>\n",
       "    </tr>\n",
       "    <tr>\n",
       "      <th>75%</th>\n",
       "      <td>51012.750000</td>\n",
       "      <td>15.000000</td>\n",
       "      <td>22.710000</td>\n",
       "      <td>1.056000</td>\n",
       "      <td>1.014000</td>\n",
       "      <td>5.647500</td>\n",
       "      <td>30.780000</td>\n",
       "      <td>5.730000</td>\n",
       "      <td>28.390000</td>\n",
       "      <td>60.000000</td>\n",
       "      <td>...</td>\n",
       "      <td>1.000000</td>\n",
       "      <td>0.000000</td>\n",
       "      <td>0.000000</td>\n",
       "      <td>0.000000</td>\n",
       "      <td>0.0</td>\n",
       "      <td>0.0</td>\n",
       "      <td>0.0</td>\n",
       "      <td>0.0</td>\n",
       "      <td>0.0</td>\n",
       "      <td>1.0</td>\n",
       "    </tr>\n",
       "    <tr>\n",
       "      <th>max</th>\n",
       "      <td>73494.000000</td>\n",
       "      <td>172.000000</td>\n",
       "      <td>2346.960000</td>\n",
       "      <td>29.586800</td>\n",
       "      <td>9.861370</td>\n",
       "      <td>12.800000</td>\n",
       "      <td>176.950000</td>\n",
       "      <td>40.000000</td>\n",
       "      <td>2405.630000</td>\n",
       "      <td>120.000000</td>\n",
       "      <td>...</td>\n",
       "      <td>1.000000</td>\n",
       "      <td>1.000000</td>\n",
       "      <td>1.000000</td>\n",
       "      <td>1.000000</td>\n",
       "      <td>0.0</td>\n",
       "      <td>0.0</td>\n",
       "      <td>0.0</td>\n",
       "      <td>0.0</td>\n",
       "      <td>0.0</td>\n",
       "      <td>1.0</td>\n",
       "    </tr>\n",
       "  </tbody>\n",
       "</table>\n",
       "<p>8 rows × 26 columns</p>\n",
       "</div>"
      ],
      "text/plain": [
       "             BeerID      StyleID      Size(L)           OG           FG  \\\n",
       "count   1266.000000  1266.000000  1266.000000  1266.000000  1266.000000   \n",
       "mean   33554.004739    19.567930    39.310205     1.377728     1.063219   \n",
       "std    20542.057129    27.902238   144.476555     2.057059     0.389480   \n",
       "min      112.000000    14.000000     2.840000     1.000000     1.000000   \n",
       "25%    15774.250000    14.000000    18.930000     1.048000     1.010000   \n",
       "50%    32279.500000    14.000000    20.820000     1.051000     1.012000   \n",
       "75%    51012.750000    15.000000    22.710000     1.056000     1.014000   \n",
       "max    73494.000000   172.000000  2346.960000    29.586800     9.861370   \n",
       "\n",
       "               ABV          IBU        Color     BoilSize     BoilTime  \\\n",
       "count  1266.000000  1266.000000  1266.000000  1266.000000  1266.000000   \n",
       "mean      5.412441    26.427741     5.478934    44.510687    62.839652   \n",
       "std       1.192862    15.862430     3.410113   154.054077    10.927951   \n",
       "min       0.000000     0.000000     0.000000     3.790000     0.000000   \n",
       "25%       4.830000    18.622500     3.890000    18.170000    60.000000   \n",
       "50%       5.240000    23.940000     4.575000    26.500000    60.000000   \n",
       "75%       5.647500    30.780000     5.730000    28.390000    60.000000   \n",
       "max      12.800000   176.950000    40.000000  2405.630000   120.000000   \n",
       "\n",
       "        ...      All Grain         BIAB  Partial Mash      extract     IPA  \\\n",
       "count   ...    1266.000000  1266.000000   1266.000000  1266.000000  1266.0   \n",
       "mean    ...       0.637441     0.158768      0.050553     0.153239     0.0   \n",
       "std     ...       0.480929     0.365604      0.219169     0.360360     0.0   \n",
       "min     ...       0.000000     0.000000      0.000000     0.000000     0.0   \n",
       "25%     ...       0.000000     0.000000      0.000000     0.000000     0.0   \n",
       "50%     ...       1.000000     0.000000      0.000000     0.000000     0.0   \n",
       "75%     ...       1.000000     0.000000      0.000000     0.000000     0.0   \n",
       "max     ...       1.000000     1.000000      1.000000     1.000000     0.0   \n",
       "\n",
       "        Stout   Cider   Lager  Pilsner   Wheat  \n",
       "count  1266.0  1266.0  1266.0   1266.0  1266.0  \n",
       "mean      0.0     0.0     0.0      0.0     1.0  \n",
       "std       0.0     0.0     0.0      0.0     0.0  \n",
       "min       0.0     0.0     0.0      0.0     1.0  \n",
       "25%       0.0     0.0     0.0      0.0     1.0  \n",
       "50%       0.0     0.0     0.0      0.0     1.0  \n",
       "75%       0.0     0.0     0.0      0.0     1.0  \n",
       "max       0.0     0.0     0.0      0.0     1.0  \n",
       "\n",
       "[8 rows x 26 columns]"
      ]
     },
     "execution_count": 140,
     "metadata": {},
     "output_type": "execute_result"
    }
   ],
   "source": [
    "wheat.describe()"
   ]
  },
  {
   "cell_type": "code",
   "execution_count": 141,
   "metadata": {},
   "outputs": [
    {
     "name": "stderr",
     "output_type": "stream",
     "text": [
      "/Users/paulszewczyk/anaconda3/lib/python3.6/site-packages/seaborn/categorical.py:462: FutureWarning: remove_na is deprecated and is a private function. Do not use.\n",
      "  box_data = remove_na(group_data)\n"
     ]
    },
    {
     "data": {
      "text/plain": [
       "<matplotlib.axes._subplots.AxesSubplot at 0x1a218438d0>"
      ]
     },
     "execution_count": 141,
     "metadata": {},
     "output_type": "execute_result"
    },
    {
     "data": {
      "image/png": "[encoded data removed]",
      "text/plain": [
       "<matplotlib.figure.Figure at 0x1a2184f128>"
      ]
     },
     "metadata": {},
     "output_type": "display_data"
    }
   ],
   "source": [
    "plt.figure()\n",
    "\n",
    "sns.boxplot(x=cider.Color)"
   ]
  },
  {
   "cell_type": "code",
   "execution_count": 142,
   "metadata": {},
   "outputs": [
    {
     "data": {
      "text/html": [
       "<div>\n",
       "<style scoped>\n",
       "    .dataframe tbody tr th:only-of-type {\n",
       "        vertical-align: middle;\n",
       "    }\n",
       "\n",
       "    .dataframe tbody tr th {\n",
       "        vertical-align: top;\n",
       "    }\n",
       "\n",
       "    .dataframe thead th {\n",
       "        text-align: right;\n",
       "    }\n",
       "</style>\n",
       "<table border=\"1\" class=\"dataframe\">\n",
       "  <thead>\n",
       "    <tr style=\"text-align: right;\">\n",
       "      <th></th>\n",
       "      <th>BeerID</th>\n",
       "      <th>StyleID</th>\n",
       "      <th>Size(L)</th>\n",
       "      <th>OG</th>\n",
       "      <th>FG</th>\n",
       "      <th>ABV</th>\n",
       "      <th>IBU</th>\n",
       "      <th>Color</th>\n",
       "      <th>BoilSize</th>\n",
       "      <th>BoilTime</th>\n",
       "      <th>...</th>\n",
       "      <th>All Grain</th>\n",
       "      <th>BIAB</th>\n",
       "      <th>Partial Mash</th>\n",
       "      <th>extract</th>\n",
       "      <th>IPA</th>\n",
       "      <th>Stout</th>\n",
       "      <th>Cider</th>\n",
       "      <th>Lager</th>\n",
       "      <th>Pilsner</th>\n",
       "      <th>Wheat</th>\n",
       "    </tr>\n",
       "  </thead>\n",
       "  <tbody>\n",
       "    <tr>\n",
       "      <th>count</th>\n",
       "      <td>191.000000</td>\n",
       "      <td>191.000000</td>\n",
       "      <td>191.000000</td>\n",
       "      <td>191.000000</td>\n",
       "      <td>191.000000</td>\n",
       "      <td>191.000000</td>\n",
       "      <td>191.000000</td>\n",
       "      <td>191.000000</td>\n",
       "      <td>191.000000</td>\n",
       "      <td>191.000000</td>\n",
       "      <td>...</td>\n",
       "      <td>191.000000</td>\n",
       "      <td>191.000000</td>\n",
       "      <td>191.000000</td>\n",
       "      <td>191.000000</td>\n",
       "      <td>191.0</td>\n",
       "      <td>191.0</td>\n",
       "      <td>191.0</td>\n",
       "      <td>191.0</td>\n",
       "      <td>191.0</td>\n",
       "      <td>191.0</td>\n",
       "    </tr>\n",
       "    <tr>\n",
       "      <th>mean</th>\n",
       "      <td>24831.125654</td>\n",
       "      <td>68.272251</td>\n",
       "      <td>17.855131</td>\n",
       "      <td>1.177976</td>\n",
       "      <td>1.020140</td>\n",
       "      <td>7.178796</td>\n",
       "      <td>4.141832</td>\n",
       "      <td>7.598901</td>\n",
       "      <td>17.071571</td>\n",
       "      <td>30.298429</td>\n",
       "      <td>...</td>\n",
       "      <td>0.356021</td>\n",
       "      <td>0.094241</td>\n",
       "      <td>0.062827</td>\n",
       "      <td>0.486911</td>\n",
       "      <td>0.0</td>\n",
       "      <td>0.0</td>\n",
       "      <td>1.0</td>\n",
       "      <td>0.0</td>\n",
       "      <td>0.0</td>\n",
       "      <td>0.0</td>\n",
       "    </tr>\n",
       "    <tr>\n",
       "      <th>std</th>\n",
       "      <td>22079.512557</td>\n",
       "      <td>29.772810</td>\n",
       "      <td>11.203763</td>\n",
       "      <td>1.099105</td>\n",
       "      <td>0.109689</td>\n",
       "      <td>4.861077</td>\n",
       "      <td>27.449667</td>\n",
       "      <td>8.215034</td>\n",
       "      <td>14.513478</td>\n",
       "      <td>28.697147</td>\n",
       "      <td>...</td>\n",
       "      <td>0.480080</td>\n",
       "      <td>0.292931</td>\n",
       "      <td>0.243290</td>\n",
       "      <td>0.501142</td>\n",
       "      <td>0.0</td>\n",
       "      <td>0.0</td>\n",
       "      <td>0.0</td>\n",
       "      <td>0.0</td>\n",
       "      <td>0.0</td>\n",
       "      <td>0.0</td>\n",
       "    </tr>\n",
       "    <tr>\n",
       "      <th>min</th>\n",
       "      <td>223.000000</td>\n",
       "      <td>44.000000</td>\n",
       "      <td>3.790000</td>\n",
       "      <td>1.000000</td>\n",
       "      <td>0.998000</td>\n",
       "      <td>0.010000</td>\n",
       "      <td>0.000000</td>\n",
       "      <td>0.000000</td>\n",
       "      <td>1.890000</td>\n",
       "      <td>0.000000</td>\n",
       "      <td>...</td>\n",
       "      <td>0.000000</td>\n",
       "      <td>0.000000</td>\n",
       "      <td>0.000000</td>\n",
       "      <td>0.000000</td>\n",
       "      <td>0.0</td>\n",
       "      <td>0.0</td>\n",
       "      <td>1.0</td>\n",
       "      <td>0.0</td>\n",
       "      <td>0.0</td>\n",
       "      <td>0.0</td>\n",
       "    </tr>\n",
       "    <tr>\n",
       "      <th>25%</th>\n",
       "      <td>7992.500000</td>\n",
       "      <td>44.000000</td>\n",
       "      <td>9.500000</td>\n",
       "      <td>1.048000</td>\n",
       "      <td>1.004500</td>\n",
       "      <td>5.155000</td>\n",
       "      <td>0.000000</td>\n",
       "      <td>2.160000</td>\n",
       "      <td>7.570000</td>\n",
       "      <td>0.000000</td>\n",
       "      <td>...</td>\n",
       "      <td>0.000000</td>\n",
       "      <td>0.000000</td>\n",
       "      <td>0.000000</td>\n",
       "      <td>0.000000</td>\n",
       "      <td>0.0</td>\n",
       "      <td>0.0</td>\n",
       "      <td>1.0</td>\n",
       "      <td>0.0</td>\n",
       "      <td>0.0</td>\n",
       "      <td>0.0</td>\n",
       "    </tr>\n",
       "    <tr>\n",
       "      <th>50%</th>\n",
       "      <td>16269.000000</td>\n",
       "      <td>64.000000</td>\n",
       "      <td>18.930000</td>\n",
       "      <td>1.057000</td>\n",
       "      <td>1.010000</td>\n",
       "      <td>6.380000</td>\n",
       "      <td>0.000000</td>\n",
       "      <td>6.210000</td>\n",
       "      <td>15.000000</td>\n",
       "      <td>30.000000</td>\n",
       "      <td>...</td>\n",
       "      <td>0.000000</td>\n",
       "      <td>0.000000</td>\n",
       "      <td>0.000000</td>\n",
       "      <td>0.000000</td>\n",
       "      <td>0.0</td>\n",
       "      <td>0.0</td>\n",
       "      <td>1.0</td>\n",
       "      <td>0.0</td>\n",
       "      <td>0.0</td>\n",
       "      <td>0.0</td>\n",
       "    </tr>\n",
       "    <tr>\n",
       "      <th>75%</th>\n",
       "      <td>39129.500000</td>\n",
       "      <td>76.000000</td>\n",
       "      <td>20.820000</td>\n",
       "      <td>1.068000</td>\n",
       "      <td>1.015000</td>\n",
       "      <td>7.670000</td>\n",
       "      <td>0.000000</td>\n",
       "      <td>10.035000</td>\n",
       "      <td>22.710000</td>\n",
       "      <td>60.000000</td>\n",
       "      <td>...</td>\n",
       "      <td>1.000000</td>\n",
       "      <td>0.000000</td>\n",
       "      <td>0.000000</td>\n",
       "      <td>1.000000</td>\n",
       "      <td>0.0</td>\n",
       "      <td>0.0</td>\n",
       "      <td>1.0</td>\n",
       "      <td>0.0</td>\n",
       "      <td>0.0</td>\n",
       "      <td>0.0</td>\n",
       "    </tr>\n",
       "    <tr>\n",
       "      <th>max</th>\n",
       "      <td>73529.000000</td>\n",
       "      <td>121.000000</td>\n",
       "      <td>75.000000</td>\n",
       "      <td>12.583000</td>\n",
       "      <td>2.492320</td>\n",
       "      <td>42.030000</td>\n",
       "      <td>369.990000</td>\n",
       "      <td>50.000000</td>\n",
       "      <td>120.000000</td>\n",
       "      <td>90.000000</td>\n",
       "      <td>...</td>\n",
       "      <td>1.000000</td>\n",
       "      <td>1.000000</td>\n",
       "      <td>1.000000</td>\n",
       "      <td>1.000000</td>\n",
       "      <td>0.0</td>\n",
       "      <td>0.0</td>\n",
       "      <td>1.0</td>\n",
       "      <td>0.0</td>\n",
       "      <td>0.0</td>\n",
       "      <td>0.0</td>\n",
       "    </tr>\n",
       "  </tbody>\n",
       "</table>\n",
       "<p>8 rows × 26 columns</p>\n",
       "</div>"
      ],
      "text/plain": [
       "             BeerID     StyleID     Size(L)          OG          FG  \\\n",
       "count    191.000000  191.000000  191.000000  191.000000  191.000000   \n",
       "mean   24831.125654   68.272251   17.855131    1.177976    1.020140   \n",
       "std    22079.512557   29.772810   11.203763    1.099105    0.109689   \n",
       "min      223.000000   44.000000    3.790000    1.000000    0.998000   \n",
       "25%     7992.500000   44.000000    9.500000    1.048000    1.004500   \n",
       "50%    16269.000000   64.000000   18.930000    1.057000    1.010000   \n",
       "75%    39129.500000   76.000000   20.820000    1.068000    1.015000   \n",
       "max    73529.000000  121.000000   75.000000   12.583000    2.492320   \n",
       "\n",
       "              ABV         IBU       Color    BoilSize    BoilTime  ...    \\\n",
       "count  191.000000  191.000000  191.000000  191.000000  191.000000  ...     \n",
       "mean     7.178796    4.141832    7.598901   17.071571   30.298429  ...     \n",
       "std      4.861077   27.449667    8.215034   14.513478   28.697147  ...     \n",
       "min      0.010000    0.000000    0.000000    1.890000    0.000000  ...     \n",
       "25%      5.155000    0.000000    2.160000    7.570000    0.000000  ...     \n",
       "50%      6.380000    0.000000    6.210000   15.000000   30.000000  ...     \n",
       "75%      7.670000    0.000000   10.035000   22.710000   60.000000  ...     \n",
       "max     42.030000  369.990000   50.000000  120.000000   90.000000  ...     \n",
       "\n",
       "        All Grain        BIAB  Partial Mash     extract    IPA  Stout  Cider  \\\n",
       "count  191.000000  191.000000    191.000000  191.000000  191.0  191.0  191.0   \n",
       "mean     0.356021    0.094241      0.062827    0.486911    0.0    0.0    1.0   \n",
       "std      0.480080    0.292931      0.243290    0.501142    0.0    0.0    0.0   \n",
       "min      0.000000    0.000000      0.000000    0.000000    0.0    0.0    1.0   \n",
       "25%      0.000000    0.000000      0.000000    0.000000    0.0    0.0    1.0   \n",
       "50%      0.000000    0.000000      0.000000    0.000000    0.0    0.0    1.0   \n",
       "75%      1.000000    0.000000      0.000000    1.000000    0.0    0.0    1.0   \n",
       "max      1.000000    1.000000      1.000000    1.000000    0.0    0.0    1.0   \n",
       "\n",
       "       Lager  Pilsner  Wheat  \n",
       "count  191.0    191.0  191.0  \n",
       "mean     0.0      0.0    0.0  \n",
       "std      0.0      0.0    0.0  \n",
       "min      0.0      0.0    0.0  \n",
       "25%      0.0      0.0    0.0  \n",
       "50%      0.0      0.0    0.0  \n",
       "75%      0.0      0.0    0.0  \n",
       "max      0.0      0.0    0.0  \n",
       "\n",
       "[8 rows x 26 columns]"
      ]
     },
     "execution_count": 142,
     "metadata": {},
     "output_type": "execute_result"
    }
   ],
   "source": [
    "cider.describe()"
   ]
  },
  {
   "cell_type": "code",
   "execution_count": 143,
   "metadata": {},
   "outputs": [
    {
     "name": "stderr",
     "output_type": "stream",
     "text": [
      "/Users/paulszewczyk/anaconda3/lib/python3.6/site-packages/seaborn/categorical.py:462: FutureWarning: remove_na is deprecated and is a private function. Do not use.\n",
      "  box_data = remove_na(group_data)\n"
     ]
    },
    {
     "data": {
      "text/plain": [
       "<matplotlib.axes._subplots.AxesSubplot at 0x1a21935048>"
      ]
     },
     "execution_count": 143,
     "metadata": {},
     "output_type": "execute_result"
    },
    {
     "data": {
      "image/png": "[encoded data removed]",
      "text/plain": [
       "<matplotlib.figure.Figure at 0x1a21872908>"
      ]
     },
     "metadata": {},
     "output_type": "display_data"
    }
   ],
   "source": [
    "plt.figure()\n",
    "\n",
    "sns.boxplot(x=pilsner.IBU)"
   ]
  },
  {
   "cell_type": "code",
   "execution_count": 144,
   "metadata": {},
   "outputs": [
    {
     "name": "stderr",
     "output_type": "stream",
     "text": [
      "/Users/paulszewczyk/anaconda3/lib/python3.6/site-packages/seaborn/categorical.py:462: FutureWarning: remove_na is deprecated and is a private function. Do not use.\n",
      "  box_data = remove_na(group_data)\n"
     ]
    },
    {
     "data": {
      "text/plain": [
       "<matplotlib.axes._subplots.AxesSubplot at 0x1a217e2cf8>"
      ]
     },
     "execution_count": 144,
     "metadata": {},
     "output_type": "execute_result"
    },
    {
     "data": {
      "image/png": "[encoded data removed]",
      "text/plain": [
       "<matplotlib.figure.Figure at 0x1a21939eb8>"
      ]
     },
     "metadata": {},
     "output_type": "display_data"
    }
   ],
   "source": [
    "plt.figure()\n",
    "\n",
    "sns.boxplot(x=ipa.IBU)"
   ]
  },
  {
   "cell_type": "code",
   "execution_count": 145,
   "metadata": {},
   "outputs": [
    {
     "data": {
      "text/html": [
       "<div>\n",
       "<style scoped>\n",
       "    .dataframe tbody tr th:only-of-type {\n",
       "        vertical-align: middle;\n",
       "    }\n",
       "\n",
       "    .dataframe tbody tr th {\n",
       "        vertical-align: top;\n",
       "    }\n",
       "\n",
       "    .dataframe thead th {\n",
       "        text-align: right;\n",
       "    }\n",
       "</style>\n",
       "<table border=\"1\" class=\"dataframe\">\n",
       "  <thead>\n",
       "    <tr style=\"text-align: right;\">\n",
       "      <th></th>\n",
       "      <th>BeerID</th>\n",
       "      <th>StyleID</th>\n",
       "      <th>Size(L)</th>\n",
       "      <th>OG</th>\n",
       "      <th>FG</th>\n",
       "      <th>ABV</th>\n",
       "      <th>IBU</th>\n",
       "      <th>Color</th>\n",
       "      <th>BoilSize</th>\n",
       "      <th>BoilTime</th>\n",
       "      <th>...</th>\n",
       "      <th>All Grain</th>\n",
       "      <th>BIAB</th>\n",
       "      <th>Partial Mash</th>\n",
       "      <th>extract</th>\n",
       "      <th>IPA</th>\n",
       "      <th>Stout</th>\n",
       "      <th>Cider</th>\n",
       "      <th>Lager</th>\n",
       "      <th>Pilsner</th>\n",
       "      <th>Wheat</th>\n",
       "    </tr>\n",
       "  </thead>\n",
       "  <tbody>\n",
       "    <tr>\n",
       "      <th>count</th>\n",
       "      <td>17064.000000</td>\n",
       "      <td>17064.000000</td>\n",
       "      <td>17064.000000</td>\n",
       "      <td>17064.000000</td>\n",
       "      <td>17064.000000</td>\n",
       "      <td>17064.000000</td>\n",
       "      <td>17064.000000</td>\n",
       "      <td>17064.000000</td>\n",
       "      <td>17064.000000</td>\n",
       "      <td>17064.000000</td>\n",
       "      <td>...</td>\n",
       "      <td>17064.000000</td>\n",
       "      <td>17064.000000</td>\n",
       "      <td>17064.000000</td>\n",
       "      <td>17064.000000</td>\n",
       "      <td>17064.0</td>\n",
       "      <td>17064.0</td>\n",
       "      <td>17064.0</td>\n",
       "      <td>17064.0</td>\n",
       "      <td>17064.0</td>\n",
       "      <td>17064.0</td>\n",
       "    </tr>\n",
       "    <tr>\n",
       "      <th>mean</th>\n",
       "      <td>37726.690811</td>\n",
       "      <td>35.665319</td>\n",
       "      <td>42.233233</td>\n",
       "      <td>1.420608</td>\n",
       "      <td>1.075007</td>\n",
       "      <td>6.706668</td>\n",
       "      <td>76.712765</td>\n",
       "      <td>9.849520</td>\n",
       "      <td>48.002246</td>\n",
       "      <td>64.503340</td>\n",
       "      <td>...</td>\n",
       "      <td>0.678270</td>\n",
       "      <td>0.159400</td>\n",
       "      <td>0.045241</td>\n",
       "      <td>0.117089</td>\n",
       "      <td>1.0</td>\n",
       "      <td>0.0</td>\n",
       "      <td>0.0</td>\n",
       "      <td>0.0</td>\n",
       "      <td>0.0</td>\n",
       "      <td>0.0</td>\n",
       "    </tr>\n",
       "    <tr>\n",
       "      <th>std</th>\n",
       "      <td>21348.478402</td>\n",
       "      <td>48.690276</td>\n",
       "      <td>166.951195</td>\n",
       "      <td>2.280309</td>\n",
       "      <td>0.407044</td>\n",
       "      <td>1.397430</td>\n",
       "      <td>50.072863</td>\n",
       "      <td>7.356278</td>\n",
       "      <td>176.639266</td>\n",
       "      <td>12.334497</td>\n",
       "      <td>...</td>\n",
       "      <td>0.467154</td>\n",
       "      <td>0.366059</td>\n",
       "      <td>0.207839</td>\n",
       "      <td>0.321535</td>\n",
       "      <td>0.0</td>\n",
       "      <td>0.0</td>\n",
       "      <td>0.0</td>\n",
       "      <td>0.0</td>\n",
       "      <td>0.0</td>\n",
       "      <td>0.0</td>\n",
       "    </tr>\n",
       "    <tr>\n",
       "      <th>min</th>\n",
       "      <td>3.000000</td>\n",
       "      <td>7.000000</td>\n",
       "      <td>2.000000</td>\n",
       "      <td>1.000000</td>\n",
       "      <td>1.000000</td>\n",
       "      <td>0.000000</td>\n",
       "      <td>0.000000</td>\n",
       "      <td>0.000000</td>\n",
       "      <td>1.000000</td>\n",
       "      <td>0.000000</td>\n",
       "      <td>...</td>\n",
       "      <td>0.000000</td>\n",
       "      <td>0.000000</td>\n",
       "      <td>0.000000</td>\n",
       "      <td>0.000000</td>\n",
       "      <td>1.0</td>\n",
       "      <td>0.0</td>\n",
       "      <td>0.0</td>\n",
       "      <td>0.0</td>\n",
       "      <td>0.0</td>\n",
       "      <td>0.0</td>\n",
       "    </tr>\n",
       "    <tr>\n",
       "      <th>25%</th>\n",
       "      <td>19191.500000</td>\n",
       "      <td>7.000000</td>\n",
       "      <td>18.930000</td>\n",
       "      <td>1.059000</td>\n",
       "      <td>1.012000</td>\n",
       "      <td>5.960000</td>\n",
       "      <td>52.507500</td>\n",
       "      <td>5.950000</td>\n",
       "      <td>22.710000</td>\n",
       "      <td>60.000000</td>\n",
       "      <td>...</td>\n",
       "      <td>0.000000</td>\n",
       "      <td>0.000000</td>\n",
       "      <td>0.000000</td>\n",
       "      <td>0.000000</td>\n",
       "      <td>1.0</td>\n",
       "      <td>0.0</td>\n",
       "      <td>0.0</td>\n",
       "      <td>0.0</td>\n",
       "      <td>0.0</td>\n",
       "      <td>0.0</td>\n",
       "    </tr>\n",
       "    <tr>\n",
       "      <th>50%</th>\n",
       "      <td>38366.500000</td>\n",
       "      <td>7.000000</td>\n",
       "      <td>20.820000</td>\n",
       "      <td>1.065000</td>\n",
       "      <td>1.014000</td>\n",
       "      <td>6.580000</td>\n",
       "      <td>67.205000</td>\n",
       "      <td>7.710000</td>\n",
       "      <td>28.000000</td>\n",
       "      <td>60.000000</td>\n",
       "      <td>...</td>\n",
       "      <td>1.000000</td>\n",
       "      <td>0.000000</td>\n",
       "      <td>0.000000</td>\n",
       "      <td>0.000000</td>\n",
       "      <td>1.0</td>\n",
       "      <td>0.0</td>\n",
       "      <td>0.0</td>\n",
       "      <td>0.0</td>\n",
       "      <td>0.0</td>\n",
       "      <td>0.0</td>\n",
       "    </tr>\n",
       "    <tr>\n",
       "      <th>75%</th>\n",
       "      <td>56130.750000</td>\n",
       "      <td>56.000000</td>\n",
       "      <td>23.092500</td>\n",
       "      <td>1.073000</td>\n",
       "      <td>1.017000</td>\n",
       "      <td>7.350000</td>\n",
       "      <td>88.740000</td>\n",
       "      <td>10.562500</td>\n",
       "      <td>30.000000</td>\n",
       "      <td>60.000000</td>\n",
       "      <td>...</td>\n",
       "      <td>1.000000</td>\n",
       "      <td>0.000000</td>\n",
       "      <td>0.000000</td>\n",
       "      <td>0.000000</td>\n",
       "      <td>1.0</td>\n",
       "      <td>0.0</td>\n",
       "      <td>0.0</td>\n",
       "      <td>0.0</td>\n",
       "      <td>0.0</td>\n",
       "      <td>0.0</td>\n",
       "    </tr>\n",
       "    <tr>\n",
       "      <th>max</th>\n",
       "      <td>73861.000000</td>\n",
       "      <td>152.000000</td>\n",
       "      <td>5850.000000</td>\n",
       "      <td>24.902800</td>\n",
       "      <td>6.886390</td>\n",
       "      <td>50.860000</td>\n",
       "      <td>1605.830000</td>\n",
       "      <td>50.000000</td>\n",
       "      <td>5850.000000</td>\n",
       "      <td>210.000000</td>\n",
       "      <td>...</td>\n",
       "      <td>1.000000</td>\n",
       "      <td>1.000000</td>\n",
       "      <td>1.000000</td>\n",
       "      <td>1.000000</td>\n",
       "      <td>1.0</td>\n",
       "      <td>0.0</td>\n",
       "      <td>0.0</td>\n",
       "      <td>0.0</td>\n",
       "      <td>0.0</td>\n",
       "      <td>0.0</td>\n",
       "    </tr>\n",
       "  </tbody>\n",
       "</table>\n",
       "<p>8 rows × 26 columns</p>\n",
       "</div>"
      ],
      "text/plain": [
       "             BeerID       StyleID       Size(L)            OG            FG  \\\n",
       "count  17064.000000  17064.000000  17064.000000  17064.000000  17064.000000   \n",
       "mean   37726.690811     35.665319     42.233233      1.420608      1.075007   \n",
       "std    21348.478402     48.690276    166.951195      2.280309      0.407044   \n",
       "min        3.000000      7.000000      2.000000      1.000000      1.000000   \n",
       "25%    19191.500000      7.000000     18.930000      1.059000      1.012000   \n",
       "50%    38366.500000      7.000000     20.820000      1.065000      1.014000   \n",
       "75%    56130.750000     56.000000     23.092500      1.073000      1.017000   \n",
       "max    73861.000000    152.000000   5850.000000     24.902800      6.886390   \n",
       "\n",
       "                ABV           IBU         Color      BoilSize      BoilTime  \\\n",
       "count  17064.000000  17064.000000  17064.000000  17064.000000  17064.000000   \n",
       "mean       6.706668     76.712765      9.849520     48.002246     64.503340   \n",
       "std        1.397430     50.072863      7.356278    176.639266     12.334497   \n",
       "min        0.000000      0.000000      0.000000      1.000000      0.000000   \n",
       "25%        5.960000     52.507500      5.950000     22.710000     60.000000   \n",
       "50%        6.580000     67.205000      7.710000     28.000000     60.000000   \n",
       "75%        7.350000     88.740000     10.562500     30.000000     60.000000   \n",
       "max       50.860000   1605.830000     50.000000   5850.000000    210.000000   \n",
       "\n",
       "        ...        All Grain          BIAB  Partial Mash       extract  \\\n",
       "count   ...     17064.000000  17064.000000  17064.000000  17064.000000   \n",
       "mean    ...         0.678270      0.159400      0.045241      0.117089   \n",
       "std     ...         0.467154      0.366059      0.207839      0.321535   \n",
       "min     ...         0.000000      0.000000      0.000000      0.000000   \n",
       "25%     ...         0.000000      0.000000      0.000000      0.000000   \n",
       "50%     ...         1.000000      0.000000      0.000000      0.000000   \n",
       "75%     ...         1.000000      0.000000      0.000000      0.000000   \n",
       "max     ...         1.000000      1.000000      1.000000      1.000000   \n",
       "\n",
       "           IPA    Stout    Cider    Lager  Pilsner    Wheat  \n",
       "count  17064.0  17064.0  17064.0  17064.0  17064.0  17064.0  \n",
       "mean       1.0      0.0      0.0      0.0      0.0      0.0  \n",
       "std        0.0      0.0      0.0      0.0      0.0      0.0  \n",
       "min        1.0      0.0      0.0      0.0      0.0      0.0  \n",
       "25%        1.0      0.0      0.0      0.0      0.0      0.0  \n",
       "50%        1.0      0.0      0.0      0.0      0.0      0.0  \n",
       "75%        1.0      0.0      0.0      0.0      0.0      0.0  \n",
       "max        1.0      0.0      0.0      0.0      0.0      0.0  \n",
       "\n",
       "[8 rows x 26 columns]"
      ]
     },
     "execution_count": 145,
     "metadata": {},
     "output_type": "execute_result"
    }
   ],
   "source": [
    "ipa.describe()"
   ]
  },
  {
   "cell_type": "code",
   "execution_count": 146,
   "metadata": {},
   "outputs": [
    {
     "data": {
      "text/html": [
       "<div>\n",
       "<style scoped>\n",
       "    .dataframe tbody tr th:only-of-type {\n",
       "        vertical-align: middle;\n",
       "    }\n",
       "\n",
       "    .dataframe tbody tr th {\n",
       "        vertical-align: top;\n",
       "    }\n",
       "\n",
       "    .dataframe thead th {\n",
       "        text-align: right;\n",
       "    }\n",
       "</style>\n",
       "<table border=\"1\" class=\"dataframe\">\n",
       "  <thead>\n",
       "    <tr style=\"text-align: right;\">\n",
       "      <th></th>\n",
       "      <th>BeerID</th>\n",
       "      <th>StyleID</th>\n",
       "      <th>Size(L)</th>\n",
       "      <th>OG</th>\n",
       "      <th>FG</th>\n",
       "      <th>ABV</th>\n",
       "      <th>IBU</th>\n",
       "      <th>Color</th>\n",
       "      <th>BoilSize</th>\n",
       "      <th>BoilTime</th>\n",
       "      <th>...</th>\n",
       "      <th>All Grain</th>\n",
       "      <th>BIAB</th>\n",
       "      <th>Partial Mash</th>\n",
       "      <th>extract</th>\n",
       "      <th>IPA</th>\n",
       "      <th>Stout</th>\n",
       "      <th>Cider</th>\n",
       "      <th>Lager</th>\n",
       "      <th>Pilsner</th>\n",
       "      <th>Wheat</th>\n",
       "    </tr>\n",
       "  </thead>\n",
       "  <tbody>\n",
       "    <tr>\n",
       "      <th>count</th>\n",
       "      <td>5954.000000</td>\n",
       "      <td>5954.000000</td>\n",
       "      <td>5954.000000</td>\n",
       "      <td>5954.000000</td>\n",
       "      <td>5954.000000</td>\n",
       "      <td>5954.000000</td>\n",
       "      <td>5954.000000</td>\n",
       "      <td>5954.000000</td>\n",
       "      <td>5954.000000</td>\n",
       "      <td>5954.000000</td>\n",
       "      <td>...</td>\n",
       "      <td>5954.000000</td>\n",
       "      <td>5954.000000</td>\n",
       "      <td>5954.000000</td>\n",
       "      <td>5954.000000</td>\n",
       "      <td>5954.0</td>\n",
       "      <td>5954.0</td>\n",
       "      <td>5954.0</td>\n",
       "      <td>5954.0</td>\n",
       "      <td>5954.0</td>\n",
       "      <td>5954.0</td>\n",
       "    </tr>\n",
       "    <tr>\n",
       "      <th>mean</th>\n",
       "      <td>35787.867316</td>\n",
       "      <td>91.438025</td>\n",
       "      <td>39.396006</td>\n",
       "      <td>1.519629</td>\n",
       "      <td>1.121958</td>\n",
       "      <td>7.019174</td>\n",
       "      <td>50.096181</td>\n",
       "      <td>39.641817</td>\n",
       "      <td>45.041221</td>\n",
       "      <td>66.512597</td>\n",
       "      <td>...</td>\n",
       "      <td>0.665603</td>\n",
       "      <td>0.161404</td>\n",
       "      <td>0.055425</td>\n",
       "      <td>0.117568</td>\n",
       "      <td>0.0</td>\n",
       "      <td>1.0</td>\n",
       "      <td>0.0</td>\n",
       "      <td>0.0</td>\n",
       "      <td>0.0</td>\n",
       "      <td>0.0</td>\n",
       "    </tr>\n",
       "    <tr>\n",
       "      <th>std</th>\n",
       "      <td>21780.618053</td>\n",
       "      <td>50.958239</td>\n",
       "      <td>162.074835</td>\n",
       "      <td>2.786090</td>\n",
       "      <td>0.678523</td>\n",
       "      <td>2.474264</td>\n",
       "      <td>54.602006</td>\n",
       "      <td>8.547443</td>\n",
       "      <td>173.289049</td>\n",
       "      <td>16.463682</td>\n",
       "      <td>...</td>\n",
       "      <td>0.471819</td>\n",
       "      <td>0.367934</td>\n",
       "      <td>0.228827</td>\n",
       "      <td>0.322123</td>\n",
       "      <td>0.0</td>\n",
       "      <td>0.0</td>\n",
       "      <td>0.0</td>\n",
       "      <td>0.0</td>\n",
       "      <td>0.0</td>\n",
       "      <td>0.0</td>\n",
       "    </tr>\n",
       "    <tr>\n",
       "      <th>min</th>\n",
       "      <td>47.000000</td>\n",
       "      <td>12.000000</td>\n",
       "      <td>1.890000</td>\n",
       "      <td>1.000000</td>\n",
       "      <td>1.000000</td>\n",
       "      <td>0.140000</td>\n",
       "      <td>0.000000</td>\n",
       "      <td>0.000000</td>\n",
       "      <td>2.000000</td>\n",
       "      <td>0.000000</td>\n",
       "      <td>...</td>\n",
       "      <td>0.000000</td>\n",
       "      <td>0.000000</td>\n",
       "      <td>0.000000</td>\n",
       "      <td>0.000000</td>\n",
       "      <td>0.0</td>\n",
       "      <td>1.0</td>\n",
       "      <td>0.0</td>\n",
       "      <td>0.0</td>\n",
       "      <td>0.0</td>\n",
       "      <td>0.0</td>\n",
       "    </tr>\n",
       "    <tr>\n",
       "      <th>25%</th>\n",
       "      <td>16552.500000</td>\n",
       "      <td>58.000000</td>\n",
       "      <td>18.930000</td>\n",
       "      <td>1.056000</td>\n",
       "      <td>1.014000</td>\n",
       "      <td>5.310000</td>\n",
       "      <td>31.480000</td>\n",
       "      <td>34.960000</td>\n",
       "      <td>18.947500</td>\n",
       "      <td>60.000000</td>\n",
       "      <td>...</td>\n",
       "      <td>0.000000</td>\n",
       "      <td>0.000000</td>\n",
       "      <td>0.000000</td>\n",
       "      <td>0.000000</td>\n",
       "      <td>0.0</td>\n",
       "      <td>1.0</td>\n",
       "      <td>0.0</td>\n",
       "      <td>0.0</td>\n",
       "      <td>0.0</td>\n",
       "      <td>0.0</td>\n",
       "    </tr>\n",
       "    <tr>\n",
       "      <th>50%</th>\n",
       "      <td>34929.000000</td>\n",
       "      <td>93.000000</td>\n",
       "      <td>20.820000</td>\n",
       "      <td>1.067000</td>\n",
       "      <td>1.018000</td>\n",
       "      <td>6.350000</td>\n",
       "      <td>41.970000</td>\n",
       "      <td>39.740000</td>\n",
       "      <td>26.500000</td>\n",
       "      <td>60.000000</td>\n",
       "      <td>...</td>\n",
       "      <td>1.000000</td>\n",
       "      <td>0.000000</td>\n",
       "      <td>0.000000</td>\n",
       "      <td>0.000000</td>\n",
       "      <td>0.0</td>\n",
       "      <td>1.0</td>\n",
       "      <td>0.0</td>\n",
       "      <td>0.0</td>\n",
       "      <td>0.0</td>\n",
       "      <td>0.0</td>\n",
       "    </tr>\n",
       "    <tr>\n",
       "      <th>75%</th>\n",
       "      <td>54591.250000</td>\n",
       "      <td>132.000000</td>\n",
       "      <td>22.710000</td>\n",
       "      <td>1.088000</td>\n",
       "      <td>1.022000</td>\n",
       "      <td>8.400000</td>\n",
       "      <td>63.187500</td>\n",
       "      <td>46.497500</td>\n",
       "      <td>28.500000</td>\n",
       "      <td>60.000000</td>\n",
       "      <td>...</td>\n",
       "      <td>1.000000</td>\n",
       "      <td>0.000000</td>\n",
       "      <td>0.000000</td>\n",
       "      <td>0.000000</td>\n",
       "      <td>0.0</td>\n",
       "      <td>1.0</td>\n",
       "      <td>0.0</td>\n",
       "      <td>0.0</td>\n",
       "      <td>0.0</td>\n",
       "      <td>0.0</td>\n",
       "    </tr>\n",
       "    <tr>\n",
       "      <th>max</th>\n",
       "      <td>73831.000000</td>\n",
       "      <td>166.000000</td>\n",
       "      <td>3637.780000</td>\n",
       "      <td>32.500800</td>\n",
       "      <td>10.341400</td>\n",
       "      <td>52.160000</td>\n",
       "      <td>3409.300000</td>\n",
       "      <td>186.000000</td>\n",
       "      <td>3785.410000</td>\n",
       "      <td>240.000000</td>\n",
       "      <td>...</td>\n",
       "      <td>1.000000</td>\n",
       "      <td>1.000000</td>\n",
       "      <td>1.000000</td>\n",
       "      <td>1.000000</td>\n",
       "      <td>0.0</td>\n",
       "      <td>1.0</td>\n",
       "      <td>0.0</td>\n",
       "      <td>0.0</td>\n",
       "      <td>0.0</td>\n",
       "      <td>0.0</td>\n",
       "    </tr>\n",
       "  </tbody>\n",
       "</table>\n",
       "<p>8 rows × 26 columns</p>\n",
       "</div>"
      ],
      "text/plain": [
       "             BeerID      StyleID      Size(L)           OG           FG  \\\n",
       "count   5954.000000  5954.000000  5954.000000  5954.000000  5954.000000   \n",
       "mean   35787.867316    91.438025    39.396006     1.519629     1.121958   \n",
       "std    21780.618053    50.958239   162.074835     2.786090     0.678523   \n",
       "min       47.000000    12.000000     1.890000     1.000000     1.000000   \n",
       "25%    16552.500000    58.000000    18.930000     1.056000     1.014000   \n",
       "50%    34929.000000    93.000000    20.820000     1.067000     1.018000   \n",
       "75%    54591.250000   132.000000    22.710000     1.088000     1.022000   \n",
       "max    73831.000000   166.000000  3637.780000    32.500800    10.341400   \n",
       "\n",
       "               ABV          IBU        Color     BoilSize     BoilTime  \\\n",
       "count  5954.000000  5954.000000  5954.000000  5954.000000  5954.000000   \n",
       "mean      7.019174    50.096181    39.641817    45.041221    66.512597   \n",
       "std       2.474264    54.602006     8.547443   173.289049    16.463682   \n",
       "min       0.140000     0.000000     0.000000     2.000000     0.000000   \n",
       "25%       5.310000    31.480000    34.960000    18.947500    60.000000   \n",
       "50%       6.350000    41.970000    39.740000    26.500000    60.000000   \n",
       "75%       8.400000    63.187500    46.497500    28.500000    60.000000   \n",
       "max      52.160000  3409.300000   186.000000  3785.410000   240.000000   \n",
       "\n",
       "        ...      All Grain         BIAB  Partial Mash      extract     IPA  \\\n",
       "count   ...    5954.000000  5954.000000   5954.000000  5954.000000  5954.0   \n",
       "mean    ...       0.665603     0.161404      0.055425     0.117568     0.0   \n",
       "std     ...       0.471819     0.367934      0.228827     0.322123     0.0   \n",
       "min     ...       0.000000     0.000000      0.000000     0.000000     0.0   \n",
       "25%     ...       0.000000     0.000000      0.000000     0.000000     0.0   \n",
       "50%     ...       1.000000     0.000000      0.000000     0.000000     0.0   \n",
       "75%     ...       1.000000     0.000000      0.000000     0.000000     0.0   \n",
       "max     ...       1.000000     1.000000      1.000000     1.000000     0.0   \n",
       "\n",
       "        Stout   Cider   Lager  Pilsner   Wheat  \n",
       "count  5954.0  5954.0  5954.0   5954.0  5954.0  \n",
       "mean      1.0     0.0     0.0      0.0     0.0  \n",
       "std       0.0     0.0     0.0      0.0     0.0  \n",
       "min       1.0     0.0     0.0      0.0     0.0  \n",
       "25%       1.0     0.0     0.0      0.0     0.0  \n",
       "50%       1.0     0.0     0.0      0.0     0.0  \n",
       "75%       1.0     0.0     0.0      0.0     0.0  \n",
       "max       1.0     0.0     0.0      0.0     0.0  \n",
       "\n",
       "[8 rows x 26 columns]"
      ]
     },
     "execution_count": 146,
     "metadata": {},
     "output_type": "execute_result"
    }
   ],
   "source": [
    "stout.describe()"
   ]
  },
  {
   "cell_type": "code",
   "execution_count": 147,
   "metadata": {},
   "outputs": [
    {
     "data": {
      "text/html": [
       "<div>\n",
       "<style scoped>\n",
       "    .dataframe tbody tr th:only-of-type {\n",
       "        vertical-align: middle;\n",
       "    }\n",
       "\n",
       "    .dataframe tbody tr th {\n",
       "        vertical-align: top;\n",
       "    }\n",
       "\n",
       "    .dataframe thead th {\n",
       "        text-align: right;\n",
       "    }\n",
       "</style>\n",
       "<table border=\"1\" class=\"dataframe\">\n",
       "  <thead>\n",
       "    <tr style=\"text-align: right;\">\n",
       "      <th></th>\n",
       "      <th>BeerID</th>\n",
       "      <th>StyleID</th>\n",
       "      <th>Size(L)</th>\n",
       "      <th>OG</th>\n",
       "      <th>FG</th>\n",
       "      <th>ABV</th>\n",
       "      <th>IBU</th>\n",
       "      <th>Color</th>\n",
       "      <th>BoilSize</th>\n",
       "      <th>BoilTime</th>\n",
       "      <th>...</th>\n",
       "      <th>All Grain</th>\n",
       "      <th>BIAB</th>\n",
       "      <th>Partial Mash</th>\n",
       "      <th>extract</th>\n",
       "      <th>IPA</th>\n",
       "      <th>Stout</th>\n",
       "      <th>Cider</th>\n",
       "      <th>Lager</th>\n",
       "      <th>Pilsner</th>\n",
       "      <th>Wheat</th>\n",
       "    </tr>\n",
       "  </thead>\n",
       "  <tbody>\n",
       "    <tr>\n",
       "      <th>count</th>\n",
       "      <td>673.000000</td>\n",
       "      <td>673.000000</td>\n",
       "      <td>673.000000</td>\n",
       "      <td>673.000000</td>\n",
       "      <td>673.000000</td>\n",
       "      <td>673.000000</td>\n",
       "      <td>673.000000</td>\n",
       "      <td>673.000000</td>\n",
       "      <td>673.000000</td>\n",
       "      <td>673.000000</td>\n",
       "      <td>...</td>\n",
       "      <td>673.000000</td>\n",
       "      <td>673.000000</td>\n",
       "      <td>673.000000</td>\n",
       "      <td>673.000000</td>\n",
       "      <td>673.0</td>\n",
       "      <td>673.0</td>\n",
       "      <td>673.0</td>\n",
       "      <td>673.0</td>\n",
       "      <td>673.0</td>\n",
       "      <td>673.0</td>\n",
       "    </tr>\n",
       "    <tr>\n",
       "      <th>mean</th>\n",
       "      <td>34231.277860</td>\n",
       "      <td>68.389302</td>\n",
       "      <td>46.583952</td>\n",
       "      <td>1.343478</td>\n",
       "      <td>1.051265</td>\n",
       "      <td>5.286939</td>\n",
       "      <td>33.786256</td>\n",
       "      <td>4.235260</td>\n",
       "      <td>50.152927</td>\n",
       "      <td>71.190193</td>\n",
       "      <td>...</td>\n",
       "      <td>0.710253</td>\n",
       "      <td>0.150074</td>\n",
       "      <td>0.050520</td>\n",
       "      <td>0.089153</td>\n",
       "      <td>0.0</td>\n",
       "      <td>0.0</td>\n",
       "      <td>0.0</td>\n",
       "      <td>0.0</td>\n",
       "      <td>1.0</td>\n",
       "      <td>0.0</td>\n",
       "    </tr>\n",
       "    <tr>\n",
       "      <th>std</th>\n",
       "      <td>21083.220767</td>\n",
       "      <td>18.935197</td>\n",
       "      <td>164.328126</td>\n",
       "      <td>1.821202</td>\n",
       "      <td>0.270018</td>\n",
       "      <td>0.852906</td>\n",
       "      <td>20.633869</td>\n",
       "      <td>2.518713</td>\n",
       "      <td>164.631234</td>\n",
       "      <td>15.374185</td>\n",
       "      <td>...</td>\n",
       "      <td>0.453982</td>\n",
       "      <td>0.357410</td>\n",
       "      <td>0.219178</td>\n",
       "      <td>0.285176</td>\n",
       "      <td>0.0</td>\n",
       "      <td>0.0</td>\n",
       "      <td>0.0</td>\n",
       "      <td>0.0</td>\n",
       "      <td>0.0</td>\n",
       "      <td>0.0</td>\n",
       "    </tr>\n",
       "    <tr>\n",
       "      <th>min</th>\n",
       "      <td>45.000000</td>\n",
       "      <td>40.000000</td>\n",
       "      <td>3.790000</td>\n",
       "      <td>1.024000</td>\n",
       "      <td>1.003000</td>\n",
       "      <td>2.520000</td>\n",
       "      <td>0.000000</td>\n",
       "      <td>1.970000</td>\n",
       "      <td>1.000000</td>\n",
       "      <td>15.000000</td>\n",
       "      <td>...</td>\n",
       "      <td>0.000000</td>\n",
       "      <td>0.000000</td>\n",
       "      <td>0.000000</td>\n",
       "      <td>0.000000</td>\n",
       "      <td>0.0</td>\n",
       "      <td>0.0</td>\n",
       "      <td>0.0</td>\n",
       "      <td>0.0</td>\n",
       "      <td>1.0</td>\n",
       "      <td>0.0</td>\n",
       "    </tr>\n",
       "    <tr>\n",
       "      <th>25%</th>\n",
       "      <td>17078.000000</td>\n",
       "      <td>40.000000</td>\n",
       "      <td>19.870000</td>\n",
       "      <td>1.047000</td>\n",
       "      <td>1.009000</td>\n",
       "      <td>4.820000</td>\n",
       "      <td>26.990000</td>\n",
       "      <td>3.220000</td>\n",
       "      <td>22.710000</td>\n",
       "      <td>60.000000</td>\n",
       "      <td>...</td>\n",
       "      <td>0.000000</td>\n",
       "      <td>0.000000</td>\n",
       "      <td>0.000000</td>\n",
       "      <td>0.000000</td>\n",
       "      <td>0.0</td>\n",
       "      <td>0.0</td>\n",
       "      <td>0.0</td>\n",
       "      <td>0.0</td>\n",
       "      <td>1.0</td>\n",
       "      <td>0.0</td>\n",
       "    </tr>\n",
       "    <tr>\n",
       "      <th>50%</th>\n",
       "      <td>32505.000000</td>\n",
       "      <td>81.000000</td>\n",
       "      <td>20.820000</td>\n",
       "      <td>1.050000</td>\n",
       "      <td>1.011000</td>\n",
       "      <td>5.140000</td>\n",
       "      <td>33.080000</td>\n",
       "      <td>3.650000</td>\n",
       "      <td>28.390000</td>\n",
       "      <td>60.000000</td>\n",
       "      <td>...</td>\n",
       "      <td>1.000000</td>\n",
       "      <td>0.000000</td>\n",
       "      <td>0.000000</td>\n",
       "      <td>0.000000</td>\n",
       "      <td>0.0</td>\n",
       "      <td>0.0</td>\n",
       "      <td>0.0</td>\n",
       "      <td>0.0</td>\n",
       "      <td>1.0</td>\n",
       "      <td>0.0</td>\n",
       "    </tr>\n",
       "    <tr>\n",
       "      <th>75%</th>\n",
       "      <td>51330.000000</td>\n",
       "      <td>81.000000</td>\n",
       "      <td>25.550000</td>\n",
       "      <td>1.055000</td>\n",
       "      <td>1.014000</td>\n",
       "      <td>5.600000</td>\n",
       "      <td>39.820000</td>\n",
       "      <td>4.420000</td>\n",
       "      <td>32.180000</td>\n",
       "      <td>90.000000</td>\n",
       "      <td>...</td>\n",
       "      <td>1.000000</td>\n",
       "      <td>0.000000</td>\n",
       "      <td>0.000000</td>\n",
       "      <td>0.000000</td>\n",
       "      <td>0.0</td>\n",
       "      <td>0.0</td>\n",
       "      <td>0.0</td>\n",
       "      <td>0.0</td>\n",
       "      <td>1.0</td>\n",
       "      <td>0.0</td>\n",
       "    </tr>\n",
       "    <tr>\n",
       "      <th>max</th>\n",
       "      <td>73630.000000</td>\n",
       "      <td>81.000000</td>\n",
       "      <td>2200.000000</td>\n",
       "      <td>14.499200</td>\n",
       "      <td>3.909490</td>\n",
       "      <td>10.380000</td>\n",
       "      <td>453.900000</td>\n",
       "      <td>39.740000</td>\n",
       "      <td>2200.000000</td>\n",
       "      <td>120.000000</td>\n",
       "      <td>...</td>\n",
       "      <td>1.000000</td>\n",
       "      <td>1.000000</td>\n",
       "      <td>1.000000</td>\n",
       "      <td>1.000000</td>\n",
       "      <td>0.0</td>\n",
       "      <td>0.0</td>\n",
       "      <td>0.0</td>\n",
       "      <td>0.0</td>\n",
       "      <td>1.0</td>\n",
       "      <td>0.0</td>\n",
       "    </tr>\n",
       "  </tbody>\n",
       "</table>\n",
       "<p>8 rows × 26 columns</p>\n",
       "</div>"
      ],
      "text/plain": [
       "             BeerID     StyleID      Size(L)          OG          FG  \\\n",
       "count    673.000000  673.000000   673.000000  673.000000  673.000000   \n",
       "mean   34231.277860   68.389302    46.583952    1.343478    1.051265   \n",
       "std    21083.220767   18.935197   164.328126    1.821202    0.270018   \n",
       "min       45.000000   40.000000     3.790000    1.024000    1.003000   \n",
       "25%    17078.000000   40.000000    19.870000    1.047000    1.009000   \n",
       "50%    32505.000000   81.000000    20.820000    1.050000    1.011000   \n",
       "75%    51330.000000   81.000000    25.550000    1.055000    1.014000   \n",
       "max    73630.000000   81.000000  2200.000000   14.499200    3.909490   \n",
       "\n",
       "              ABV         IBU       Color     BoilSize    BoilTime  ...    \\\n",
       "count  673.000000  673.000000  673.000000   673.000000  673.000000  ...     \n",
       "mean     5.286939   33.786256    4.235260    50.152927   71.190193  ...     \n",
       "std      0.852906   20.633869    2.518713   164.631234   15.374185  ...     \n",
       "min      2.520000    0.000000    1.970000     1.000000   15.000000  ...     \n",
       "25%      4.820000   26.990000    3.220000    22.710000   60.000000  ...     \n",
       "50%      5.140000   33.080000    3.650000    28.390000   60.000000  ...     \n",
       "75%      5.600000   39.820000    4.420000    32.180000   90.000000  ...     \n",
       "max     10.380000  453.900000   39.740000  2200.000000  120.000000  ...     \n",
       "\n",
       "        All Grain        BIAB  Partial Mash     extract    IPA  Stout  Cider  \\\n",
       "count  673.000000  673.000000    673.000000  673.000000  673.0  673.0  673.0   \n",
       "mean     0.710253    0.150074      0.050520    0.089153    0.0    0.0    0.0   \n",
       "std      0.453982    0.357410      0.219178    0.285176    0.0    0.0    0.0   \n",
       "min      0.000000    0.000000      0.000000    0.000000    0.0    0.0    0.0   \n",
       "25%      0.000000    0.000000      0.000000    0.000000    0.0    0.0    0.0   \n",
       "50%      1.000000    0.000000      0.000000    0.000000    0.0    0.0    0.0   \n",
       "75%      1.000000    0.000000      0.000000    0.000000    0.0    0.0    0.0   \n",
       "max      1.000000    1.000000      1.000000    1.000000    0.0    0.0    0.0   \n",
       "\n",
       "       Lager  Pilsner  Wheat  \n",
       "count  673.0    673.0  673.0  \n",
       "mean     0.0      1.0    0.0  \n",
       "std      0.0      0.0    0.0  \n",
       "min      0.0      1.0    0.0  \n",
       "25%      0.0      1.0    0.0  \n",
       "50%      0.0      1.0    0.0  \n",
       "75%      0.0      1.0    0.0  \n",
       "max      0.0      1.0    0.0  \n",
       "\n",
       "[8 rows x 26 columns]"
      ]
     },
     "execution_count": 147,
     "metadata": {},
     "output_type": "execute_result"
    }
   ],
   "source": [
    "pilsner.describe()"
   ]
  },
  {
   "cell_type": "code",
   "execution_count": 148,
   "metadata": {},
   "outputs": [
    {
     "data": {
      "text/html": [
       "<div>\n",
       "<style scoped>\n",
       "    .dataframe tbody tr th:only-of-type {\n",
       "        vertical-align: middle;\n",
       "    }\n",
       "\n",
       "    .dataframe tbody tr th {\n",
       "        vertical-align: top;\n",
       "    }\n",
       "\n",
       "    .dataframe thead th {\n",
       "        text-align: right;\n",
       "    }\n",
       "</style>\n",
       "<table border=\"1\" class=\"dataframe\">\n",
       "  <thead>\n",
       "    <tr style=\"text-align: right;\">\n",
       "      <th></th>\n",
       "      <th>BeerID</th>\n",
       "      <th>StyleID</th>\n",
       "      <th>Size(L)</th>\n",
       "      <th>OG</th>\n",
       "      <th>FG</th>\n",
       "      <th>ABV</th>\n",
       "      <th>IBU</th>\n",
       "      <th>Color</th>\n",
       "      <th>BoilSize</th>\n",
       "      <th>BoilTime</th>\n",
       "      <th>...</th>\n",
       "      <th>All Grain</th>\n",
       "      <th>BIAB</th>\n",
       "      <th>Partial Mash</th>\n",
       "      <th>extract</th>\n",
       "      <th>IPA</th>\n",
       "      <th>Stout</th>\n",
       "      <th>Cider</th>\n",
       "      <th>Lager</th>\n",
       "      <th>Pilsner</th>\n",
       "      <th>Wheat</th>\n",
       "    </tr>\n",
       "  </thead>\n",
       "  <tbody>\n",
       "    <tr>\n",
       "      <th>count</th>\n",
       "      <td>1266.000000</td>\n",
       "      <td>1266.000000</td>\n",
       "      <td>1266.000000</td>\n",
       "      <td>1266.000000</td>\n",
       "      <td>1266.000000</td>\n",
       "      <td>1266.000000</td>\n",
       "      <td>1266.000000</td>\n",
       "      <td>1266.000000</td>\n",
       "      <td>1266.000000</td>\n",
       "      <td>1266.000000</td>\n",
       "      <td>...</td>\n",
       "      <td>1266.000000</td>\n",
       "      <td>1266.000000</td>\n",
       "      <td>1266.000000</td>\n",
       "      <td>1266.000000</td>\n",
       "      <td>1266.0</td>\n",
       "      <td>1266.0</td>\n",
       "      <td>1266.0</td>\n",
       "      <td>1266.0</td>\n",
       "      <td>1266.0</td>\n",
       "      <td>1266.0</td>\n",
       "    </tr>\n",
       "    <tr>\n",
       "      <th>mean</th>\n",
       "      <td>33554.004739</td>\n",
       "      <td>19.567930</td>\n",
       "      <td>39.310205</td>\n",
       "      <td>1.377728</td>\n",
       "      <td>1.063219</td>\n",
       "      <td>5.412441</td>\n",
       "      <td>26.427741</td>\n",
       "      <td>5.478934</td>\n",
       "      <td>44.510687</td>\n",
       "      <td>62.839652</td>\n",
       "      <td>...</td>\n",
       "      <td>0.637441</td>\n",
       "      <td>0.158768</td>\n",
       "      <td>0.050553</td>\n",
       "      <td>0.153239</td>\n",
       "      <td>0.0</td>\n",
       "      <td>0.0</td>\n",
       "      <td>0.0</td>\n",
       "      <td>0.0</td>\n",
       "      <td>0.0</td>\n",
       "      <td>1.0</td>\n",
       "    </tr>\n",
       "    <tr>\n",
       "      <th>std</th>\n",
       "      <td>20542.057129</td>\n",
       "      <td>27.902238</td>\n",
       "      <td>144.476555</td>\n",
       "      <td>2.057059</td>\n",
       "      <td>0.389480</td>\n",
       "      <td>1.192862</td>\n",
       "      <td>15.862430</td>\n",
       "      <td>3.410113</td>\n",
       "      <td>154.054077</td>\n",
       "      <td>10.927951</td>\n",
       "      <td>...</td>\n",
       "      <td>0.480929</td>\n",
       "      <td>0.365604</td>\n",
       "      <td>0.219169</td>\n",
       "      <td>0.360360</td>\n",
       "      <td>0.0</td>\n",
       "      <td>0.0</td>\n",
       "      <td>0.0</td>\n",
       "      <td>0.0</td>\n",
       "      <td>0.0</td>\n",
       "      <td>0.0</td>\n",
       "    </tr>\n",
       "    <tr>\n",
       "      <th>min</th>\n",
       "      <td>112.000000</td>\n",
       "      <td>14.000000</td>\n",
       "      <td>2.840000</td>\n",
       "      <td>1.000000</td>\n",
       "      <td>1.000000</td>\n",
       "      <td>0.000000</td>\n",
       "      <td>0.000000</td>\n",
       "      <td>0.000000</td>\n",
       "      <td>3.790000</td>\n",
       "      <td>0.000000</td>\n",
       "      <td>...</td>\n",
       "      <td>0.000000</td>\n",
       "      <td>0.000000</td>\n",
       "      <td>0.000000</td>\n",
       "      <td>0.000000</td>\n",
       "      <td>0.0</td>\n",
       "      <td>0.0</td>\n",
       "      <td>0.0</td>\n",
       "      <td>0.0</td>\n",
       "      <td>0.0</td>\n",
       "      <td>1.0</td>\n",
       "    </tr>\n",
       "    <tr>\n",
       "      <th>25%</th>\n",
       "      <td>15774.250000</td>\n",
       "      <td>14.000000</td>\n",
       "      <td>18.930000</td>\n",
       "      <td>1.048000</td>\n",
       "      <td>1.010000</td>\n",
       "      <td>4.830000</td>\n",
       "      <td>18.622500</td>\n",
       "      <td>3.890000</td>\n",
       "      <td>18.170000</td>\n",
       "      <td>60.000000</td>\n",
       "      <td>...</td>\n",
       "      <td>0.000000</td>\n",
       "      <td>0.000000</td>\n",
       "      <td>0.000000</td>\n",
       "      <td>0.000000</td>\n",
       "      <td>0.0</td>\n",
       "      <td>0.0</td>\n",
       "      <td>0.0</td>\n",
       "      <td>0.0</td>\n",
       "      <td>0.0</td>\n",
       "      <td>1.0</td>\n",
       "    </tr>\n",
       "    <tr>\n",
       "      <th>50%</th>\n",
       "      <td>32279.500000</td>\n",
       "      <td>14.000000</td>\n",
       "      <td>20.820000</td>\n",
       "      <td>1.051000</td>\n",
       "      <td>1.012000</td>\n",
       "      <td>5.240000</td>\n",
       "      <td>23.940000</td>\n",
       "      <td>4.575000</td>\n",
       "      <td>26.500000</td>\n",
       "      <td>60.000000</td>\n",
       "      <td>...</td>\n",
       "      <td>1.000000</td>\n",
       "      <td>0.000000</td>\n",
       "      <td>0.000000</td>\n",
       "      <td>0.000000</td>\n",
       "      <td>0.0</td>\n",
       "      <td>0.0</td>\n",
       "      <td>0.0</td>\n",
       "      <td>0.0</td>\n",
       "      <td>0.0</td>\n",
       "      <td>1.0</td>\n",
       "    </tr>\n",
       "    <tr>\n",
       "      <th>75%</th>\n",
       "      <td>51012.750000</td>\n",
       "      <td>15.000000</td>\n",
       "      <td>22.710000</td>\n",
       "      <td>1.056000</td>\n",
       "      <td>1.014000</td>\n",
       "      <td>5.647500</td>\n",
       "      <td>30.780000</td>\n",
       "      <td>5.730000</td>\n",
       "      <td>28.390000</td>\n",
       "      <td>60.000000</td>\n",
       "      <td>...</td>\n",
       "      <td>1.000000</td>\n",
       "      <td>0.000000</td>\n",
       "      <td>0.000000</td>\n",
       "      <td>0.000000</td>\n",
       "      <td>0.0</td>\n",
       "      <td>0.0</td>\n",
       "      <td>0.0</td>\n",
       "      <td>0.0</td>\n",
       "      <td>0.0</td>\n",
       "      <td>1.0</td>\n",
       "    </tr>\n",
       "    <tr>\n",
       "      <th>max</th>\n",
       "      <td>73494.000000</td>\n",
       "      <td>172.000000</td>\n",
       "      <td>2346.960000</td>\n",
       "      <td>29.586800</td>\n",
       "      <td>9.861370</td>\n",
       "      <td>12.800000</td>\n",
       "      <td>176.950000</td>\n",
       "      <td>40.000000</td>\n",
       "      <td>2405.630000</td>\n",
       "      <td>120.000000</td>\n",
       "      <td>...</td>\n",
       "      <td>1.000000</td>\n",
       "      <td>1.000000</td>\n",
       "      <td>1.000000</td>\n",
       "      <td>1.000000</td>\n",
       "      <td>0.0</td>\n",
       "      <td>0.0</td>\n",
       "      <td>0.0</td>\n",
       "      <td>0.0</td>\n",
       "      <td>0.0</td>\n",
       "      <td>1.0</td>\n",
       "    </tr>\n",
       "  </tbody>\n",
       "</table>\n",
       "<p>8 rows × 26 columns</p>\n",
       "</div>"
      ],
      "text/plain": [
       "             BeerID      StyleID      Size(L)           OG           FG  \\\n",
       "count   1266.000000  1266.000000  1266.000000  1266.000000  1266.000000   \n",
       "mean   33554.004739    19.567930    39.310205     1.377728     1.063219   \n",
       "std    20542.057129    27.902238   144.476555     2.057059     0.389480   \n",
       "min      112.000000    14.000000     2.840000     1.000000     1.000000   \n",
       "25%    15774.250000    14.000000    18.930000     1.048000     1.010000   \n",
       "50%    32279.500000    14.000000    20.820000     1.051000     1.012000   \n",
       "75%    51012.750000    15.000000    22.710000     1.056000     1.014000   \n",
       "max    73494.000000   172.000000  2346.960000    29.586800     9.861370   \n",
       "\n",
       "               ABV          IBU        Color     BoilSize     BoilTime  \\\n",
       "count  1266.000000  1266.000000  1266.000000  1266.000000  1266.000000   \n",
       "mean      5.412441    26.427741     5.478934    44.510687    62.839652   \n",
       "std       1.192862    15.862430     3.410113   154.054077    10.927951   \n",
       "min       0.000000     0.000000     0.000000     3.790000     0.000000   \n",
       "25%       4.830000    18.622500     3.890000    18.170000    60.000000   \n",
       "50%       5.240000    23.940000     4.575000    26.500000    60.000000   \n",
       "75%       5.647500    30.780000     5.730000    28.390000    60.000000   \n",
       "max      12.800000   176.950000    40.000000  2405.630000   120.000000   \n",
       "\n",
       "        ...      All Grain         BIAB  Partial Mash      extract     IPA  \\\n",
       "count   ...    1266.000000  1266.000000   1266.000000  1266.000000  1266.0   \n",
       "mean    ...       0.637441     0.158768      0.050553     0.153239     0.0   \n",
       "std     ...       0.480929     0.365604      0.219169     0.360360     0.0   \n",
       "min     ...       0.000000     0.000000      0.000000     0.000000     0.0   \n",
       "25%     ...       0.000000     0.000000      0.000000     0.000000     0.0   \n",
       "50%     ...       1.000000     0.000000      0.000000     0.000000     0.0   \n",
       "75%     ...       1.000000     0.000000      0.000000     0.000000     0.0   \n",
       "max     ...       1.000000     1.000000      1.000000     1.000000     0.0   \n",
       "\n",
       "        Stout   Cider   Lager  Pilsner   Wheat  \n",
       "count  1266.0  1266.0  1266.0   1266.0  1266.0  \n",
       "mean      0.0     0.0     0.0      0.0     1.0  \n",
       "std       0.0     0.0     0.0      0.0     0.0  \n",
       "min       0.0     0.0     0.0      0.0     1.0  \n",
       "25%       0.0     0.0     0.0      0.0     1.0  \n",
       "50%       0.0     0.0     0.0      0.0     1.0  \n",
       "75%       0.0     0.0     0.0      0.0     1.0  \n",
       "max       0.0     0.0     0.0      0.0     1.0  \n",
       "\n",
       "[8 rows x 26 columns]"
      ]
     },
     "execution_count": 148,
     "metadata": {},
     "output_type": "execute_result"
    }
   ],
   "source": [
    "wheat.describe()"
   ]
  },
  {
   "cell_type": "code",
   "execution_count": 149,
   "metadata": {},
   "outputs": [
    {
     "data": {
      "text/html": [
       "<div>\n",
       "<style scoped>\n",
       "    .dataframe tbody tr th:only-of-type {\n",
       "        vertical-align: middle;\n",
       "    }\n",
       "\n",
       "    .dataframe tbody tr th {\n",
       "        vertical-align: top;\n",
       "    }\n",
       "\n",
       "    .dataframe thead th {\n",
       "        text-align: right;\n",
       "    }\n",
       "</style>\n",
       "<table border=\"1\" class=\"dataframe\">\n",
       "  <thead>\n",
       "    <tr style=\"text-align: right;\">\n",
       "      <th></th>\n",
       "      <th>BeerID</th>\n",
       "      <th>StyleID</th>\n",
       "      <th>Size(L)</th>\n",
       "      <th>OG</th>\n",
       "      <th>FG</th>\n",
       "      <th>ABV</th>\n",
       "      <th>IBU</th>\n",
       "      <th>Color</th>\n",
       "      <th>BoilSize</th>\n",
       "      <th>BoilTime</th>\n",
       "      <th>...</th>\n",
       "      <th>All Grain</th>\n",
       "      <th>BIAB</th>\n",
       "      <th>Partial Mash</th>\n",
       "      <th>extract</th>\n",
       "      <th>IPA</th>\n",
       "      <th>Stout</th>\n",
       "      <th>Cider</th>\n",
       "      <th>Lager</th>\n",
       "      <th>Pilsner</th>\n",
       "      <th>Wheat</th>\n",
       "    </tr>\n",
       "  </thead>\n",
       "  <tbody>\n",
       "    <tr>\n",
       "      <th>count</th>\n",
       "      <td>4110.000000</td>\n",
       "      <td>4110.000000</td>\n",
       "      <td>4110.000000</td>\n",
       "      <td>4110.000000</td>\n",
       "      <td>4110.000000</td>\n",
       "      <td>4110.000000</td>\n",
       "      <td>4110.000000</td>\n",
       "      <td>4110.000000</td>\n",
       "      <td>4110.000000</td>\n",
       "      <td>4110.000000</td>\n",
       "      <td>...</td>\n",
       "      <td>4110.000000</td>\n",
       "      <td>4110.000000</td>\n",
       "      <td>4110.000000</td>\n",
       "      <td>4110.000000</td>\n",
       "      <td>4110.0</td>\n",
       "      <td>4110.0</td>\n",
       "      <td>4110.0</td>\n",
       "      <td>4110.0</td>\n",
       "      <td>4110.0</td>\n",
       "      <td>4110.0</td>\n",
       "    </tr>\n",
       "    <tr>\n",
       "      <th>mean</th>\n",
       "      <td>46944.824818</td>\n",
       "      <td>44.945742</td>\n",
       "      <td>70.027399</td>\n",
       "      <td>1.462944</td>\n",
       "      <td>1.077360</td>\n",
       "      <td>5.470027</td>\n",
       "      <td>29.612474</td>\n",
       "      <td>9.017710</td>\n",
       "      <td>76.825725</td>\n",
       "      <td>64.296107</td>\n",
       "      <td>...</td>\n",
       "      <td>0.678832</td>\n",
       "      <td>0.161557</td>\n",
       "      <td>0.036496</td>\n",
       "      <td>0.123114</td>\n",
       "      <td>0.0</td>\n",
       "      <td>0.0</td>\n",
       "      <td>0.0</td>\n",
       "      <td>1.0</td>\n",
       "      <td>0.0</td>\n",
       "      <td>0.0</td>\n",
       "    </tr>\n",
       "    <tr>\n",
       "      <th>std</th>\n",
       "      <td>19834.175089</td>\n",
       "      <td>53.251423</td>\n",
       "      <td>295.028539</td>\n",
       "      <td>2.237428</td>\n",
       "      <td>0.392781</td>\n",
       "      <td>2.042632</td>\n",
       "      <td>30.766238</td>\n",
       "      <td>9.365171</td>\n",
       "      <td>311.414630</td>\n",
       "      <td>14.762636</td>\n",
       "      <td>...</td>\n",
       "      <td>0.466982</td>\n",
       "      <td>0.368089</td>\n",
       "      <td>0.187544</td>\n",
       "      <td>0.328608</td>\n",
       "      <td>0.0</td>\n",
       "      <td>0.0</td>\n",
       "      <td>0.0</td>\n",
       "      <td>0.0</td>\n",
       "      <td>0.0</td>\n",
       "      <td>0.0</td>\n",
       "    </tr>\n",
       "    <tr>\n",
       "      <th>min</th>\n",
       "      <td>31.000000</td>\n",
       "      <td>8.000000</td>\n",
       "      <td>1.000000</td>\n",
       "      <td>1.000000</td>\n",
       "      <td>0.742709</td>\n",
       "      <td>0.000000</td>\n",
       "      <td>0.000000</td>\n",
       "      <td>0.000000</td>\n",
       "      <td>1.000000</td>\n",
       "      <td>0.000000</td>\n",
       "      <td>...</td>\n",
       "      <td>0.000000</td>\n",
       "      <td>0.000000</td>\n",
       "      <td>0.000000</td>\n",
       "      <td>0.000000</td>\n",
       "      <td>0.0</td>\n",
       "      <td>0.0</td>\n",
       "      <td>0.0</td>\n",
       "      <td>1.0</td>\n",
       "      <td>0.0</td>\n",
       "      <td>0.0</td>\n",
       "    </tr>\n",
       "    <tr>\n",
       "      <th>25%</th>\n",
       "      <td>33433.250000</td>\n",
       "      <td>9.000000</td>\n",
       "      <td>18.930000</td>\n",
       "      <td>1.047000</td>\n",
       "      <td>1.009000</td>\n",
       "      <td>4.710000</td>\n",
       "      <td>14.032500</td>\n",
       "      <td>3.700000</td>\n",
       "      <td>21.000000</td>\n",
       "      <td>60.000000</td>\n",
       "      <td>...</td>\n",
       "      <td>0.000000</td>\n",
       "      <td>0.000000</td>\n",
       "      <td>0.000000</td>\n",
       "      <td>0.000000</td>\n",
       "      <td>0.0</td>\n",
       "      <td>0.0</td>\n",
       "      <td>0.0</td>\n",
       "      <td>1.0</td>\n",
       "      <td>0.0</td>\n",
       "      <td>0.0</td>\n",
       "    </tr>\n",
       "    <tr>\n",
       "      <th>50%</th>\n",
       "      <td>50572.500000</td>\n",
       "      <td>9.000000</td>\n",
       "      <td>20.820000</td>\n",
       "      <td>1.052000</td>\n",
       "      <td>1.012000</td>\n",
       "      <td>5.245000</td>\n",
       "      <td>25.280000</td>\n",
       "      <td>5.460000</td>\n",
       "      <td>28.390000</td>\n",
       "      <td>60.000000</td>\n",
       "      <td>...</td>\n",
       "      <td>1.000000</td>\n",
       "      <td>0.000000</td>\n",
       "      <td>0.000000</td>\n",
       "      <td>0.000000</td>\n",
       "      <td>0.0</td>\n",
       "      <td>0.0</td>\n",
       "      <td>0.0</td>\n",
       "      <td>1.0</td>\n",
       "      <td>0.0</td>\n",
       "      <td>0.0</td>\n",
       "    </tr>\n",
       "    <tr>\n",
       "      <th>75%</th>\n",
       "      <td>63545.250000</td>\n",
       "      <td>88.000000</td>\n",
       "      <td>25.000000</td>\n",
       "      <td>1.060000</td>\n",
       "      <td>1.015000</td>\n",
       "      <td>5.960000</td>\n",
       "      <td>37.570000</td>\n",
       "      <td>10.562500</td>\n",
       "      <td>30.280000</td>\n",
       "      <td>60.000000</td>\n",
       "      <td>...</td>\n",
       "      <td>1.000000</td>\n",
       "      <td>0.000000</td>\n",
       "      <td>0.000000</td>\n",
       "      <td>0.000000</td>\n",
       "      <td>0.0</td>\n",
       "      <td>0.0</td>\n",
       "      <td>0.0</td>\n",
       "      <td>1.0</td>\n",
       "      <td>0.0</td>\n",
       "      <td>0.0</td>\n",
       "    </tr>\n",
       "    <tr>\n",
       "      <th>max</th>\n",
       "      <td>73849.000000</td>\n",
       "      <td>167.000000</td>\n",
       "      <td>7800.000000</td>\n",
       "      <td>23.431600</td>\n",
       "      <td>7.745770</td>\n",
       "      <td>53.810000</td>\n",
       "      <td>920.050000</td>\n",
       "      <td>50.000000</td>\n",
       "      <td>7800.000000</td>\n",
       "      <td>240.000000</td>\n",
       "      <td>...</td>\n",
       "      <td>1.000000</td>\n",
       "      <td>1.000000</td>\n",
       "      <td>1.000000</td>\n",
       "      <td>1.000000</td>\n",
       "      <td>0.0</td>\n",
       "      <td>0.0</td>\n",
       "      <td>0.0</td>\n",
       "      <td>1.0</td>\n",
       "      <td>0.0</td>\n",
       "      <td>0.0</td>\n",
       "    </tr>\n",
       "  </tbody>\n",
       "</table>\n",
       "<p>8 rows × 26 columns</p>\n",
       "</div>"
      ],
      "text/plain": [
       "             BeerID      StyleID      Size(L)           OG           FG  \\\n",
       "count   4110.000000  4110.000000  4110.000000  4110.000000  4110.000000   \n",
       "mean   46944.824818    44.945742    70.027399     1.462944     1.077360   \n",
       "std    19834.175089    53.251423   295.028539     2.237428     0.392781   \n",
       "min       31.000000     8.000000     1.000000     1.000000     0.742709   \n",
       "25%    33433.250000     9.000000    18.930000     1.047000     1.009000   \n",
       "50%    50572.500000     9.000000    20.820000     1.052000     1.012000   \n",
       "75%    63545.250000    88.000000    25.000000     1.060000     1.015000   \n",
       "max    73849.000000   167.000000  7800.000000    23.431600     7.745770   \n",
       "\n",
       "               ABV          IBU        Color     BoilSize     BoilTime  \\\n",
       "count  4110.000000  4110.000000  4110.000000  4110.000000  4110.000000   \n",
       "mean      5.470027    29.612474     9.017710    76.825725    64.296107   \n",
       "std       2.042632    30.766238     9.365171   311.414630    14.762636   \n",
       "min       0.000000     0.000000     0.000000     1.000000     0.000000   \n",
       "25%       4.710000    14.032500     3.700000    21.000000    60.000000   \n",
       "50%       5.245000    25.280000     5.460000    28.390000    60.000000   \n",
       "75%       5.960000    37.570000    10.562500    30.280000    60.000000   \n",
       "max      53.810000   920.050000    50.000000  7800.000000   240.000000   \n",
       "\n",
       "        ...      All Grain         BIAB  Partial Mash      extract     IPA  \\\n",
       "count   ...    4110.000000  4110.000000   4110.000000  4110.000000  4110.0   \n",
       "mean    ...       0.678832     0.161557      0.036496     0.123114     0.0   \n",
       "std     ...       0.466982     0.368089      0.187544     0.328608     0.0   \n",
       "min     ...       0.000000     0.000000      0.000000     0.000000     0.0   \n",
       "25%     ...       0.000000     0.000000      0.000000     0.000000     0.0   \n",
       "50%     ...       1.000000     0.000000      0.000000     0.000000     0.0   \n",
       "75%     ...       1.000000     0.000000      0.000000     0.000000     0.0   \n",
       "max     ...       1.000000     1.000000      1.000000     1.000000     0.0   \n",
       "\n",
       "        Stout   Cider   Lager  Pilsner   Wheat  \n",
       "count  4110.0  4110.0  4110.0   4110.0  4110.0  \n",
       "mean      0.0     0.0     1.0      0.0     0.0  \n",
       "std       0.0     0.0     0.0      0.0     0.0  \n",
       "min       0.0     0.0     1.0      0.0     0.0  \n",
       "25%       0.0     0.0     1.0      0.0     0.0  \n",
       "50%       0.0     0.0     1.0      0.0     0.0  \n",
       "75%       0.0     0.0     1.0      0.0     0.0  \n",
       "max       0.0     0.0     1.0      0.0     0.0  \n",
       "\n",
       "[8 rows x 26 columns]"
      ]
     },
     "execution_count": 149,
     "metadata": {},
     "output_type": "execute_result"
    }
   ],
   "source": [
    "lager.describe()"
   ]
  },
  {
   "cell_type": "code",
   "execution_count": null,
   "metadata": {
    "collapsed": true
   },
   "outputs": [],
   "source": []
  },
  {
   "cell_type": "code",
   "execution_count": null,
   "metadata": {
    "collapsed": true
   },
   "outputs": [],
   "source": []
  },
  {
   "cell_type": "markdown",
   "metadata": {
    "collapsed": true
   },
   "source": [
    "While color was the main indicator amongst 4 of the 6, other important features displayed was the PitchRate and the Sugar used for the beer as well.\n",
    "\n",
    "For future experiments I would like to examine what separates the styles of the IPAs. Does each unique IPA have a unique feature or do they all have the same unique feature altered."
   ]
  },
  {
   "cell_type": "code",
   "execution_count": null,
   "metadata": {
    "collapsed": true
   },
   "outputs": [],
   "source": []
  }
 ],
 "metadata": {
  "kernelspec": {
   "display_name": "Python 3",
   "language": "python",
   "name": "python3"
  },
  "language_info": {
   "codemirror_mode": {
    "name": "ipython",
    "version": 3
   },
   "file_extension": ".py",
   "mimetype": "text/x-python",
   "name": "python",
   "nbconvert_exporter": "python",
   "pygments_lexer": "ipython3",
   "version": "3.6.4"
  }
 },
 "nbformat": 4,
 "nbformat_minor": 2
}
